{
 "cells": [
  {
   "cell_type": "markdown",
   "id": "e8f1adf3",
   "metadata": {},
   "source": [
    "<a id='begin'></a>\n",
    "# Оглавление"
   ]
  },
  {
   "cell_type": "markdown",
   "id": "52223f9e",
   "metadata": {},
   "source": [
    "- ### [Импорт библиотек](#upload) \n",
    "    \n",
    "- ### [Коллаборативная фильтрация](#collaborative)\n",
    "    - [Предобработка данных](#collaborative_preprocessing)\n",
    "    - [Модель](#collaborative_model)\n",
    "    \n",
    "- ### [ALS - модель](#als)\n",
    "    - [Предобработка данных](#als_surprise_preprocessing)\n",
    "    - [Модель](#als_surprise_model)\n",
    "    \n",
    "- ### [Матричная факторизация и факторизационные машины](#factorization)\n",
    "\n",
    "- ### [Implicit ALS (Alternating Least Squares) - модель](#als_implicit)\n",
    "    - [Предобработка данных](#als_implicit_preprocessing)\n",
    "    - [Модель](#als_implicit_model)\n",
    "    \n",
    "- ### [GradientBoost Classifier](#gradient)\n",
    "    - [Предобработка данных](#gradient_preprocessing)\n",
    "    - [Модель](#gradient_model)\n",
    "    \n",
    "- ### [XGBoost](#xgboost)\n",
    "    - [Предобработка данных](#xgboost_preprocessing)\n",
    "    - [Модель](#xgboost_model)"
   ]
  },
  {
   "cell_type": "markdown",
   "id": "847255c5",
   "metadata": {},
   "source": [
    "<a id='upload'></a>\n",
    "## Импорт библиотек"
   ]
  },
  {
   "cell_type": "code",
   "execution_count": 1,
   "id": "dd9c46b3",
   "metadata": {},
   "outputs": [],
   "source": [
    "import pandas as pd\n",
    "import numpy as np\n",
    "\n",
    "import matplotlib.pyplot as plt\n",
    "import seaborn as sns\n",
    "\n",
    "import datetime\n",
    "\n",
    "import pickle"
   ]
  },
  {
   "cell_type": "markdown",
   "id": "c72ceb1a",
   "metadata": {},
   "source": [
    "Создадим пустой словарь для фиксации результата технических метрик."
   ]
  },
  {
   "cell_type": "code",
   "execution_count": 2,
   "id": "ee91c5ea",
   "metadata": {},
   "outputs": [],
   "source": [
    "rmse_score_dict = {}\n",
    "map_at_k_score_dict = {}"
   ]
  },
  {
   "cell_type": "markdown",
   "id": "baa42d14",
   "metadata": {},
   "source": [
    "Импорт двух датасетов:\n",
    "- df_events - очищенный датасет events с добавленными features (все).\n",
    "- df_temp - очищенный датасет events с добавленными features (только нужные) и данным о конечном результата взаимодействия между пользователем и товаром.\n",
    "- df_all_features - очищенный датасет events с добавленными features (все) и данным о конечном результата взаимодействия между пользователем и товаром.\n",
    "</br>\n",
    "</br>\n",
    "Далее у каждой модели закомментирован нужный модели датасет, для уменьшения нагрузки."
   ]
  },
  {
   "cell_type": "code",
   "execution_count": 3,
   "id": "7bb76c60",
   "metadata": {},
   "outputs": [],
   "source": [
    "# df_events = pd.read_csv('df_events.csv', sep = ';').drop(columns = ['Unnamed: 0'])\n",
    "# df_temp = pd.read_csv('df_temp.csv', sep = ';').drop(columns = ['Unnamed: 0'])\n",
    "# df_all_features = pd.read_csv('df_temp_features.csv', sep = ';').drop(columns = ['Unnamed: 0'])"
   ]
  },
  {
   "cell_type": "markdown",
   "id": "1211f149",
   "metadata": {},
   "source": [
    "<a id='collaborative'></a>\n",
    "# Коллаборативная фильтрация"
   ]
  },
  {
   "cell_type": "markdown",
   "id": "f936d5dd",
   "metadata": {},
   "source": [
    "Коллаборативная фильтрация (CF - collaborative filtering) - метод построения прогноза на основе предыдущих действий пользователя (user) по отношению к продукту (item). Измененная форма модели позволяет делать прогноз, используя схожесть товаров по отношению к товару, которому пользователь поставил оценку.\n",
    "\n",
    "### Коллаборативная фильтрация: item-based\n",
    "\n",
    "<i><b>Item-based filtering</b></i> (a.k.a Item-Item или Item-to-Item) - позволяет поставить оценку товару, используя среднюю взвешенную оценку похожих товаров, с которыми взаимодействовали пользователи:\n",
    "</br>\n",
    "</br>\n",
    "$$\\hat{r}_{ui} = \\mu_i + \\dfrac {\\sum_{j \\in N_k^u(i)} \\text{sim}(i, j) \\cdot (\\hat{r}_{ui} - \\mu_i)} {\\sum_{j \\in N_k^u(i)} sim(i, j)}$$\n",
    "</br>\n",
    "</br>\n",
    "Почему Item-based filtering подходит в нашем случае? \n",
    "- Item-based filtering используется чаще, чем user-based filtering, из-за динамической природы данных о самих пользователей. </br>Item менее подвержен изменениям и потребность в повторных тренировок модели отпадает.\n",
    "- Мы имеем большой датасет с наличием большого перевеса невостребованных товаров (смотрят, но не покупают). </br>При тренировки модели на user-based фильтрации мы получим матрицу большой размерности, которая в свою очередь не сможет быть обработана моделью (Memory-bound).\n",
    "- Для явных данных, как в нашем случае, модели коллаборативной фильтрации, с алгоритмами семейства ближайших соседей, хорошо подходят.\n",
    "</br>\n",
    "</br>\n",
    "Для определения схожести чаще используют два способа: <i><b>коэффициент корреляции Пирсона</b></i> или <i><b>косинусное расстояние</b></i>. \n",
    "</br>Мы будем использовать косинусное расстояние:\n",
    "</br>\n",
    "</br>\n",
    "$$\\cos(0) = \\dfrac {A \\times B}{||A||||B||} = \\dfrac {\\sum_{i=1}^{n} A_{i} \\times B_{i}}{\\sqrt{\\sum_{i=1}^{n} (A_{i})^2} \\sqrt{\\sum_{i=1}^{n} (B_{i})^2}}$$\n",
    "</br>\n",
    "</br>\n",
    "Для оценки качества будем использовать установленную в библиотеку surprise метрику RMSE (Root Mean Squared Error):\n",
    "</br>\n",
    "</br>\n",
    "$$\\text{RMSE} = \\sqrt{\\dfrac {1}{|\\hat{R}|}\\sum_{\\hat{r}_{ui} \\in \\hat{R}}(\\hat{r}_{ui} - \\mu_i)^2}$$"
   ]
  },
  {
   "cell_type": "markdown",
   "id": "28f956a7",
   "metadata": {},
   "source": [
    "## Датасет"
   ]
  },
  {
   "cell_type": "code",
   "execution_count": 93,
   "id": "2345aeb9",
   "metadata": {},
   "outputs": [],
   "source": [
    "df_events = pd.read_csv('df_events.csv', sep = ';').drop(columns = ['Unnamed: 0'])\n",
    "\n",
    "df_events = df_events[df_events['visitorid'] < 20000]"
   ]
  },
  {
   "cell_type": "markdown",
   "id": "bcac882a",
   "metadata": {},
   "source": [
    "<a id='collaborative_preprocessing'></a>\n",
    "## Предобработка данных"
   ]
  },
  {
   "cell_type": "markdown",
   "id": "d72ddfc0",
   "metadata": {},
   "source": [
    "Загрузим нужные нам модули из библиотеки surprise."
   ]
  },
  {
   "cell_type": "code",
   "execution_count": 94,
   "id": "3508e991",
   "metadata": {},
   "outputs": [],
   "source": [
    "from surprise import KNNWithMeans, KNNBasic\n",
    "from surprise import Dataset\n",
    "from surprise import accuracy\n",
    "from surprise import Reader\n",
    "from surprise.model_selection import train_test_split"
   ]
  },
  {
   "cell_type": "markdown",
   "id": "10cc6afb",
   "metadata": {},
   "source": [
    "Преобразуем категориальные переменные в численные."
   ]
  },
  {
   "cell_type": "code",
   "execution_count": 95,
   "id": "f283d04e",
   "metadata": {},
   "outputs": [],
   "source": [
    "# Creating new column - rating\n",
    "df_events['rating'] = df_events['event'].apply(lambda x: 1.0 if str(x) == 'view' else (2.0 if str(x) == 'addtocart' else 3.0))"
   ]
  },
  {
   "cell_type": "markdown",
   "id": "b3676a2e",
   "metadata": {},
   "source": [
    "Удалим лишние столбцы, оставив только visitorid, itemid и rating."
   ]
  },
  {
   "cell_type": "code",
   "execution_count": 96,
   "id": "f89ae794",
   "metadata": {},
   "outputs": [],
   "source": [
    "# Drop unnecessary columns\n",
    "user_item = df_events.copy()\n",
    "user_item.drop(columns = ['event', 'addtocart', 'date', 'datetime', 'day', 'day_of_week',\n",
    "                          'day_of_week_1', 'day_of_week_2', 'day_of_week_3', 'day_of_week_4',\n",
    "                          'day_of_week_5', 'day_of_week_6', 'day_of_week_7', 'day_period', \n",
    "                          'hour', 'minute', 'month', 'timestamp', 'transaction',\n",
    "                          'transactionid', 'view', 'year'], inplace = True)"
   ]
  },
  {
   "cell_type": "markdown",
   "id": "20f7fd45",
   "metadata": {},
   "source": [
    "Библиотека surprise имеет свои внутрение правила распознания признаков. Необходимо переименовать нужные нам признаки."
   ]
  },
  {
   "cell_type": "code",
   "execution_count": 97,
   "id": "1fb4638b",
   "metadata": {},
   "outputs": [],
   "source": [
    "# Rename columns (surprise rules)\n",
    "dataset = user_item.rename(columns = {\n",
    "    \"visitorid\": \"uid\",\n",
    "    \"itemid\": \"iid\",\n",
    "    \"event_count\": \"rating\"})"
   ]
  },
  {
   "cell_type": "markdown",
   "id": "71ecfc40",
   "metadata": {},
   "source": [
    "Меняем тип данных признаков."
   ]
  },
  {
   "cell_type": "code",
   "execution_count": 98,
   "id": "7e40952f",
   "metadata": {},
   "outputs": [],
   "source": [
    "# Change column types\n",
    "dataset['rating'] = dataset['rating'].astype(float)\n",
    "dataset['uid'] = dataset['uid'].astype(float)\n",
    "dataset['iid'] = dataset['iid'].astype(object)\n",
    "\n",
    "fig, ax = plt.subplots(figsize = (5, 2))\n",
    "plt.hist(dataset['rating'])"
   ]
  },
  {
   "cell_type": "markdown",
   "id": "527a4e6e",
   "metadata": {},
   "source": [
    "Сократим кол-во items: оставим items, которые хотя бы раз получали рейтинг = 3 (были приобретены) или = 2 (были добавлены в корзину)."
   ]
  },
  {
   "cell_type": "code",
   "execution_count": 99,
   "id": "c685662e",
   "metadata": {
    "scrolled": true
   },
   "outputs": [],
   "source": [
    "# items_id = []\n",
    "# for i in dataset[(dataset['rating'] == 3.0) | (dataset['rating'] == 2.0)].index:\n",
    "#     items_id.append(dataset['iid'][i])\n",
    "    \n",
    "# dataset = dataset[(dataset['iid'].isin(items_id))]\n",
    "\n",
    "# fig, ax = plt.subplots(figsize = (5, 2))\n",
    "# plt.hist(dataset['rating'])"
   ]
  },
  {
   "cell_type": "markdown",
   "id": "851ffe1b",
   "metadata": {},
   "source": [
    "Следующий код оставляет лишь те товары, которые были приобретены более 10-ти раз.\n",
    "</br>\n",
    "В связи с ухудшением результата метрики RMSE ограничения были в дальнейшем не использован."
   ]
  },
  {
   "cell_type": "code",
   "execution_count": 100,
   "id": "1f1ab2f1",
   "metadata": {},
   "outputs": [],
   "source": [
    "# iid_df = pd.DataFrame(dataset[dataset['rating'] == 3.0].groupby(['iid'])['uid'].count().sort_values()).reset_index()\n",
    "# iid_list = list(iid_df['iid'][iid_df['uid'] >= 3])\n",
    "\n",
    "# dataset = dataset[dataset['iid'].isin(iid_list)]\n",
    "\n",
    "#fig, ax = plt.subplots(figsize = (5, 2))\n",
    "#plt.hist(dataset['rating'])"
   ]
  },
  {
   "cell_type": "markdown",
   "id": "63b24425",
   "metadata": {},
   "source": [
    "Следующий код рандомно сокращает датасет, записи которого имеют по столбцу \"rating\" значение = 1.0.\n",
    "</br>\n",
    "В связи с ухудшением результата метрики RMSE ограничения были в дальнейшем не использован."
   ]
  },
  {
   "cell_type": "code",
   "execution_count": 101,
   "id": "c3dc6486",
   "metadata": {},
   "outputs": [],
   "source": [
    "# np.random.seed(10)\n",
    "\n",
    "# multiplier = 0.5\n",
    "\n",
    "# remove_n = int(np.round(len(dataset[dataset['rating'] == 1.0]\n",
    "#                            ) - ((len(dataset[dataset['rating'] == 3.0]\n",
    "#                                     ) + (len(dataset[dataset['rating'] == 2.0])\n",
    "#                                         ) ))* multiplier))\n",
    "# score_zero = dataset[dataset['rating'] == 1.0]\n",
    "\n",
    "# drop_indices = np.random.choice(score_zero.index, remove_n, replace=False)\n",
    "# df_zero = score_zero.drop(drop_indices)\n",
    "# df_one = dataset[(dataset['rating'] == 3.0) | (dataset['rating'] == 2.0)]\n",
    "\n",
    "# dataset = df_one.append(df_zero).reset_index(drop = True)\n",
    "# dataset = dataset.sample(frac = 1).reset_index(drop = True)"
   ]
  },
  {
   "cell_type": "markdown",
   "id": "dbd2ffb9",
   "metadata": {},
   "source": [
    "Устанавливаем срез рейтинга."
   ]
  },
  {
   "cell_type": "code",
   "execution_count": 102,
   "id": "b11da165",
   "metadata": {},
   "outputs": [],
   "source": [
    "# Creating the target value range\n",
    "reader = Reader(rating_scale=(1.0, 3.0))\n",
    "data = Dataset.load_from_df(dataset, reader)"
   ]
  },
  {
   "cell_type": "markdown",
   "id": "c1be7b69",
   "metadata": {},
   "source": [
    "Делим датасет на тренировочную и тестовую выборки."
   ]
  },
  {
   "cell_type": "code",
   "execution_count": 103,
   "id": "659ff762",
   "metadata": {},
   "outputs": [],
   "source": [
    "# Split dataset into train and test\n",
    "trainset, testset = train_test_split(data, test_size=0.15)"
   ]
  },
  {
   "cell_type": "markdown",
   "id": "d13bc66d",
   "metadata": {},
   "source": [
    "<a id='collaborative_model'></a>\n",
    "## Модель"
   ]
  },
  {
   "cell_type": "markdown",
   "id": "3d77773a",
   "metadata": {},
   "source": [
    "### Настройка модели:\n",
    "- Для модели выбираем алгоритм <i><b>KNNWithMeans</b></i> семейства K-NN (K-Nearest Neighbors).\n",
    "</br> <i><b>KNNWithMeans</b></i> считает среднюю взвешенную оценку item.\n",
    "- Тренируем модель на <i><b>k объектов = 50</b></i>. \n",
    "- Используем косинусное расстояние (<i><b>name = 'cosine'</b></i>), для определения схожести.\n",
    "</br> Эксперемент использования метрик \"схожести\" объектов показал лучший результат на использование метрики <i><b>cosine</b></i>.\n",
    "</br> pearson_baseline более привычен для user-based фильтрации.\n",
    "- Не забудем указать <i><b>'user_based': False</b></i>, т.к. собираемся использовать item-based фильтрацию."
   ]
  },
  {
   "cell_type": "code",
   "execution_count": 104,
   "id": "2fc994c4",
   "metadata": {},
   "outputs": [],
   "source": [
    "# Train our model\n",
    "algo = KNNWithMeans(k=50, sim_options={'name': 'cosine', 'user_based': False})"
   ]
  },
  {
   "cell_type": "code",
   "execution_count": 105,
   "id": "bf2cf263",
   "metadata": {},
   "outputs": [],
   "source": [
    "algo.fit(trainset)"
   ]
  },
  {
   "cell_type": "markdown",
   "id": "dc08ac48",
   "metadata": {},
   "source": [
    "Предсказываем значения на тестовой выборке."
   ]
  },
  {
   "cell_type": "code",
   "execution_count": 106,
   "id": "d220548b",
   "metadata": {},
   "outputs": [],
   "source": [
    "# Predict values for the test\n",
    "test_pred = algo.test(testset)"
   ]
  },
  {
   "cell_type": "markdown",
   "id": "2d54e4d7",
   "metadata": {},
   "source": [
    "## RMSE"
   ]
  },
  {
   "cell_type": "markdown",
   "id": "f74b1774",
   "metadata": {},
   "source": [
    "Считаем RMSE."
   ]
  },
  {
   "cell_type": "code",
   "execution_count": 107,
   "id": "73171e67",
   "metadata": {},
   "outputs": [],
   "source": [
    "# Calculating RMSE metric\n",
    "collaborative_score = accuracy.rmse(test_pred, verbose=True)\n",
    "rmse_score_dict['collaborative'] = round(collaborative_score, 2)\n",
    "collaborative_score"
   ]
  },
  {
   "cell_type": "markdown",
   "id": "91f4fceb",
   "metadata": {},
   "source": [
    "## MAP@K"
   ]
  },
  {
   "cell_type": "markdown",
   "id": "3b1beb51",
   "metadata": {},
   "source": [
    "Метрика MAP@K предполагает, что мы уже знакомы с выбором пользователя, а значит, нам известны оценки пользователя для рекомендованных товаров. Значит метрику мы будем использовать по отношению к предсказаниям модели."
   ]
  },
  {
   "cell_type": "code",
   "execution_count": 108,
   "id": "1dbb5061",
   "metadata": {},
   "outputs": [],
   "source": [
    "user_num = 10\n",
    "# Select users, that buyed an item and watched|added other items \n",
    "temp_uid = dataset['uid'][dataset['rating'] == 3].unique()\n",
    "temp_uid = pd.DataFrame(dataset[dataset['uid'].isin(temp_uid)\n",
    "                               ].groupby('uid')['iid'].count()\n",
    "                       ).reset_index().sort_values('iid', ascending = False)\n",
    "\n",
    "# Choose Top-3 users in user interaction with item category\n",
    "user_id = list(temp_uid[:user_num]['uid'])\n",
    "temp_dict = {}\n",
    "final_df = pd.DataFrame(columns = ['iid', 'rating_pred', 'rating'])\n",
    "\n",
    "for user in user_id:\n",
    "    # Predict recommendations for the top user\n",
    "    for itemid in dataset['iid'][dataset['uid'] == user].unique():\n",
    "        temp_dict[itemid] = algo.predict(uid=user, iid=itemid).est\n",
    "    \n",
    "    # Sort by the predictions rating\n",
    "    temp_df = pd.DataFrame(pd.Series(temp_dict)\n",
    "                          ).sort_values(0, ascending = False\n",
    "                                       ).reset_index().rename(columns = {0 : 'rating_pred', 'index':'iid'})\n",
    "    \n",
    "    # Round the prediction rating\n",
    "    temp_df['rating_pred'] = temp_df['rating_pred'].apply(lambda x: round(x))\n",
    "    \n",
    "    temp_df1 = pd.DataFrame(pd.Series(dataset[dataset['uid'] == user].groupby('iid')['rating'].max())).reset_index()\n",
    "\n",
    "    # Merge together predicted rating and the true rating\n",
    "    temp_df = pd.merge(temp_df, temp_df1, on = 'iid', how = 'left')\n",
    "    temp_df['uid'] = user\n",
    "    final_df = pd.concat([final_df, temp_df])"
   ]
  },
  {
   "cell_type": "code",
   "execution_count": 109,
   "id": "026e8853",
   "metadata": {},
   "outputs": [],
   "source": [
    "class mapak():\n",
    "    def __init__(self, df, col, user_col, prediction_col, users_list):\n",
    "        self.df = df\n",
    "        self.col = col\n",
    "        self.user_col = user_col\n",
    "        self.prediction_col = prediction_col\n",
    "        self.users_list = users_list\n",
    "    \n",
    "    # Mean Average Precision at K - score each individual\n",
    "    def mapak_score(self, df, col):\n",
    "        y_true = df[df[self.col] == 1]\n",
    "\n",
    "        prediction_score = 0\n",
    "        running_sum = 0\n",
    "\n",
    "        for i, v in enumerate(df[self.col]):\n",
    "            k = i+1\n",
    "            if v == 1:\n",
    "                prediction_score += 1\n",
    "                running_sum += prediction_score/k\n",
    "            else:\n",
    "                prediction_score += 0\n",
    "                running_sum += 0\n",
    "        try:        \n",
    "            return running_sum/len(y_true)\n",
    "        except:\n",
    "            return 0\n",
    "    \n",
    "    # Count the score for each user\n",
    "    def mapak_count_score(self):\n",
    "        temp_mapak_list = []\n",
    "\n",
    "        for user in self.users_list:\n",
    "            temp_df = self.df[self.df[self.user_col] == user].sort_values(self.prediction_col, ascending = False).head(3)\n",
    "            temp_df['rating'] = temp_df['rating'].fillna(0).astype(int)\n",
    "            temp_df['map'] = temp_df[self.prediction_col] - temp_df['rating'].astype(int)\n",
    "            temp_df['map'] = temp_df['map'].apply(lambda x: 1 if x == 0 else 0)\n",
    "            temp_mapak_list.append(self.mapak_score(temp_df, 'map'))\n",
    "\n",
    "        return round(sum(temp_mapak_list) / len(self.users_list), 2)"
   ]
  },
  {
   "cell_type": "markdown",
   "id": "4c55a496",
   "metadata": {},
   "source": [
    "Добавим MAP@K оценку в наш, заранее созданный, словарь."
   ]
  },
  {
   "cell_type": "code",
   "execution_count": 110,
   "id": "a7109990",
   "metadata": {
    "scrolled": false
   },
   "outputs": [],
   "source": [
    "map_at_k_score_dict['collaborative'] = mapak(final_df, 'map', 'uid', 'rating_pred', user_id).mapak_count_score()\n",
    "map_at_k_score_dict"
   ]
  },
  {
   "cell_type": "markdown",
   "id": "2d803399",
   "metadata": {},
   "source": [
    "## Сохранение модели"
   ]
  },
  {
   "cell_type": "markdown",
   "id": "774329ef",
   "metadata": {},
   "source": [
    "Сохраним модель для дальнейшего использования."
   ]
  },
  {
   "cell_type": "code",
   "execution_count": null,
   "id": "e7c74f53",
   "metadata": {},
   "outputs": [],
   "source": [
    "# # SAVE\n",
    "# pickle.dump(algo, open('collaborative_model.pkl', 'wb'))\n",
    "\n",
    "# # LOAD\n",
    "# collaborative_model = pickle.load(open('collaborative_model.pkl', 'rb'))\n",
    "# test_pred = collaborative_model.test(testset)"
   ]
  },
  {
   "cell_type": "markdown",
   "id": "f2458267",
   "metadata": {},
   "source": [
    "## Рекомендации"
   ]
  },
  {
   "cell_type": "markdown",
   "id": "3498527a",
   "metadata": {},
   "source": [
    "Создадим переменную в которой будем хранить нашшу матрицу схожести (similarity matrix). С помощью нее мы сможем выгружать рекомендации пользователю."
   ]
  },
  {
   "cell_type": "code",
   "execution_count": 101,
   "id": "05e090fe",
   "metadata": {},
   "outputs": [
    {
     "name": "stdout",
     "output_type": "stream",
     "text": [
      "Computing the cosine similarity matrix...\n",
      "Done computing similarity matrix.\n"
     ]
    }
   ],
   "source": [
    "similarity_matrix = algo.compute_similarities()"
   ]
  },
  {
   "cell_type": "markdown",
   "id": "e27cb253",
   "metadata": {},
   "source": [
    "Рандомно выберем пользователя, который никогда не совершал действия \"addtocart\" и \"transaction\"."
   ]
  },
  {
   "cell_type": "code",
   "execution_count": 64,
   "id": "26f4ea0c",
   "metadata": {},
   "outputs": [],
   "source": [
    "# test_subject_choosen = False\n",
    "# while test_subject_choosen is not True:\n",
    "#     try:\n",
    "#         u_rating_1 = dataset[dataset['rating'] == 1.0]\n",
    "#         u_rating_2_3 = list(dataset['uid'][(dataset['rating'] == 3.0) | (dataset['rating'] == 2.0)].unique())\n",
    "#         u_rating_1 = u_rating_1[~u_rating_1['uid'].isin(u_rating_2_3)]\n",
    "\n",
    "#         #test_subject = int(np.random.choice(u_rating_1['uid'], 1, replace=False)[0])\n",
    "#         test_subject = 420\n",
    "\n",
    "#         k = 10\n",
    "\n",
    "#         test_subject_iid = trainset.to_inner_uid(test_subject)\n",
    "\n",
    "#         test_subject_ratings = trainset.ur[test_subject_iid]\n",
    "#         test_subject_choosen = True\n",
    "#     except:\n",
    "#         test_subject_choosen = False\n",
    "#         continue"
   ]
  },
  {
   "cell_type": "markdown",
   "id": "33b4556a",
   "metadata": {},
   "source": [
    "Тестируем на списке, заготовленным ранее."
   ]
  },
  {
   "cell_type": "code",
   "execution_count": 102,
   "id": "f4b0d04b",
   "metadata": {},
   "outputs": [],
   "source": [
    "test_subject_choosen = False\n",
    "while test_subject_choosen is not True:\n",
    "    try:\n",
    "        #u_rating_1 = dataset[dataset['rating'] == 1.0]\n",
    "        #u_rating_2_3 = list(dataset['uid'][(dataset['rating'] == 3.0) | (dataset['rating'] == 2.0)].unique())\n",
    "        #u_rating_1 = u_rating_1[~u_rating_1['uid'].isin(u_rating_2_3)]\n",
    "\n",
    "        #test_subject = int(np.random.choice(u_rating_1['uid'], 1, replace=False)[0])\n",
    "        test_subject = 17676\n",
    "\n",
    "        k = 10\n",
    "\n",
    "        test_subject_iid = trainset.to_inner_uid(test_subject)\n",
    "\n",
    "        test_subject_ratings = trainset.ur[test_subject_iid]\n",
    "        test_subject_choosen = True\n",
    "    except:\n",
    "        test_subject_choosen = False\n",
    "        continue"
   ]
  },
  {
   "cell_type": "code",
   "execution_count": 103,
   "id": "a685fe18",
   "metadata": {},
   "outputs": [],
   "source": [
    "import heapq\n",
    "from collections import defaultdict\n",
    "\n",
    "k_neighbors = heapq.nlargest(k, test_subject_ratings, key=lambda t: t[1])"
   ]
  },
  {
   "cell_type": "code",
   "execution_count": 104,
   "id": "1d97ec2f",
   "metadata": {},
   "outputs": [],
   "source": [
    "candidates = defaultdict(float)\n",
    "\n",
    "for itemid, rating in k_neighbors:\n",
    "    try:\n",
    "        similaritities = similarity_matrix[itemid]\n",
    "        for innerid, score in enumerate(similaritities):\n",
    "            candidates[innerid] += score * (rating / 5.0)\n",
    "    except:\n",
    "        continue"
   ]
  },
  {
   "cell_type": "markdown",
   "id": "a696a1c4",
   "metadata": {},
   "source": [
    "Выгрузим itemid, которые мы рекомендуем пользоватлю."
   ]
  },
  {
   "cell_type": "code",
   "execution_count": 105,
   "id": "cc9893f4",
   "metadata": {},
   "outputs": [
    {
     "name": "stdout",
     "output_type": "stream",
     "text": [
      "Для пользователя 17676 мы рекомендуем следующие товары: [378591, 441248, 371479]\n"
     ]
    }
   ],
   "source": [
    "from operator import itemgetter\n",
    "\n",
    "rec_num = 3\n",
    "\n",
    "# Build a dictionary of movies the user has watched\n",
    "watched = {}\n",
    "for itemid, rating in trainset.ur[test_subject_iid]:\n",
    "    watched[itemid] = 1\n",
    "\n",
    "# Add items to list of user's recommendations\n",
    "# If they are similar to their favorite movies,\n",
    "# AND have not already been watched.\n",
    "recommendations = []\n",
    "\n",
    "position = 0\n",
    "for itemid, rating_sum in sorted(candidates.items(), key=itemgetter(1), reverse=True):\n",
    "    if not itemid in watched:\n",
    "        recommendations.append(trainset.to_raw_iid(itemid))\n",
    "        position += 1\n",
    "        if (position >= rec_num): \n",
    "            break \n",
    "\n",
    "print(f'Для пользователя {test_subject} мы рекомендуем следующие товары: {recommendations}')"
   ]
  },
  {
   "cell_type": "markdown",
   "id": "eafb1f33",
   "metadata": {},
   "source": [
    "Посмотрим повнимательнее на товары, которые были рекомендованы пользователью."
   ]
  },
  {
   "cell_type": "code",
   "execution_count": 44,
   "id": "6721217f",
   "metadata": {},
   "outputs": [],
   "source": [
    "# Create a function to take a closer look at recommended items \n",
    "def check_recommendation(recommendations):\n",
    "    df_events['event_count'] = df_events['event'].apply(lambda x : 1.0 if x == 'view' else (2.0 if x == 'addtocart' else 3.0))\n",
    "    item_event = pd.DataFrame(df_events.groupby(['itemid'])['event'].value_counts()).rename(columns = {'event':'event_count'}).reset_index()\n",
    "\n",
    "    for item in recommendations:\n",
    "        print(f'Данные о товаре {item}:')\n",
    "        print()\n",
    "        try:\n",
    "            item_view = item_event[item_event['event'] == 'view'].sort_values('event_count', ascending = False).reset_index(drop = True)\n",
    "            item_view_place = item_view[item_view['itemid'] == item].index[0] + 1\n",
    "            item_view_count = int(item_view['event_count'][item_view['itemid'] == item])\n",
    "            print(f'Из {len(item_view)} товаров, рекомендуемый товар занимает {item_view_place} место по числу просмотров.'\n",
    "                  f' Кол-во просмотров: {item_view_count}')\n",
    "        except:\n",
    "            print('Товар не имеет событий view.')\n",
    "\n",
    "        try:\n",
    "            item_add = item_event[item_event['event'] == 'addtocart'].sort_values('event_count', ascending = False).reset_index(drop = True)\n",
    "            item_add_place = item_add[item_add['itemid'] == item].index[0] + 1\n",
    "            item_add_count = int(item_add['event_count'][item_add['itemid'] == item])\n",
    "            print(f'Из {len(item_add)} товаров, рекомендуемый товар занимает {item_add_place} место по добавлению в корзину.'\n",
    "                  f' Кол-во добавлений в корзину: {item_add_count}')\n",
    "        except:\n",
    "            print('Товар не имеет событий addtocart.')\n",
    "\n",
    "        try:\n",
    "            item_transaction = item_event[item_event['event'] == 'transaction'].sort_values('event_count', ascending = False).reset_index(drop = True)\n",
    "            item_transaction_place = item_transaction[item_transaction['itemid'] == item].index[0] + 1\n",
    "            item_transaction_count = int(item_transaction['event_count'][item_transaction['itemid'] == item])\n",
    "            print(f'Из {len(item_transaction)} товаров, рекомендуемый товар занимает {item_transaction_place} место по покупкам.'\n",
    "                  f' Кол-во покупок: {item_transaction_count}')\n",
    "        except:\n",
    "            print('Товар не имеет событий transaction.')\n",
    "\n",
    "        print()"
   ]
  },
  {
   "cell_type": "code",
   "execution_count": 114,
   "id": "d41fa1e8",
   "metadata": {},
   "outputs": [
    {
     "name": "stdout",
     "output_type": "stream",
     "text": [
      "Данные о товаре 378591:\n",
      "\n",
      "Из 21809 товаров, рекомендуемый товар занимает 1140 место по числу просмотров. Кол-во просмотров: 4\n",
      "Товар не имеет событий addtocart.\n",
      "Товар не имеет событий transaction.\n",
      "\n",
      "Данные о товаре 441248:\n",
      "\n",
      "Из 21809 товаров, рекомендуемый товар занимает 1113 место по числу просмотров. Кол-во просмотров: 4\n",
      "Товар не имеет событий addtocart.\n",
      "Товар не имеет событий transaction.\n",
      "\n",
      "Данные о товаре 371479:\n",
      "\n",
      "Из 21809 товаров, рекомендуемый товар занимает 3458 место по числу просмотров. Кол-во просмотров: 2\n",
      "Товар не имеет событий addtocart.\n",
      "Товар не имеет событий transaction.\n",
      "\n"
     ]
    }
   ],
   "source": [
    "check_recommendation(recommendations)"
   ]
  },
  {
   "cell_type": "markdown",
   "id": "29f56cac",
   "metadata": {},
   "source": [
    "## Подведем итоги:\n",
    "<ul>\n",
    "    <li>Коллаборативная фильтрация показала неплохой результат.</li>\n",
    "    <li>Но стоит учитывать и обратную сторону - выбранный датасет учитывает только товары с наличием событий \"добавлени в корзину\" и/или \"покупка\". Мы не только физически ограничены использовать больше данных (проблема масштабируемости) для тренировки модели, но и рекомендуем товары, которые считаем продающимися.</li>\n",
    "</ul>\n",
    "</br>В этом вопросе стоит сделать акцент на бизнес-требования заказчика, который изначально отдает предпочтение высокомаржинальным товарам.\n",
    "\n",
    "[В начало](#begin) "
   ]
  },
  {
   "cell_type": "markdown",
   "id": "b4ff0826",
   "metadata": {},
   "source": [
    "<a id='als'></a>\n",
    "# ALS (Alternating Least Squares) - модель"
   ]
  },
  {
   "cell_type": "markdown",
   "id": "c8679316",
   "metadata": {},
   "source": [
    "Чтобы понять принцип действия ALS, необходимо ознакомиться с методами, предшествующие модели ALS:\n",
    "<ul>\n",
    "<li><i><b>SVD</b></i> (Singular Value Decomposition) - сингулярное разложение прямоугольной матрицы.</li>\n",
    "\n",
    "$$M = U \\Sigma V^*$$\n",
    "\n",
    "</br> - матрицы $U$ и $V$ унитарны ($UU^* = I$ и $VV^* = I$, где $I$ — единичная матрица)\n",
    "</br> - матрица $\\Sigma$  — прямоугольная диагональная матрица, то есть $\\Sigma_{ij}=0$, если $i \\neq j$.\n",
    "</ul>\n",
    "<ul>\n",
    "<li><i><b>Матричное разложение</b></i> с использованием <i><b>Latent Factors</b></i> (Скрытые факторы) - это шаг навстречу неявных данных. Модели, в основе которых лежит принцип сингулярного разложения (<i><b>SVD</b></i>):</li>\n",
    "$$R = X \\times Y$$\n",
    "\n",
    "Наша матрица (матрица пользователей и товаров, на пересечении которых лежит значение рейтинга) может быть разложена на две прямоугольные матрицы: Матрица пользователей со скрытыми факторами и матрица товаров со скрытыми факторами.\n",
    "\n",
    "Тогда рейтинг мы считаем как произведение векторов пользователя и товара:\n",
    "\n",
    "$$r_{ui} = x_{i}^T y_{u}$$\n",
    "\n",
    "</ul>\n",
    "<ul>\n",
    "<li>Задачу матричного разложения можно сформулировать как оптимизацию среднеквадратичной ошибки, добавив <i><b>регуляризацию</b></i> (чтобы избежать переобучения модели), <i><b>веса</b></i> (для ограничения персонализированных характеристик пользователей) и используя <i><b>SGD</b></i> (стохастический градиентный спуск) - для подбора оптимальных параметров.</li>\n",
    "</ul>\n",
    "</br>\n",
    "$$\\sum(R_{ui} - x_{i}y_{u} - b - w_{i} - w_{u})^2 + Regularize(x_{i} + y_{u} + w_{i} + w_{u})$$\n",
    "</br>\n",
    "</br>"
   ]
  },
  {
   "cell_type": "markdown",
   "id": "ec434284",
   "metadata": {},
   "source": [
    "### ALS (Alternating Least Squares)"
   ]
  },
  {
   "cell_type": "markdown",
   "id": "0bbf8b24",
   "metadata": {},
   "source": [
    "</br>\n",
    "Один из самых популярных методов для рекомендательных систем - ALS. Цель модели - минимизация ф-ии потерь ($L^2$ cost function).\n",
    "</br>\n",
    "</br>\n",
    "$$\\min_{x_{*}, y_{*}} \\sum_{r_{u,i} \\text{ is known}} (r_{ui} - x_u^{T}y_i)^2 + \\lambda(\\sum_{u}||\\text{x}_{u}||^2 + \\sum_{i}||\\text{y}_{i}||^2) \\implies f[u] = \\text{arg} \\min_{w \\in \\mathbb{R}^d} \\sum_{i\\in \\text{Nbrs(u)}}(r_{ui} - w^Tf[i])^2 + \\lambda||w||_2^2$$\n",
    "</br>\n",
    "$$x_u = (Y^T Y + \\lambda I)^{-1} Y^T r_u$$\n",
    "</br>\n",
    "$$y_i = (X^T X + \\lambda I)^{-1} X^T r_i$$\n",
    "</br>\n",
    "</br>\n",
    "Чтобы достичь минимизации ф-ии потерь, модель будет использовать следующие шаги:\n",
    "<ul>\n",
    "<li>Фиксирует вектор товаров ($y_i$) со скрытыми факторами, вычисляет производную ф-ию потерь для вектора пользователей ($x_u$).</li>\n",
    "<li>После чего повторяет процедуру только наоборот.</li>\n",
    "<li>Повторяем процесс.</li>\n",
    "</ul>\n",
    "</br>Таким образом с каждой итерацией мы понижаем среднеквадратичную ошибку. \n",
    "</br>Т.к. мы имеем выпуклую ф-ию, а алгоритм подразумевает минимизацию, то процесс должен сойтись в некоторой точки.\n",
    "</br>Здесь возникает важный момент: У нас отпадает нужда в использовании SGD, поскольку мы и так используем ф-ию минимизации. "
   ]
  },
  {
   "cell_type": "markdown",
   "id": "aa7673dd",
   "metadata": {},
   "source": [
    "## Датасет"
   ]
  },
  {
   "cell_type": "code",
   "execution_count": 22,
   "id": "616d3431",
   "metadata": {},
   "outputs": [],
   "source": [
    "df_temp = pd.read_csv('df_temp.csv', sep = ';').drop(columns = ['Unnamed: 0'])\n",
    "\n",
    "df_temp = df_temp[df_temp['visitorid'] < 10000]"
   ]
  },
  {
   "cell_type": "markdown",
   "id": "221637de",
   "metadata": {},
   "source": [
    "<a id='als_surprise_preprocessing'></a>\n",
    "## Предобработка данных"
   ]
  },
  {
   "cell_type": "code",
   "execution_count": 23,
   "id": "162d8941",
   "metadata": {},
   "outputs": [],
   "source": [
    "import scipy\n",
    "\n",
    "from implicit.als import AlternatingLeastSquares\n",
    "from implicit.evaluation import mean_average_precision_at_k"
   ]
  },
  {
   "cell_type": "code",
   "execution_count": 24,
   "id": "aa90fb35",
   "metadata": {},
   "outputs": [],
   "source": [
    "dataset = df_temp.copy()"
   ]
  },
  {
   "cell_type": "code",
   "execution_count": 25,
   "id": "c3190771",
   "metadata": {
    "scrolled": true
   },
   "outputs": [
    {
     "data": {
      "text/plain": [
       "(array([14493.,     0.,     0.,     0.,     0.,   283.,     0.,     0.,\n",
       "            0.,   121.]),\n",
       " array([1. , 1.2, 1.4, 1.6, 1.8, 2. , 2.2, 2.4, 2.6, 2.8, 3. ]),\n",
       " <BarContainer object of 10 artists>)"
      ]
     },
     "execution_count": 25,
     "metadata": {},
     "output_type": "execute_result"
    },
    {
     "data": {
      "image/png": "[encoded data removed]",
      "text/plain": [
       "<Figure size 500x200 with 1 Axes>"
      ]
     },
     "metadata": {},
     "output_type": "display_data"
    }
   ],
   "source": [
    "fig, ax = plt.subplots(figsize = (5, 2))\n",
    "plt.hist(dataset['event_count'])"
   ]
  },
  {
   "cell_type": "markdown",
   "id": "648d373f",
   "metadata": {},
   "source": [
    "### Преобразуем данные"
   ]
  },
  {
   "cell_type": "markdown",
   "id": "47c792b6",
   "metadata": {},
   "source": [
    "Наш набор данных содержит в себе 3 возможных события. \n",
    "</br>Благодаря предобработки мы установили конечное событие для каждого пользователя (user) и товара (item) с которым пользователь взаимодействовал. \n",
    "</br>Таким образом мы получили рейтинг пользователя (u) для товара (i):\n",
    "- 0 - не было взаимодействия вообще\n",
    "- 1 - товар был просмотрен, но не добавлен в корзину и не приобретен\n",
    "- 2 - товар был добавлен в корзину, но не приобретен\n",
    "- 3 - товар был приобретен\n",
    "</br>\n",
    "</br>Для наших данных (explicit data) мы будем использовать модель ALS - итеративный алгоритм рахложения матрицы."
   ]
  },
  {
   "cell_type": "code",
   "execution_count": 26,
   "id": "01cd932e",
   "metadata": {},
   "outputs": [],
   "source": [
    "# Add score: view = 1 else = 2\n",
    "dataset['score'] = dataset['event_count'].apply(lambda x : 0 if x == 1.0 else (1 if x == 2.0 else 2))"
   ]
  },
  {
   "cell_type": "code",
   "execution_count": 27,
   "id": "0675e287",
   "metadata": {
    "scrolled": true
   },
   "outputs": [],
   "source": [
    "# Remove columns\n",
    "dataset.drop(columns = ['event', 'event_count', 'timestamp'], inplace = True)"
   ]
  },
  {
   "cell_type": "markdown",
   "id": "c6dea43b",
   "metadata": {},
   "source": [
    "Матрица получится большой размерности, что в дальнейшем приведет к проблемам с обработкой. \n",
    "</br>Для уменьшения размерности были использованы 3 метода. Наилучший результат показал последний метод."
   ]
  },
  {
   "cell_type": "markdown",
   "id": "1c3f247d",
   "metadata": {},
   "source": [
    "## Методы сокращения кол-ва данных"
   ]
  },
  {
   "cell_type": "markdown",
   "id": "920a8d31",
   "metadata": {},
   "source": [
    "### 1. Рандомные товары"
   ]
  },
  {
   "cell_type": "code",
   "execution_count": 28,
   "id": "977f41b8",
   "metadata": {},
   "outputs": [],
   "source": [
    "# np.random.seed(10)\n",
    "\n",
    "# multiplier = 1\n",
    "# choose_num = 500\n",
    "# item_0 = np.random.choice(dataset['itemid'][dataset['score'] == 0], choose_num, replace = False)\n",
    "# item_1 = np.random.choice(dataset['itemid'][dataset['score'] == 1], choose_num, replace = False)\n",
    "# item_2 = np.random.choice(dataset['itemid'][dataset['score'] == 2], choose_num, replace = False)\n",
    "\n",
    "# items = list(item_0) + list(item_1) + list(item_2)\n",
    "# items = set(items)\n",
    "\n",
    "# dataset = dataset[dataset['itemid'].isin(items)]\n",
    "\n",
    "# # remove_n = len(dataset[dataset['score'] == 0]) - (len(dataset[dataset['score'] == 1]) * multiplier)\n",
    "# # score_zero = dataset[dataset['score'] == 0]\n",
    "\n",
    "# # drop_indices = np.random.choice(score_zero.index, remove_n, replace=False)\n",
    "# # df_zero = score_zero.drop(drop_indices)\n",
    "# # df_one = dataset[dataset['score'] == 1]\n",
    "\n",
    "# # dataset = df_one.append(df_zero).reset_index(drop = True)\n",
    "# # dataset = dataset.sample(frac = 1).reset_index(drop = True)\n",
    "\n",
    "# # Визуализация данных\n",
    "# fig, ax = plt.subplots(figsize = (5, 2))\n",
    "# plt.hist(dataset['score'])\n",
    "# #plt.hist(dataset[dataset['itemid'].isin(items)]['score'])"
   ]
  },
  {
   "cell_type": "markdown",
   "id": "1680d4a7",
   "metadata": {},
   "source": [
    "### 2. Пользователи, которые взайимодействовали с товаром"
   ]
  },
  {
   "cell_type": "code",
   "execution_count": 29,
   "id": "43a36a02",
   "metadata": {},
   "outputs": [],
   "source": [
    "# # Группировка по товару, считаем кол-во пользователей\n",
    "# df_item = pd.DataFrame(dataset.groupby(['itemid'])['visitorid'].count()\n",
    "#                       ).rename(columns = {'visitorid':'visitorid_count'}\n",
    "#                               ).reset_index()\n",
    "\n",
    "# # Отбор itemid, которые имеют кол-во пользователей равным или больше\n",
    "# item_list = list(df_item[df_item['visitorid_count'] >= 1000]['itemid'])\n",
    "\n",
    "# # Оставляем данные, которые имеют взаимодействие с товарами из списка\n",
    "# #dataset = dataset[dataset['itemid'].isin(item_list)]\n",
    "# dataset = dataset[(dataset['itemid'].isin(item_list)) | (dataset['score'] == 2)]\n",
    "\n",
    "# # Визуализация\n",
    "# fig, ax = plt.subplots(figsize = (5, 2))\n",
    "# plt.hist(dataset['score'])"
   ]
  },
  {
   "cell_type": "markdown",
   "id": "cc08b668",
   "metadata": {},
   "source": [
    "### 3. Пользователи, которые посмотрели товар"
   ]
  },
  {
   "cell_type": "code",
   "execution_count": 30,
   "id": "6436e32f",
   "metadata": {},
   "outputs": [],
   "source": [
    "# # Отбор пользователей, которые посмотрели товар\n",
    "# df_item = pd.DataFrame(dataset[dataset['score'] == 0].groupby(['itemid']\n",
    "#                                                                )['visitorid'].count()\n",
    "#                       ).rename(columns = {'visitorid':'visitor_count'}).reset_index()\n",
    "\n",
    "# # Ограничение по кол-ву просмотров \n",
    "# item_list = list(df_item[df_item['visitor_count'] > 1000]['itemid'])\n",
    "\n",
    "# # Оставляем только тех пользоватаелей, которые взаимодействовали с товаром из списка \n",
    "# # ИЛИ добавляли/приобретали какой-либо товар\n",
    "# #dataset = dataset[(dataset['itemid'].isin(item_list)) | (dataset['score'] != 0)]\n",
    "# dataset = dataset[dataset['itemid'].isin(item_list)]\n",
    "\n",
    "# # Визуализация данных\n",
    "# fig, ax = plt.subplots(figsize = (5, 2))\n",
    "# plt.hist(dataset['score'])"
   ]
  },
  {
   "cell_type": "markdown",
   "id": "1c2aeadc",
   "metadata": {},
   "source": [
    "### Валидация данных и преобразование выборок в матрицы"
   ]
  },
  {
   "cell_type": "code",
   "execution_count": 31,
   "id": "03d223da",
   "metadata": {},
   "outputs": [],
   "source": [
    "from sklearn.model_selection import train_test_split\n",
    "\n",
    "train, test = train_test_split(dataset, test_size = 0.2, shuffle = False)"
   ]
  },
  {
   "cell_type": "code",
   "execution_count": 32,
   "id": "ecfcecf4",
   "metadata": {
    "scrolled": true
   },
   "outputs": [
    {
     "name": "stdout",
     "output_type": "stream",
     "text": [
      "(8194, 10188)\n",
      "(2120, 2814)\n"
     ]
    }
   ],
   "source": [
    "train_pivot = pd.pivot_table(train, index = 'visitorid', columns = 'itemid', values = 'score')\n",
    "test_pivot = pd.pivot_table(test, index = 'visitorid', columns = 'itemid', values = 'score')\n",
    "\n",
    "print(train_pivot.shape)\n",
    "print(test_pivot.shape)"
   ]
  },
  {
   "cell_type": "code",
   "execution_count": 33,
   "id": "66f3cb31",
   "metadata": {},
   "outputs": [],
   "source": [
    "shell = pd.pivot_table(dataset, index = 'visitorid', columns = 'itemid', values = 'score', aggfunc = lambda x: 0)"
   ]
  },
  {
   "cell_type": "code",
   "execution_count": 34,
   "id": "474a8c25",
   "metadata": {},
   "outputs": [
    {
     "name": "stdout",
     "output_type": "stream",
     "text": [
      "(10000, 12403)\n",
      "(10000, 12403)\n"
     ]
    },
    {
     "data": {
      "text/html": [
       "<div>\n",
       "<style scoped>\n",
       "    .dataframe tbody tr th:only-of-type {\n",
       "        vertical-align: middle;\n",
       "    }\n",
       "\n",
       "    .dataframe tbody tr th {\n",
       "        vertical-align: top;\n",
       "    }\n",
       "\n",
       "    .dataframe thead th {\n",
       "        text-align: right;\n",
       "    }\n",
       "</style>\n",
       "<table border=\"1\" class=\"dataframe\">\n",
       "  <thead>\n",
       "    <tr style=\"text-align: right;\">\n",
       "      <th>itemid</th>\n",
       "      <th>199</th>\n",
       "      <th>391</th>\n",
       "      <th>403</th>\n",
       "      <th>449</th>\n",
       "      <th>460</th>\n",
       "      <th>506</th>\n",
       "      <th>534</th>\n",
       "      <th>546</th>\n",
       "      <th>556</th>\n",
       "      <th>764</th>\n",
       "      <th>...</th>\n",
       "      <th>466513</th>\n",
       "      <th>466539</th>\n",
       "      <th>466614</th>\n",
       "      <th>466657</th>\n",
       "      <th>466675</th>\n",
       "      <th>466735</th>\n",
       "      <th>466740</th>\n",
       "      <th>466772</th>\n",
       "      <th>466847</th>\n",
       "      <th>466863</th>\n",
       "    </tr>\n",
       "    <tr>\n",
       "      <th>visitorid</th>\n",
       "      <th></th>\n",
       "      <th></th>\n",
       "      <th></th>\n",
       "      <th></th>\n",
       "      <th></th>\n",
       "      <th></th>\n",
       "      <th></th>\n",
       "      <th></th>\n",
       "      <th></th>\n",
       "      <th></th>\n",
       "      <th></th>\n",
       "      <th></th>\n",
       "      <th></th>\n",
       "      <th></th>\n",
       "      <th></th>\n",
       "      <th></th>\n",
       "      <th></th>\n",
       "      <th></th>\n",
       "      <th></th>\n",
       "      <th></th>\n",
       "      <th></th>\n",
       "    </tr>\n",
       "  </thead>\n",
       "  <tbody>\n",
       "    <tr>\n",
       "      <th>0</th>\n",
       "      <td>0.0</td>\n",
       "      <td>0.0</td>\n",
       "      <td>0.0</td>\n",
       "      <td>0.0</td>\n",
       "      <td>0.0</td>\n",
       "      <td>0.0</td>\n",
       "      <td>0.0</td>\n",
       "      <td>0.0</td>\n",
       "      <td>0.0</td>\n",
       "      <td>0.0</td>\n",
       "      <td>...</td>\n",
       "      <td>0.0</td>\n",
       "      <td>0.0</td>\n",
       "      <td>0.0</td>\n",
       "      <td>0.0</td>\n",
       "      <td>0.0</td>\n",
       "      <td>0.0</td>\n",
       "      <td>0.0</td>\n",
       "      <td>0.0</td>\n",
       "      <td>0.0</td>\n",
       "      <td>0.0</td>\n",
       "    </tr>\n",
       "    <tr>\n",
       "      <th>1</th>\n",
       "      <td>0.0</td>\n",
       "      <td>0.0</td>\n",
       "      <td>0.0</td>\n",
       "      <td>0.0</td>\n",
       "      <td>0.0</td>\n",
       "      <td>0.0</td>\n",
       "      <td>0.0</td>\n",
       "      <td>0.0</td>\n",
       "      <td>0.0</td>\n",
       "      <td>0.0</td>\n",
       "      <td>...</td>\n",
       "      <td>0.0</td>\n",
       "      <td>0.0</td>\n",
       "      <td>0.0</td>\n",
       "      <td>0.0</td>\n",
       "      <td>0.0</td>\n",
       "      <td>0.0</td>\n",
       "      <td>0.0</td>\n",
       "      <td>0.0</td>\n",
       "      <td>0.0</td>\n",
       "      <td>0.0</td>\n",
       "    </tr>\n",
       "    <tr>\n",
       "      <th>2</th>\n",
       "      <td>0.0</td>\n",
       "      <td>0.0</td>\n",
       "      <td>0.0</td>\n",
       "      <td>0.0</td>\n",
       "      <td>0.0</td>\n",
       "      <td>0.0</td>\n",
       "      <td>0.0</td>\n",
       "      <td>0.0</td>\n",
       "      <td>0.0</td>\n",
       "      <td>0.0</td>\n",
       "      <td>...</td>\n",
       "      <td>0.0</td>\n",
       "      <td>0.0</td>\n",
       "      <td>0.0</td>\n",
       "      <td>0.0</td>\n",
       "      <td>0.0</td>\n",
       "      <td>0.0</td>\n",
       "      <td>0.0</td>\n",
       "      <td>0.0</td>\n",
       "      <td>0.0</td>\n",
       "      <td>0.0</td>\n",
       "    </tr>\n",
       "    <tr>\n",
       "      <th>3</th>\n",
       "      <td>0.0</td>\n",
       "      <td>0.0</td>\n",
       "      <td>0.0</td>\n",
       "      <td>0.0</td>\n",
       "      <td>0.0</td>\n",
       "      <td>0.0</td>\n",
       "      <td>0.0</td>\n",
       "      <td>0.0</td>\n",
       "      <td>0.0</td>\n",
       "      <td>0.0</td>\n",
       "      <td>...</td>\n",
       "      <td>0.0</td>\n",
       "      <td>0.0</td>\n",
       "      <td>0.0</td>\n",
       "      <td>0.0</td>\n",
       "      <td>0.0</td>\n",
       "      <td>0.0</td>\n",
       "      <td>0.0</td>\n",
       "      <td>0.0</td>\n",
       "      <td>0.0</td>\n",
       "      <td>0.0</td>\n",
       "    </tr>\n",
       "    <tr>\n",
       "      <th>4</th>\n",
       "      <td>0.0</td>\n",
       "      <td>0.0</td>\n",
       "      <td>0.0</td>\n",
       "      <td>0.0</td>\n",
       "      <td>0.0</td>\n",
       "      <td>0.0</td>\n",
       "      <td>0.0</td>\n",
       "      <td>0.0</td>\n",
       "      <td>0.0</td>\n",
       "      <td>0.0</td>\n",
       "      <td>...</td>\n",
       "      <td>0.0</td>\n",
       "      <td>0.0</td>\n",
       "      <td>0.0</td>\n",
       "      <td>0.0</td>\n",
       "      <td>0.0</td>\n",
       "      <td>0.0</td>\n",
       "      <td>0.0</td>\n",
       "      <td>0.0</td>\n",
       "      <td>0.0</td>\n",
       "      <td>0.0</td>\n",
       "    </tr>\n",
       "  </tbody>\n",
       "</table>\n",
       "<p>5 rows × 12403 columns</p>\n",
       "</div>"
      ],
      "text/plain": [
       "itemid     199     391     403     449     460     506     534     546     \\\n",
       "visitorid                                                                   \n",
       "0             0.0     0.0     0.0     0.0     0.0     0.0     0.0     0.0   \n",
       "1             0.0     0.0     0.0     0.0     0.0     0.0     0.0     0.0   \n",
       "2             0.0     0.0     0.0     0.0     0.0     0.0     0.0     0.0   \n",
       "3             0.0     0.0     0.0     0.0     0.0     0.0     0.0     0.0   \n",
       "4             0.0     0.0     0.0     0.0     0.0     0.0     0.0     0.0   \n",
       "\n",
       "itemid     556     764     ...  466513  466539  466614  466657  466675  \\\n",
       "visitorid                  ...                                           \n",
       "0             0.0     0.0  ...     0.0     0.0     0.0     0.0     0.0   \n",
       "1             0.0     0.0  ...     0.0     0.0     0.0     0.0     0.0   \n",
       "2             0.0     0.0  ...     0.0     0.0     0.0     0.0     0.0   \n",
       "3             0.0     0.0  ...     0.0     0.0     0.0     0.0     0.0   \n",
       "4             0.0     0.0  ...     0.0     0.0     0.0     0.0     0.0   \n",
       "\n",
       "itemid     466735  466740  466772  466847  466863  \n",
       "visitorid                                          \n",
       "0             0.0     0.0     0.0     0.0     0.0  \n",
       "1             0.0     0.0     0.0     0.0     0.0  \n",
       "2             0.0     0.0     0.0     0.0     0.0  \n",
       "3             0.0     0.0     0.0     0.0     0.0  \n",
       "4             0.0     0.0     0.0     0.0     0.0  \n",
       "\n",
       "[5 rows x 12403 columns]"
      ]
     },
     "execution_count": 34,
     "metadata": {},
     "output_type": "execute_result"
    }
   ],
   "source": [
    "train_pivot = shell + train_pivot\n",
    "test_pivot = shell + test_pivot\n",
    "\n",
    "train_pivot = (train_pivot + 1).fillna(0)\n",
    "test_pivot = (test_pivot + 1).fillna(0)\n",
    "\n",
    "print(train_pivot.shape)\n",
    "print(test_pivot.shape)\n",
    "\n",
    "train_pivot.head()"
   ]
  },
  {
   "cell_type": "code",
   "execution_count": 35,
   "id": "e2e377ab",
   "metadata": {},
   "outputs": [],
   "source": [
    "train_pivot_sparse = scipy.sparse.csr_matrix(train_pivot.values)\n",
    "test_pivot_sparse = scipy.sparse.csr_matrix(test_pivot.values)"
   ]
  },
  {
   "cell_type": "markdown",
   "id": "28e93e80",
   "metadata": {},
   "source": [
    "<a id='als_surprise_model'></a>\n",
    "## Модель"
   ]
  },
  {
   "cell_type": "markdown",
   "id": "08c67801",
   "metadata": {},
   "source": [
    "### Без параметров"
   ]
  },
  {
   "cell_type": "code",
   "execution_count": 36,
   "id": "e5f79205",
   "metadata": {},
   "outputs": [
    {
     "name": "stderr",
     "output_type": "stream",
     "text": [
      "D:\\Users\\leoge\\anaconda3\\lib\\site-packages\\implicit\\utils.py:33: UserWarning: Intel MKL BLAS detected. Its highly recommend to set the environment variable 'export MKL_NUM_THREADS=1' to disable its internal multithreading\n",
      "  warnings.warn(\n"
     ]
    },
    {
     "data": {
      "application/vnd.jupyter.widget-view+json": {
       "model_id": "db5100a0837142f5bd7efeee71f0f312",
       "version_major": 2,
       "version_minor": 0
      },
      "text/plain": [
       "  0%|          | 0/15 [00:00<?, ?it/s]"
      ]
     },
     "metadata": {},
     "output_type": "display_data"
    }
   ],
   "source": [
    "model = AlternatingLeastSquares(factors = 10,random_state = 42)\n",
    "model.fit(train_pivot_sparse)"
   ]
  },
  {
   "cell_type": "code",
   "execution_count": 37,
   "id": "ae344d7c",
   "metadata": {},
   "outputs": [
    {
     "name": "stdout",
     "output_type": "stream",
     "text": [
      "Recommendations ids: [8746 2467 8566 9081 3372 4738 2433 3945 2227 4120]\n",
      "Recommendations user 195: [325283  92888 318455 339330 126388 177170  91886 147796  85055 154580]\n"
     ]
    }
   ],
   "source": [
    "unique_items = np.array(train_pivot.columns)\n",
    "user_id = 195\n",
    "recommendations_ids, scores = model.recommend(user_id, train_pivot_sparse[user_id])\n",
    "recommendations = unique_items[recommendations_ids]\n",
    "print('Recommendations ids: {}'.format(recommendations_ids))\n",
    "print('Recommendations user {}: {}'.format(user_id, recommendations))"
   ]
  },
  {
   "cell_type": "code",
   "execution_count": 38,
   "id": "03e44bca",
   "metadata": {},
   "outputs": [
    {
     "data": {
      "application/vnd.jupyter.widget-view+json": {
       "model_id": "620bb170b7854d47bf08e74f853a7810",
       "version_major": 2,
       "version_minor": 0
      },
      "text/plain": [
       "  0%|          | 0/2120 [00:00<?, ?it/s]"
      ]
     },
     "metadata": {},
     "output_type": "display_data"
    },
    {
     "name": "stdout",
     "output_type": "stream",
     "text": [
      "Mean Average Precision at 3: 0.000, Percentage: 0%\n"
     ]
    }
   ],
   "source": [
    "map_at3 = mean_average_precision_at_k(model, train_pivot_sparse, test_pivot_sparse, K = 3)\n",
    "print('Mean Average Precision at 3: {:.3f}, Percentage: {:.0f}%'.format(map_at3, map_at3*100))"
   ]
  },
  {
   "cell_type": "markdown",
   "id": "55776438",
   "metadata": {},
   "source": [
    "## MAP@K"
   ]
  },
  {
   "cell_type": "code",
   "execution_count": 39,
   "id": "957d72fd",
   "metadata": {
    "scrolled": false
   },
   "outputs": [
    {
     "data": {
      "text/plain": [
       "{'collaborative': 0.1, 'ALS': 0.0}"
      ]
     },
     "execution_count": 39,
     "metadata": {},
     "output_type": "execute_result"
    }
   ],
   "source": [
    "map_at_k_score_dict['ALS'] = round(map_at3*100, 2)\n",
    "map_at_k_score_dict"
   ]
  },
  {
   "cell_type": "markdown",
   "id": "b6412653",
   "metadata": {},
   "source": [
    "### С параметрами"
   ]
  },
  {
   "cell_type": "markdown",
   "id": "b51e2129",
   "metadata": {},
   "source": [
    "#### ВНИМАНИЕ!!! Подбор параметров вручную, так что будет требовать мощностей."
   ]
  },
  {
   "cell_type": "code",
   "execution_count": 52,
   "id": "88c41282",
   "metadata": {},
   "outputs": [
    {
     "data": {
      "application/vnd.jupyter.widget-view+json": {
       "model_id": "39e1b6852f144c82a3585da581984aef",
       "version_major": 2,
       "version_minor": 0
      },
      "text/plain": [
       "  0%|          | 0/20 [00:00<?, ?it/s]"
      ]
     },
     "metadata": {},
     "output_type": "display_data"
    },
    {
     "name": "stdout",
     "output_type": "stream",
     "text": [
      "Recommendations user 195: [335975 370653   5411 298009 187946 151444 309778 461686 384302 441668]\n"
     ]
    },
    {
     "data": {
      "application/vnd.jupyter.widget-view+json": {
       "model_id": "8a00fa67dc50420db7ca2e65c3b08b22",
       "version_major": 2,
       "version_minor": 0
      },
      "text/plain": [
       "  0%|          | 0/3459 [00:00<?, ?it/s]"
      ]
     },
     "metadata": {},
     "output_type": "display_data"
    },
    {
     "name": "stdout",
     "output_type": "stream",
     "text": [
      "Mean Average Precision at 10: 0.191, Percentage: 19%\n"
     ]
    }
   ],
   "source": [
    "# Temporary dictionary for each parameter and for the best parameters\n",
    "temp_dict = {}\n",
    "factor_dict = {}\n",
    "reg_dict = {}\n",
    "iteration_dict = {}\n",
    "\n",
    "class define_tune():\n",
    "    def __init__(self, factors, reg, iterations):\n",
    "        self._factors = factors\n",
    "        self._reg = reg\n",
    "        self._iterations = iterations\n",
    "        \n",
    "    def als_factors(self):\n",
    "        for factor in self._factors:\n",
    "            model = AlternatingLeastSquares(factors = factor, \n",
    "                                            use_cg = True, \n",
    "                                            calculate_training_loss = True, \n",
    "                                            random_state = 42)\n",
    "            model.fit(train_pivot_sparse, show_progress=False)\n",
    "            factor_string = str(factor)\n",
    "            factor_dict[factor_string] = round((mean_average_precision_at_k(model, \n",
    "                                                                          train_pivot_sparse, \n",
    "                                                                          test_pivot_sparse, \n",
    "                                                                          K = 3, \n",
    "                                                                          show_progress=False)) * 100, 2)\n",
    "        temp_dict['factors'] = int(max(factor_dict, key=factor_dict.get))\n",
    "        \n",
    "    def als_reg(self):\n",
    "        for reg_item in self._reg:\n",
    "            model = AlternatingLeastSquares(regularization = reg_item, \n",
    "                                            use_cg = True, \n",
    "                                            calculate_training_loss = True, \n",
    "                                            random_state = 42)\n",
    "            model.fit(train_pivot_sparse, show_progress=False)\n",
    "            reg_string = str(reg_item)\n",
    "            reg_dict[reg_string] = round((mean_average_precision_at_k(model, \n",
    "                                                                          train_pivot_sparse, \n",
    "                                                                          test_pivot_sparse, \n",
    "                                                                          K = 3, \n",
    "                                                                          show_progress=False)) * 100, 2)\n",
    "        temp_dict['regularization'] = float(max(reg_dict, key=reg_dict.get))\n",
    "        \n",
    "    def als_iterations(self):\n",
    "        for iteration in self._iterations:\n",
    "            model = AlternatingLeastSquares(iterations = iteration, \n",
    "                                            use_cg = True, \n",
    "                                            calculate_training_loss = True, \n",
    "                                            random_state = 42)\n",
    "            model.fit(train_pivot_sparse, show_progress=False)\n",
    "            iteration_string = str(iteration)\n",
    "            iteration_dict[iteration_string] = round((mean_average_precision_at_k(model, \n",
    "                                                                          train_pivot_sparse, \n",
    "                                                                          test_pivot_sparse, \n",
    "                                                                          K = 3, \n",
    "                                                                          show_progress=False)) * 100, 2)\n",
    "        temp_dict['iterations'] = int(max(iteration_dict, key=iteration_dict.get))\n",
    "        \n",
    "factors = range(10, 110, 10)\n",
    "reg = [0.00001, 0.0001, 0.001, 0.01]\n",
    "iterations = range(10, 50, 10)\n",
    "\n",
    "define_tune(factors, reg, iterations).als_factors()\n",
    "define_tune(factors, reg, iterations).als_reg()\n",
    "define_tune(factors, reg, iterations).als_iterations()\n",
    "\n",
    "model = AlternatingLeastSquares(factors = temp_dict['factors'], \n",
    "                                regularization = temp_dict['regularization'], \n",
    "                                iterations = temp_dict['iterations'], \n",
    "                                use_cg = True, \n",
    "                                calculate_training_loss = True, \n",
    "                                random_state = 42)\n",
    "model.fit(train_pivot_sparse)\n",
    "\n",
    "unique_items = np.array(train_pivot.columns)\n",
    "user_id = 195\n",
    "recommendations_ids, scores = model.recommend(user_id, train_pivot_sparse[user_id])\n",
    "recommendations = unique_items[recommendations_ids]\n",
    "print('Recommendations user {}: {}'.format(user_id, recommendations))\n",
    "\n",
    "map_at10 = mean_average_precision_at_k(model, train_pivot_sparse, test_pivot_sparse, K = 10)\n",
    "print('Mean Average Precision at 10: {:.3f}, Percentage: {:.0f}%'.format(map_at10, map_at10*100))"
   ]
  },
  {
   "cell_type": "markdown",
   "id": "3d5159e1",
   "metadata": {},
   "source": [
    "## Рекомендации"
   ]
  },
  {
   "cell_type": "code",
   "execution_count": 53,
   "id": "107914d5",
   "metadata": {},
   "outputs": [
    {
     "name": "stdout",
     "output_type": "stream",
     "text": [
      "Данные о товаре 335975:\n",
      "\n",
      "Из 234838 товаров, рекомендуемый товар занимает 11 место по числу просмотров. Кол-во просмотров: 1428\n",
      "Товар не имеет событий addtocart.\n",
      "Товар не имеет событий transaction.\n",
      "\n",
      "Данные о товаре 370653:\n",
      "\n",
      "Из 234838 товаров, рекомендуемый товар занимает 4 место по числу просмотров. Кол-во просмотров: 1854\n",
      "Товар не имеет событий addtocart.\n",
      "Товар не имеет событий transaction.\n",
      "\n",
      "Данные о товаре 5411:\n",
      "\n",
      "Из 234838 товаров, рекомендуемый товар занимает 3 место по числу просмотров. Кол-во просмотров: 2325\n",
      "Из 23903 товаров, рекомендуемый товар занимает 1214 место по добавлению в корзину. Кол-во добавлений в корзину: 9\n",
      "Товар не имеет событий transaction.\n",
      "\n"
     ]
    }
   ],
   "source": [
    "check_recommendation(list(recommendations[:3]))"
   ]
  },
  {
   "cell_type": "markdown",
   "id": "9a1cf04f",
   "metadata": {},
   "source": [
    "## Подведем итоги:\n",
    "<ul>\n",
    "    <li>ALS требует большой нагрузки при большом кол-ве данных. Мы ограничены физически и должны сокращать кол-во данных, что влияет на персонализируемые рекомендации.</li>\n",
    "    <li>Как мы видим, позиция и кол-во событий влияет на рекомендацию, но является неплохим решение для проблемы холодного старта - рекоммендовать новым пользователям более популярные товары.</li>\n",
    "</ul>\n",
    "\n",
    "[В начало](#begin)"
   ]
  },
  {
   "cell_type": "markdown",
   "id": "9e9d7ee9",
   "metadata": {},
   "source": [
    "<a id='factorization'></a>\n",
    "# Матричная факторизация и факторизационные машины - LightFM"
   ]
  },
  {
   "cell_type": "markdown",
   "id": "1ed45782",
   "metadata": {},
   "source": [
    "LightFM - реализация ряда популярных алгоритмов рекомендаций как для implicit data (неявных данных), так и для explicit data (явных данных).\n",
    "</br>\n",
    "</br>\n",
    "Бдуем использовать тренировочную выборку из предыдущей задачи."
   ]
  },
  {
   "cell_type": "code",
   "execution_count": 40,
   "id": "ab655ebe",
   "metadata": {},
   "outputs": [
    {
     "name": "stderr",
     "output_type": "stream",
     "text": [
      "D:\\Users\\leoge\\anaconda3\\lib\\site-packages\\lightfm\\_lightfm_fast.py:9: UserWarning: LightFM was compiled without OpenMP support. Only a single thread will be used.\n",
      "  warnings.warn(\n"
     ]
    }
   ],
   "source": [
    "from lightfm import LightFM\n",
    "from lightfm.evaluation import precision_at_k"
   ]
  },
  {
   "cell_type": "markdown",
   "id": "d9184bc9",
   "metadata": {},
   "source": [
    "## Модель"
   ]
  },
  {
   "cell_type": "code",
   "execution_count": 41,
   "id": "4f99fdfe",
   "metadata": {},
   "outputs": [
    {
     "data": {
      "text/plain": [
       "<lightfm.lightfm.LightFM at 0x240916c2a30>"
      ]
     },
     "execution_count": 41,
     "metadata": {},
     "output_type": "execute_result"
    }
   ],
   "source": [
    "model = LightFM(no_components = 10, loss = 'logistic', random_state = 42)\n",
    "model.fit(train_pivot_sparse, epochs = 30)"
   ]
  },
  {
   "cell_type": "markdown",
   "id": "0b6b0802",
   "metadata": {},
   "source": [
    "## Рекомендации"
   ]
  },
  {
   "cell_type": "code",
   "execution_count": 42,
   "id": "7f524433",
   "metadata": {},
   "outputs": [
    {
     "name": "stdout",
     "output_type": "stream",
     "text": [
      "Recommendations for user 195:[187946 370653 190000 102306 384302 461686 298009 309778  91755  65273]\n"
     ]
    }
   ],
   "source": [
    "item_ids = np.arange(0, train_pivot_sparse.shape[1])\n",
    "list_pred = model.predict(user_id, item_ids)\n",
    "recommendations_ids = np.argsort(-list_pred)[:10]\n",
    "recommendations = unique_items[recommendations_ids]\n",
    "print('Recommendations for user {}:{}'.format(user_id, recommendations))"
   ]
  },
  {
   "cell_type": "code",
   "execution_count": 45,
   "id": "3b2eb1e0",
   "metadata": {},
   "outputs": [
    {
     "name": "stdout",
     "output_type": "stream",
     "text": [
      "Данные о товаре 187946:\n",
      "\n",
      "Из 12337 товаров, рекомендуемый товар занимает 10 место по числу просмотров. Кол-во просмотров: 20\n",
      "Товар не имеет событий addtocart.\n",
      "Товар не имеет событий transaction.\n",
      "\n",
      "Данные о товаре 370653:\n",
      "\n",
      "Из 12337 товаров, рекомендуемый товар занимает 18 место по числу просмотров. Кол-во просмотров: 15\n",
      "Товар не имеет событий addtocart.\n",
      "Товар не имеет событий transaction.\n",
      "\n",
      "Данные о товаре 190000:\n",
      "\n",
      "Из 12337 товаров, рекомендуемый товар занимает 15 место по числу просмотров. Кол-во просмотров: 18\n",
      "Товар не имеет событий addtocart.\n",
      "Товар не имеет событий transaction.\n",
      "\n"
     ]
    }
   ],
   "source": [
    "check_recommendation(list(recommendations[:3]))"
   ]
  },
  {
   "cell_type": "code",
   "execution_count": 46,
   "id": "43574d99",
   "metadata": {},
   "outputs": [
    {
     "name": "stdout",
     "output_type": "stream",
     "text": [
      "Mean Average Precision at 3: 0.000, Percentage: 0%\n"
     ]
    }
   ],
   "source": [
    "map_at3 = precision_at_k(model, test_pivot_sparse, k = 3).mean()\n",
    "print('Mean Average Precision at 3: {:.3f}, Percentage: {:.0f}%'.format(map_at3, map_at3*100))"
   ]
  },
  {
   "cell_type": "code",
   "execution_count": 50,
   "id": "cc1ad634",
   "metadata": {
    "scrolled": false
   },
   "outputs": [
    {
     "data": {
      "text/plain": [
       "{'collaborative': 0.1, 'ALS': 0.0, 'LightFM': 0.02}"
      ]
     },
     "execution_count": 50,
     "metadata": {},
     "output_type": "execute_result"
    }
   ],
   "source": [
    "map_at_k_score_dict['LightFM'] = round(map_at3*100, 2)\n",
    "map_at_k_score_dict"
   ]
  },
  {
   "cell_type": "markdown",
   "id": "a86aec9b",
   "metadata": {},
   "source": [
    "## Подведем итоги:\n",
    "<ul>\n",
    "    <li>Плохой результат, но правильная настройка модели поможет рекомендательной системы.</li>\n",
    "    <li>Видим сходство с предыдущей моделью - рекоммендация более популярных товаров.</li>\n",
    "</ul>\n",
    "\n",
    "[В начало](#begin)"
   ]
  },
  {
   "cell_type": "markdown",
   "id": "89a71b45",
   "metadata": {},
   "source": [
    "<a id='als_implicit'></a>\n",
    "# Implicit ALS (Alternating Least Squares) - модель"
   ]
  },
  {
   "cell_type": "markdown",
   "id": "54d80fcd",
   "metadata": {},
   "source": [
    "Implicit ALS - хорошо работает с неявными данными.\n",
    "</br>\n",
    "Как мы помним, данные для рекомендательных систем делятся на две категории: \n",
    "<ul>\n",
    "<li>Explicit (явные) - данные, которые отражают отношение пользователя к товару. Например, это может быть рейтинг фильму, оставленный пользователем.</li>\n",
    "<li>Implicit (неявные) - данные, которые отражают поведение пользователя по отношению к товару. Например, количество просмотров или добавлений товара в корзину.</li>\n",
    "</ul>\n",
    "</br>\n",
    "Преимущества: Мы вводим минимальный порог уровня доверия ($C$) по отношению к значению ($r_{ui}$)."
   ]
  },
  {
   "cell_type": "markdown",
   "id": "dfe04762",
   "metadata": {},
   "source": [
    "$$\\min_{x_{*}, y_{*}} \\sum_{u,i} c_{ui}(p_{ui} - x_u^{T}y_i)^2 + \\lambda(\\sum_{u} ||\\text{x}_{u}||^2 + \\sum_{i} ||\\text{y}_{i}||^2)$$"
   ]
  },
  {
   "cell_type": "markdown",
   "id": "62a169c7",
   "metadata": {},
   "source": [
    "Разберем алгоритм:\n",
    "</br>\n",
    "</br>\n",
    "- Бинарная оценка $p_{ui}$, которая, в зависимости от значения $r_{ui}$, принимает значение 1 или 0. Можно эксперемнтировать с подбором параметра. \n",
    "$$p_{ui}\\in(0,1)$$\n",
    "</br>\n",
    "$$\n",
    "p_{ui}=\n",
    "\\begin{cases}\n",
    "1 & \\text{если $r_{ui} > 0$}\\\\ \n",
    "0 & \\text{если $r_{ui} = 0$}\n",
    "\\end{cases}\n",
    "$$\n",
    "</br>\n",
    "- Оценка $r_{ui}$ из матрицы $R$. \n",
    "$$r_{ui}\\in \\mathbb{R}, \\quad r_{ui}=x_u^T y_i$$\n",
    "</br>\n",
    "- Уровень доверия\n",
    "$$C_{ui} = 1 + \\alpha r_{ui}$$\n",
    "</br>\n",
    "\n",
    "- Оценка $r_{ui} = x_{u}^T y_{i}$. Как и ранее, чтобы вычислить глобальный минимум, мы фиксируем один из наборов со скрытыми факторами $x_{u}$ или $y_{i}$, считаем ф-ию потерь, и поочередно повторяем процедуру, но сейчас мы вводим минимальный порог, в виде уровня доверия $C$, необходимый для преодоления ф-ии потерь. Упростим выражение: \n",
    "\n",
    "$$x_u = (Y^T С^u Y + \\lambda I)^{-1} Y^T С^u p(u) \\implies (Y^T Y+ Y^T (С^{u} - I) Y + \\lambda I)^{-1} Y^T С^u p(u)$$\n",
    "$$y_i = (X^T С^i X + \\lambda I)^{-1} X^T С^i p(i) \\implies (X^T X+ X^T (С^{i} - I) X + \\lambda I)^{-1} X^T С^i p(i)$$\n",
    "</br>$\\quad$- $X$ и $Y$ - разреженные матрицы users и items\n",
    "</br>$\\quad$- $С^u$ и $С^i$ - уровень доверия\n",
    "</br>$\\quad$- $\\lambda$ - регуляризатор\n",
    "</br>$\\quad$- $p(u)$ и $p(i)$ - бинарное значение целевой переменной\n",
    "</br>$\\quad$- $I$ - единичная матрица\n",
    "</br>\n",
    "</br>\n",
    "Схожесть между товарыми мы можем получить, рассчитав точечное произведение между всеми векторами items и транспонированным вектором товара.\n",
    "$$\\text{Оценка} = Y \\cdot Y_{i}^T$$\n",
    "</br>\n",
    "Для нашего случае (рекомедации товаров) нам необходимо рассчитать точечное произведением между всеми векторами users и транспонированным вектором товара.\n",
    "$$\\text{Оценка} = X_i \\cdot Y^T$$"
   ]
  },
  {
   "cell_type": "markdown",
   "id": "761f1179",
   "metadata": {},
   "source": [
    "## Датасет"
   ]
  },
  {
   "cell_type": "code",
   "execution_count": 51,
   "id": "2aebdb69",
   "metadata": {},
   "outputs": [],
   "source": [
    "df_temp = pd.read_csv('df_temp.csv', sep = ';').drop(columns = ['Unnamed: 0'])\n",
    "\n",
    "df_temp = df_temp[df_temp['visitorid'] < 500000]"
   ]
  },
  {
   "cell_type": "markdown",
   "id": "3c6a0080",
   "metadata": {},
   "source": [
    "<a id='als_implicit_preprocessing'></a>\n",
    "## Предобработка данных"
   ]
  },
  {
   "cell_type": "markdown",
   "id": "6a071d89",
   "metadata": {},
   "source": [
    "Проведенные эксперименты показали лучший результат с ипользованием df_events, вместо df_temp, при одинаковом кол-ве записей."
   ]
  },
  {
   "cell_type": "code",
   "execution_count": 52,
   "id": "264ec4c6",
   "metadata": {},
   "outputs": [],
   "source": [
    "dataset = df_temp.copy()\n",
    "# df_events['event_count'] = df_events['event'].apply(lambda x: 1.0 if str(x) == 'view' else (2.0 if str(x) == 'addtocart' else 3.0))\n",
    "# dataset = df_events[list(df_temp.columns)].copy()"
   ]
  },
  {
   "cell_type": "code",
   "execution_count": 53,
   "id": "7b6a10f8",
   "metadata": {
    "scrolled": true
   },
   "outputs": [
    {
     "data": {
      "text/plain": [
       "(array([740030.,      0.,      0.,      0.,      0.,  15418.,      0.,\n",
       "             0.,      0.,   7450.]),\n",
       " array([1. , 1.2, 1.4, 1.6, 1.8, 2. , 2.2, 2.4, 2.6, 2.8, 3. ]),\n",
       " <BarContainer object of 10 artists>)"
      ]
     },
     "execution_count": 53,
     "metadata": {},
     "output_type": "execute_result"
    },
    {
     "data": {
      "image/png": "[encoded data removed]",
      "text/plain": [
       "<Figure size 500x200 with 1 Axes>"
      ]
     },
     "metadata": {},
     "output_type": "display_data"
    }
   ],
   "source": [
    "fig, ax = plt.subplots(figsize = (5, 2))\n",
    "plt.hist(dataset['event_count'])"
   ]
  },
  {
   "cell_type": "markdown",
   "id": "64570651",
   "metadata": {},
   "source": [
    "### Преобразуем данные"
   ]
  },
  {
   "cell_type": "markdown",
   "id": "b9061a17",
   "metadata": {},
   "source": [
    "Наш набор данных содержит в себе 3 возможных события. \n",
    "</br>Благодаря предобработки мы установили конечное событие для каждого пользователя (user) и товара (item) с которым пользователь взаимодействовал. \n",
    "</br>Таким образом мы получили рейтинг пользователя (u) для товара (i):\n",
    "- 0 - не было взаимодействия вообще\n",
    "- 1 - товар был просмотрен, но не добавлен в корзину и не приобретен\n",
    "- 2 - товар был добавлен в корзину, но не приобретен\n",
    "- 3 - товар был приобретен\n",
    "</br>\n",
    "</br>Для наших данных (explicit data) мы будем использовать модель ALS - итеративный алгоритм рахложения матрицы."
   ]
  },
  {
   "cell_type": "code",
   "execution_count": 54,
   "id": "87d42d7c",
   "metadata": {},
   "outputs": [],
   "source": [
    "# Add score: view = 1 else = 2\n",
    "dataset['score'] = dataset['event_count'].apply(lambda x : 0 if x == 1.0 else (1 if x == 2.0 else 2))\n",
    "\n",
    "# Remove columns\n",
    "dataset.drop(columns = ['event', 'event_count', 'timestamp'], inplace = True)"
   ]
  },
  {
   "cell_type": "markdown",
   "id": "5a379505",
   "metadata": {},
   "source": [
    "Матрица получится большой размерности, что в дальнейшем приведет к проблемам с обработкой. \n",
    "</br>Для уменьшения размерности были использованы 3 метода. Наилучший результат показал последний метод."
   ]
  },
  {
   "cell_type": "markdown",
   "id": "a493be47",
   "metadata": {},
   "source": [
    "### Пользователи, которые посмотрели товар"
   ]
  },
  {
   "cell_type": "code",
   "execution_count": 55,
   "id": "7cf2106f",
   "metadata": {},
   "outputs": [
    {
     "data": {
      "text/plain": [
       "(array([503698.,      0.,      0.,      0.,      0.,  11560.,      0.,\n",
       "             0.,      0.,   5771.]),\n",
       " array([0. , 0.2, 0.4, 0.6, 0.8, 1. , 1.2, 1.4, 1.6, 1.8, 2. ]),\n",
       " <BarContainer object of 10 artists>)"
      ]
     },
     "execution_count": 55,
     "metadata": {},
     "output_type": "execute_result"
    },
    {
     "data": {
      "image/png": "[encoded data removed]",
      "text/plain": [
       "<Figure size 500x200 with 1 Axes>"
      ]
     },
     "metadata": {},
     "output_type": "display_data"
    }
   ],
   "source": [
    "# Отбор пользователей, которые посмотрели товар\n",
    "df_item = pd.DataFrame(dataset[dataset['score'] == 0].groupby(['itemid']\n",
    "                                                               )['visitorid'].count()\n",
    "                      ).rename(columns = {'visitorid':'visitor_count'}).reset_index()\n",
    "\n",
    "# Ограничение по кол-ву просмотров \n",
    "item_list = list(df_item[df_item['visitor_count'] > 5]['itemid'])\n",
    "\n",
    "# Оставляем только тех пользоватаелей, которые взаимодействовали с товаром из списка \n",
    "# ИЛИ добавляли/приобретали какой-либо товар\n",
    "#dataset = dataset[(dataset['itemid'].isin(item_list)) | (dataset['score'] != 0)]\n",
    "dataset = dataset[dataset['itemid'].isin(item_list)]\n",
    "\n",
    "# Визуализация данных\n",
    "fig, ax = plt.subplots(figsize = (5, 2))\n",
    "plt.hist(dataset['score'])"
   ]
  },
  {
   "cell_type": "markdown",
   "id": "7849dc42",
   "metadata": {},
   "source": [
    "## Использование PySpark"
   ]
  },
  {
   "cell_type": "markdown",
   "id": "671e0e07",
   "metadata": {},
   "source": [
    "Подготовка среды, если не создан путь в системе."
   ]
  },
  {
   "cell_type": "code",
   "execution_count": 56,
   "id": "7f260857",
   "metadata": {},
   "outputs": [],
   "source": [
    "# import os\n",
    "# import sys\n",
    "# spark_path = r\"C:\\spark\"\n",
    "# os.environ['SPARK_HOME'] = spark_path\n",
    "# sys.path.insert(0, spark_path + \"/bin\")\n",
    "# sys.path.insert(0, spark_path + \"/python/pyspark/\")\n",
    "# sys.path.insert(0, spark_path + \"/python/lib/pyspark.zip\")\n",
    "# sys.path.insert(0, spark_path + \"/python/lib/py4j-0.10.3-src.zip\")"
   ]
  },
  {
   "cell_type": "code",
   "execution_count": 57,
   "id": "36b4a226",
   "metadata": {},
   "outputs": [],
   "source": [
    "from sklearn.model_selection import train_test_split"
   ]
  },
  {
   "cell_type": "code",
   "execution_count": 58,
   "id": "dd2969a4",
   "metadata": {},
   "outputs": [],
   "source": [
    "# dataset = dataset.sort_values(['visitorid', 'itemid']).reset_index(drop = True)\n",
    "# train, test = train_test_split(dataset, test_size = 0.2, shuffle = False)\n",
    "\n",
    "train, test = train_test_split(dataset, test_size = 0.2, shuffle = True)"
   ]
  },
  {
   "cell_type": "markdown",
   "id": "91221b20",
   "metadata": {},
   "source": [
    "Импорт библиотек и модулей"
   ]
  },
  {
   "cell_type": "code",
   "execution_count": 59,
   "id": "77a18868",
   "metadata": {},
   "outputs": [],
   "source": [
    "from pyspark.sql import SparkSession # Create Session\n",
    "from pyspark.sql import functions # Import functions\n",
    "from pyspark.ml.recommendation import ALS # ALS model\n",
    "\n",
    "from pyspark.ml.evaluation import RegressionEvaluator # RMSE\n",
    "\n",
    "from pyspark import SparkContext, SparkConf"
   ]
  },
  {
   "cell_type": "markdown",
   "id": "45ae4983",
   "metadata": {},
   "source": [
    "Создание сессии (SparkSession)"
   ]
  },
  {
   "cell_type": "code",
   "execution_count": 60,
   "id": "d7c983ef",
   "metadata": {
    "scrolled": true
   },
   "outputs": [],
   "source": [
    "spark = SparkSession.builder \\\n",
    "        .appName('alsRecommendationApp') \\\n",
    "        .master('local') \\\n",
    "        .config('spark.sql.execution.arrow.pyspark.enabled', True) \\\n",
    "        .config('spark.sql.session.timeZone', 'UTC') \\\n",
    "        .config('spark.driver.memory','32G') \\\n",
    "        .config('spark.ui.showConsoleProgress', True) \\\n",
    "        .config('spark.sql.repl.eagerEval.enabled', True) \\\n",
    "        .getOrCreate()\n",
    "\n",
    "conf = SparkConf().setAppName(\"appRecommendation\").setMaster(\"local\")\n",
    "sc = SparkContext.getOrCreate(conf)"
   ]
  },
  {
   "cell_type": "markdown",
   "id": "401aa346",
   "metadata": {},
   "source": [
    "Предобработка PySpark DataFrame"
   ]
  },
  {
   "cell_type": "code",
   "execution_count": 61,
   "id": "20983b6a",
   "metadata": {},
   "outputs": [],
   "source": [
    "def pandas_to_spark(df):\n",
    "    # Pandas DataFrame to PySpark DataFrame\n",
    "    df = spark.createDataFrame(df)\n",
    "\n",
    "    # Rename columns\n",
    "    df = df.withColumnRenamed('visitorid', 'userId'\n",
    "                             ).withColumnRenamed('itemid', 'itemId'\n",
    "                                                ).withColumnRenamed('score', 'rating')\n",
    "\n",
    "    # Sort by userId & itemId columns\n",
    "    df = df.sort(\"userId\",\"itemId\")\n",
    "    return df"
   ]
  },
  {
   "cell_type": "code",
   "execution_count": 62,
   "id": "0dad9157",
   "metadata": {},
   "outputs": [
    {
     "name": "stderr",
     "output_type": "stream",
     "text": [
      "D:\\Users\\leoge\\anaconda3\\lib\\site-packages\\pyspark\\sql\\pandas\\conversion.py:428: UserWarning: createDataFrame attempted Arrow optimization because 'spark.sql.execution.arrow.pyspark.enabled' is set to true; however, failed by the reason below:\n",
      "  PyArrow >= 1.0.0 must be installed; however, it was not found.\n",
      "Attempting non-optimization as 'spark.sql.execution.arrow.pyspark.fallback.enabled' is set to true.\n",
      "  warn(msg)\n"
     ]
    }
   ],
   "source": [
    "train = pandas_to_spark(train)\n",
    "test = pandas_to_spark(test)"
   ]
  },
  {
   "cell_type": "markdown",
   "id": "22321203",
   "metadata": {},
   "source": [
    "<a id='als_implicit_model'></a>\n",
    "## Модель"
   ]
  },
  {
   "cell_type": "markdown",
   "id": "2b5892e2",
   "metadata": {},
   "source": [
    "### ALS Model"
   ]
  },
  {
   "cell_type": "code",
   "execution_count": 63,
   "id": "2a59cda4",
   "metadata": {
    "scrolled": true
   },
   "outputs": [
    {
     "data": {
      "text/plain": [
       "0.2690730007631162"
      ]
     },
     "execution_count": 63,
     "metadata": {},
     "output_type": "execute_result"
    }
   ],
   "source": [
    "# Create ALS Model\n",
    "als = ALS() \\\n",
    "    .setMaxIter(10) \\\n",
    "    .setRank(10) \\\n",
    "    .setAlpha(20) \\\n",
    "    .setRegParam(0.01) \\\n",
    "    .setUserCol(\"userId\") \\\n",
    "    .setItemCol(\"itemId\")\n",
    "\n",
    "# Train ALS Model\n",
    "model = als.fit(train)\n",
    "\n",
    "# Transform test split - make predictions  \n",
    "predictions = model.transform(test)\n",
    "predictions = predictions.na.fill(0)\n",
    "\n",
    "\n",
    "\n",
    "evaluator = RegressionEvaluator(metricName=\"rmse\",\n",
    "                                labelCol=\"rating\",\n",
    "                                predictionCol=\"prediction\")\n",
    "rmse = evaluator.evaluate(predictions)\n",
    "rmse"
   ]
  },
  {
   "cell_type": "markdown",
   "id": "1828c69b",
   "metadata": {},
   "source": [
    "## RMSE"
   ]
  },
  {
   "cell_type": "code",
   "execution_count": 64,
   "id": "3f077ca8",
   "metadata": {},
   "outputs": [],
   "source": [
    "rmse_score_dict['ALS_Implicit'] = round(rmse, 2)"
   ]
  },
  {
   "cell_type": "markdown",
   "id": "3d80015f",
   "metadata": {},
   "source": [
    "### Tune ALS Model"
   ]
  },
  {
   "cell_type": "code",
   "execution_count": 65,
   "id": "ed61da61",
   "metadata": {},
   "outputs": [],
   "source": [
    "# ranks = [10, 20, 30, 40]\n",
    "# regParams = [0.01, 0.1, 1]\n",
    "# alpha = 40\n",
    "# maxIter = 20\n",
    "    \n",
    "# def tune_ALS(train_data, validation_data, maxIter, ranks, regParams, alpha):\n",
    "#     min_error = float('inf')\n",
    "#     best_rank = -1\n",
    "#     best_regularization = 0\n",
    "#     best_model = None\n",
    "    \n",
    "#     for rank in ranks:\n",
    "#         for reg in regParams:\n",
    "#             # Create ALS model with parameters\n",
    "#             als = ALS() \\\n",
    "#                     .setMaxIter(maxIter) \\\n",
    "#                     .setRank(rank) \\\n",
    "#                     .setRegParam(reg) \\\n",
    "#                     .setAlpha(alpha) \\\n",
    "#                     .setUserCol(\"userId\") \\\n",
    "#                     .setItemCol(\"itemId\")\n",
    "            \n",
    "#             # Train ALS model\n",
    "#             model = als.fit(train)\n",
    "            \n",
    "#             # Transform test split - make predictions  \n",
    "#             predictions = model.transform(test)\n",
    "#             predictions = predictions.na.fill(0)\n",
    "            \n",
    "#             # Evaluate model - RMSE\n",
    "#             evaluator = RegressionEvaluator(metricName=\"rmse\",\n",
    "#                                             labelCol=\"rating\",\n",
    "#                                             predictionCol=\"prediction\")\n",
    "#             rmse = evaluator.evaluate(predictions)\n",
    "#             print('Latent factors = {} ; Regularization = {} ;'\n",
    "#                   'RMSE = {:.2f}'.format(rank, reg, rmse))\n",
    "            \n",
    "#             # Choose best parameters\n",
    "#             if rmse < min_error:\n",
    "#                 min_error = rmse\n",
    "#                 best_rank = rank\n",
    "#                 best_regularization = reg\n",
    "#                 best_model = model\n",
    "#     print('\\nBest model parameters: Latent factors = {} ;'\n",
    "#           'Regularization = {} ; RMSE = {:.4f}'.format(best_rank, best_regularization, min_error))\n",
    "#     return best_rank, best_regularization\n",
    "\n",
    "# best_rank, best_reg = tune_ALS(train, test, maxIter, ranks, regParams, alpha)"
   ]
  },
  {
   "cell_type": "markdown",
   "id": "709569d1",
   "metadata": {},
   "source": [
    "### Best ALS Model"
   ]
  },
  {
   "cell_type": "code",
   "execution_count": 66,
   "id": "41d759c0",
   "metadata": {
    "scrolled": true
   },
   "outputs": [],
   "source": [
    "# # Create ALS model with parameters\n",
    "# als = ALS() \\\n",
    "#         .setMaxIter(20) \\\n",
    "#         .setRank(best_rank) \\\n",
    "#         .setRegParam(best_reg) \\\n",
    "#         .setAlpha(40) \\\n",
    "#         .setUserCol(\"userId\") \\\n",
    "#         .setItemCol(\"itemId\")\n",
    "\n",
    "# # Default ALS model with better params. To use in case of skipping the previous setting.\n",
    "# # als = ALS() \\\n",
    "# #         .setMaxIter(20) \\\n",
    "# #         .setRank(40) \\\n",
    "# #         .setRegParam(0.1) \\\n",
    "# #         .setAlpha(40) \\\n",
    "# #         .setUserCol(\"userId\") \\\n",
    "# #         .setItemCol(\"itemId\")\n",
    "\n",
    "# # Train ALS model\n",
    "# model = als.fit(train)\n",
    "\n",
    "# # Transform test split - make predictions  \n",
    "# predictions = model.transform(test)\n",
    "# predictions = predictions.na.fill(0)\n",
    "\n",
    "# # Evaluate model - RMSE\n",
    "# evaluator = RegressionEvaluator(metricName=\"rmse\",\n",
    "#                                 labelCol=\"rating\",\n",
    "#                                 predictionCol=\"prediction\")\n",
    "# rmse = evaluator.evaluate(predictions)\n",
    "# print('RMSE = {:.2f}'.format(rmse))"
   ]
  },
  {
   "cell_type": "markdown",
   "id": "12cba0d4",
   "metadata": {},
   "source": [
    "## Рекомендации"
   ]
  },
  {
   "cell_type": "markdown",
   "id": "c7d0d968",
   "metadata": {},
   "source": [
    "### Тестируем предсказание"
   ]
  },
  {
   "cell_type": "code",
   "execution_count": 67,
   "id": "9ecd5a0d",
   "metadata": {
    "scrolled": false
   },
   "outputs": [
    {
     "name": "stderr",
     "output_type": "stream",
     "text": [
      "D:\\Users\\leoge\\anaconda3\\lib\\site-packages\\pyspark\\sql\\pandas\\conversion.py:117: UserWarning: toPandas attempted Arrow optimization because 'spark.sql.execution.arrow.pyspark.enabled' is set to true; however, failed by the reason below:\n",
      "  PyArrow >= 1.0.0 must be installed; however, it was not found.\n",
      "Attempting non-optimization as 'spark.sql.execution.arrow.pyspark.fallback.enabled' is set to true.\n",
      "  warn(msg)\n"
     ]
    },
    {
     "data": {
      "application/vnd.jupyter.widget-view+json": {
       "model_id": "ad1454e43207458eb03845fc0a8ee8d8",
       "version_major": 2,
       "version_minor": 0
      },
      "text/plain": [
       "  0%|          | 0/3 [00:00<?, ?it/s]"
      ]
     },
     "metadata": {},
     "output_type": "display_data"
    },
    {
     "name": "stdout",
     "output_type": "stream",
     "text": [
      "Из 9 рекомендаций, модель верно предсказала 3\n"
     ]
    },
    {
     "name": "stderr",
     "output_type": "stream",
     "text": [
      "C:\\Users\\leoge\\AppData\\Local\\Temp\\ipykernel_16120\\1979341589.py:11: FutureWarning: The frame.append method is deprecated and will be removed from pandas in a future version. Use pandas.concat instead.\n",
      "  all_df = all_df.append(choice)\n",
      "C:\\Users\\leoge\\AppData\\Local\\Temp\\ipykernel_16120\\1979341589.py:11: FutureWarning: The frame.append method is deprecated and will be removed from pandas in a future version. Use pandas.concat instead.\n",
      "  all_df = all_df.append(choice)\n",
      "C:\\Users\\leoge\\AppData\\Local\\Temp\\ipykernel_16120\\1979341589.py:11: FutureWarning: The frame.append method is deprecated and will be removed from pandas in a future version. Use pandas.concat instead.\n",
      "  all_df = all_df.append(choice)\n"
     ]
    }
   ],
   "source": [
    "from tqdm.notebook import tqdm\n",
    "try:\n",
    "    # Choose random userId\n",
    "    predictions_df = predictions.filter(predictions['prediction'] > 1.5).toPandas()#.groupby('userId').count()\n",
    "    all_df = pd.DataFrame(columns = list(predictions_df.columns))\n",
    "    prediction_count = pd.DataFrame(predictions_df.groupby(['userId'])['prediction'].count()).reset_index()\n",
    "    random_users = np.random.choice(list(prediction_count['userId'][prediction_count['prediction'] >= 3]), 3)\n",
    "\n",
    "    for userId in tqdm(random_users):\n",
    "        choice = predictions_df[predictions_df['userId'] == userId].sort_values('prediction', ascending = False)[:3]\n",
    "        all_df = all_df.append(choice)\n",
    "    \n",
    "    all_df['prediction'] = round(all_df['prediction'])\n",
    "    all_df['user_choice'] = (all_df['rating'] - all_df['prediction']).apply(lambda x: 'Right' if x == 0 else 'Wrong')\n",
    "\n",
    "    print('Из', len(all_df['user_choice']), 'рекомендаций, модель верно предсказала', len(all_df[all_df['user_choice'] == 'Right']))\n",
    "except:\n",
    "    print('Not enough training data. Try again. Less then 3 recommendations available.')"
   ]
  },
  {
   "cell_type": "markdown",
   "id": "25790df4",
   "metadata": {},
   "source": [
    "## MAP@K"
   ]
  },
  {
   "cell_type": "code",
   "execution_count": 68,
   "id": "54256ddc",
   "metadata": {},
   "outputs": [],
   "source": [
    "class mapak():\n",
    "    def __init__(self, df, col, user_col, prediction_col, users_list):\n",
    "        self.df = df\n",
    "        self.col = col\n",
    "        self.user_col = user_col\n",
    "        self.prediction_col = prediction_col\n",
    "        self.users_list = users_list\n",
    "    \n",
    "    # Mean Average Precision at K - score each individual\n",
    "    def mapak_score(self, df, col):\n",
    "        y_true = df[df[self.col] == 1]\n",
    "\n",
    "        prediction_score = 0\n",
    "        running_sum = 0\n",
    "\n",
    "        for i, v in enumerate(df[self.col]):\n",
    "            k = i+1\n",
    "            if v == 1:\n",
    "                prediction_score += 1\n",
    "                running_sum += prediction_score/k\n",
    "            else:\n",
    "                prediction_score += 0\n",
    "                running_sum += 0\n",
    "        try:        \n",
    "            return running_sum/len(y_true)\n",
    "        except:\n",
    "            return 0\n",
    "    \n",
    "    # Count the score for each user\n",
    "    def mapak_count_score(self):\n",
    "        temp_mapak_list = []\n",
    "\n",
    "        for user in self.users_list:\n",
    "            temp_df = self.df[self.df[self.user_col] == user].sort_values(self.prediction_col, ascending = False).head(3)\n",
    "            temp_df['rating'] = temp_df['rating'].fillna(0).astype(int)\n",
    "            temp_df['map'] = temp_df[self.prediction_col] - temp_df['rating'].astype(int)\n",
    "            temp_df['map'] = temp_df['map'].apply(lambda x: 1 if x == 0 else 0)\n",
    "            temp_mapak_list.append(self.mapak_score(temp_df, 'map'))\n",
    "\n",
    "        return round(sum(temp_mapak_list) / len(self.users_list), 2)"
   ]
  },
  {
   "cell_type": "code",
   "execution_count": 72,
   "id": "985faf5d",
   "metadata": {
    "scrolled": false
   },
   "outputs": [
    {
     "data": {
      "text/plain": [
       "{'collaborative': 0.1, 'ALS': 0.0, 'LightFM': 0.02, 'ALS_Implicit': 0.33}"
      ]
     },
     "execution_count": 72,
     "metadata": {},
     "output_type": "execute_result"
    }
   ],
   "source": [
    "map_at_k_score_dict['ALS_Implicit'] = mapak(all_df, 'map', 'userId', 'prediction', random_users).mapak_count_score()\n",
    "map_at_k_score_dict"
   ]
  },
  {
   "cell_type": "markdown",
   "id": "d03bd18d",
   "metadata": {},
   "source": [
    "### Рекомендуем товары пользователю"
   ]
  },
  {
   "cell_type": "code",
   "execution_count": 76,
   "id": "df20c95d",
   "metadata": {},
   "outputs": [
    {
     "name": "stderr",
     "output_type": "stream",
     "text": [
      "D:\\Users\\leoge\\anaconda3\\lib\\site-packages\\pyspark\\sql\\pandas\\conversion.py:428: UserWarning: createDataFrame attempted Arrow optimization because 'spark.sql.execution.arrow.pyspark.enabled' is set to true; however, failed by the reason below:\n",
      "  PyArrow >= 1.0.0 must be installed; however, it was not found.\n",
      "Attempting non-optimization as 'spark.sql.execution.arrow.pyspark.fallback.enabled' is set to true.\n",
      "  warn(msg)\n"
     ]
    }
   ],
   "source": [
    "# Create Spark DF from dataset\n",
    "ratings = spark.createDataFrame(dataset)\n",
    "\n",
    "# Rename columns\n",
    "ratings = ratings.withColumnRenamed('visitorid', 'userId'\n",
    "                                   ).withColumnRenamed('itemid', 'itemId'\n",
    "                                                      ).withColumnRenamed('score', 'rating')\n",
    "\n",
    "# Sort by userId & itemId columns\n",
    "ratings = ratings.sort(\"userId\",\"itemId\")"
   ]
  },
  {
   "cell_type": "code",
   "execution_count": 77,
   "id": "d981a5c8",
   "metadata": {},
   "outputs": [
    {
     "name": "stderr",
     "output_type": "stream",
     "text": [
      "D:\\Users\\leoge\\anaconda3\\lib\\site-packages\\pyspark\\sql\\pandas\\conversion.py:117: UserWarning: toPandas attempted Arrow optimization because 'spark.sql.execution.arrow.pyspark.enabled' is set to true; however, failed by the reason below:\n",
      "  PyArrow >= 1.0.0 must be installed; however, it was not found.\n",
      "Attempting non-optimization as 'spark.sql.execution.arrow.pyspark.fallback.enabled' is set to true.\n",
      "  warn(msg)\n",
      "D:\\Users\\leoge\\anaconda3\\lib\\site-packages\\pyspark\\sql\\pandas\\conversion.py:428: UserWarning: createDataFrame attempted Arrow optimization because 'spark.sql.execution.arrow.pyspark.enabled' is set to true; however, failed by the reason below:\n",
      "  PyArrow >= 1.0.0 must be installed; however, it was not found.\n",
      "Attempting non-optimization as 'spark.sql.execution.arrow.pyspark.fallback.enabled' is set to true.\n",
      "  warn(msg)\n",
      "D:\\Users\\leoge\\anaconda3\\lib\\site-packages\\pyspark\\sql\\pandas\\conversion.py:117: UserWarning: toPandas attempted Arrow optimization because 'spark.sql.execution.arrow.pyspark.enabled' is set to true; however, failed by the reason below:\n",
      "  PyArrow >= 1.0.0 must be installed; however, it was not found.\n",
      "Attempting non-optimization as 'spark.sql.execution.arrow.pyspark.fallback.enabled' is set to true.\n",
      "  warn(msg)\n"
     ]
    }
   ],
   "source": [
    "# Create distinct userId DF\n",
    "choosen_users = ratings.select(als.getUserCol()).distinct().toPandas()\n",
    "\n",
    "# Take first distinct userId\n",
    "# ratings.select(als.getUserCol()).distinct().limit(3)\n",
    "\n",
    "# Create Spark DF for random users from predictions_df\n",
    "users = spark.createDataFrame(np.random.choice(predictions_df[predictions_df['userId'].isin(list(choosen_users['userId'])\n",
    "                                                                                           )]['userId'], 3)\n",
    "                             ).withColumnRenamed('value', 'userId')\n",
    "\n",
    "# Recommend 3 items for each userId\n",
    "user_subset_recs = model.recommendForUserSubset(users, 3).toPandas()\n",
    "\n",
    "# Export item & rating from list values in row\n",
    "item_list = []\n",
    "rating_list = []\n",
    "for row in user_subset_recs['recommendations']:\n",
    "    for line in row:\n",
    "        splt = [item for item in line]\n",
    "        item_list.append(splt[0])\n",
    "        rating_list.append(splt[1])\n",
    "        \n",
    "# Create multiple userId\n",
    "userId_list = []\n",
    "for user in list(user_subset_recs['userId']):\n",
    "    userId_list.extend([user, user, user])\n",
    "    \n",
    "# Create DF\n",
    "userId_df = pd.DataFrame(userId_list, columns = ['userId'])\n",
    "userId_df['items'] = item_list\n",
    "userId_df['ratings'] = rating_list"
   ]
  },
  {
   "cell_type": "code",
   "execution_count": 78,
   "id": "074cf3fb",
   "metadata": {},
   "outputs": [
    {
     "name": "stdout",
     "output_type": "stream",
     "text": [
      "Данные о товаре 194165:\n",
      "\n",
      "Из 234838 товаров, рекомендуемый товар занимает 10898 место по числу просмотров. Кол-во просмотров: 48\n",
      "Из 23903 товаров, рекомендуемый товар занимает 19327 место по добавлению в корзину. Кол-во добавлений в корзину: 1\n",
      "Из 12025 товаров, рекомендуемый товар занимает 11940 место по покупкам. Кол-во покупок: 1\n",
      "\n",
      "Данные о товаре 334786:\n",
      "\n",
      "Из 234838 товаров, рекомендуемый товар занимает 42993 место по числу просмотров. Кол-во просмотров: 13\n",
      "Из 23903 товаров, рекомендуемый товар занимает 22295 место по добавлению в корзину. Кол-во добавлений в корзину: 1\n",
      "Из 12025 товаров, рекомендуемый товар занимает 6528 место по покупкам. Кол-во покупок: 1\n",
      "\n",
      "Данные о товаре 370442:\n",
      "\n",
      "Из 234838 товаров, рекомендуемый товар занимает 27798 место по числу просмотров. Кол-во просмотров: 21\n",
      "Товар не имеет событий addtocart.\n",
      "Из 12025 товаров, рекомендуемый товар занимает 2511 место по покупкам. Кол-во покупок: 2\n",
      "\n"
     ]
    }
   ],
   "source": [
    "check_recommendation(list(userId_df[:3]['items']))"
   ]
  },
  {
   "cell_type": "markdown",
   "id": "a0a8e85d",
   "metadata": {},
   "source": [
    "## Подведем итоги:\n",
    "<ul>\n",
    "    <li>Хороший результат! Увеличен объем данных, что делает модель более персонализированной.</li>\n",
    "    <li>RMSE уменьшилась.</li>\n",
    "    <li>На рекомендуемые товары не влияет популярность товара.</li>\n",
    "</ul>\n",
    "\n",
    "[В начало](#begin)"
   ]
  },
  {
   "cell_type": "markdown",
   "id": "bd901c3a",
   "metadata": {},
   "source": [
    "# GradientBoost Classifier & XGBoost"
   ]
  },
  {
   "cell_type": "markdown",
   "id": "91457fc5",
   "metadata": {},
   "source": [
    "XGBoost (Extreme Gradient Boost) - алгоритм, работающий с большими объемами данных и на высокой скорости. \n",
    "</br>\n",
    "</br>\n",
    "Преимущества использования XGBoost:\n",
    "- Использование L1- и L2-регуляризации\n",
    "- Сокращение - рассчитываем коэффициент усиления, если он меньше гамма, то сокращаем дерево, убирая лишние ветки/листья.\n",
    "- Позволяет работать с разреженными матрицами не проседая в скорости обработки (метод похож на SGD стохастический градиентный спуск)\n",
    "- Возможность паралелльного обучения, а используя cache-aware алгоритм он не перенагружает память процессора."
   ]
  },
  {
   "cell_type": "markdown",
   "id": "6b242ae1",
   "metadata": {},
   "source": [
    "<a id='gradient'></a>\n",
    "# GradientBoost Classifier"
   ]
  },
  {
   "cell_type": "markdown",
   "id": "68483161",
   "metadata": {},
   "source": [
    "Начнем с регрессии и пройдемся сначала по GB (градиентный бустинг). Необходимо сделать предсказание непрерывной величины.\n",
    "</br> \n",
    "</br> Задача градиентного бустинга для регрессии - минимизация ф-ии потерь $\\text{L}(y_i, F(x))$. Можно взять любую, например, среднеквадратическую ошибку (MSE).\n",
    "</br>\n",
    "</br>\n",
    "$$F_0(x) = \\text{argmin}_{\\gamma} \\sum_{i=1}^{n} \\text{L}(y_i, \\hat{y})$$\n",
    "</br>\n",
    "</br> Инициализируем кол-во деревьев - $M$. Для $M$ деревьев будем считать ф-ию потерь (обычно кол-во = 100).\n",
    "</br>\n",
    "</br> Для каждого $i$ в дереве $m$ считаем производную ф-ии потерь:\n",
    "</br>\n",
    "$$r_{im} = - \\left [\\frac{\\partial \\text{L}(y_i, F(x_i))}{\\partial F(x_i)}\\right]_{F(x)=F_{m-1}(x)}$$\n",
    "</br>\n",
    "</br> Далее мы строим предсказание на основе нового дерева, зафиксировав полученные значения для дальнейшей оптимизации градиента и само дерево (terminal regions $R_{j,m}$, где: $m$ - индекс дерева, а $j$ - индекс каждого листа).\n",
    "</br>\n",
    "</br> Для каждого листа $j$ мы будем считать минимизировать ф-ию потерь, отталкиваясь от ошибки предыдущего предсказания.\n",
    "</br>\n",
    "</br>\n",
    "$$\\gamma_{jm} = \\text{argmin}_{\\gamma} \\sum_{x_{i}\\in{R_{ij}}} \\text{L}(y_i, F_{m-1}(x_i) + \\gamma)$$\n",
    "</br>\n",
    "</br>На этом этапе мы можем подставить выбранную ф-ию потерь, например, среднеквадратическую ошибку (MSE). \n",
    "</br>\n",
    "</br>Т.к. это наше первое предсказание/первое дерево, то мы используем $F_0(x)$, значение которое мы вычислили ранее. Сейчас, с предсказанием на руках, мы можем использовать предыдущее предсказание и подставив все необходимые параметры:\n",
    "</br>\n",
    "$$F_m(x) = F_{m-1}(x) + \\nu \\sum_{j=1}^{J_{m}} \\gamma_{jm}I(x \\in R_{jm})$$"
   ]
  },
  {
   "cell_type": "markdown",
   "id": "91c8953c",
   "metadata": {},
   "source": [
    "## GradientBoost Classification"
   ]
  },
  {
   "cell_type": "markdown",
   "id": "aa3552ac",
   "metadata": {},
   "source": [
    "Градиентный бустинг для решение задач классификации.\n",
    "</br> \n",
    "</br> Для решения задач классификации градиентный бустинг предсказывает log-правдоподобие (log(likelihood)) и с помощью логит ф-ии возвращает вероятность (p) принадлежности к классу. \n",
    "</br>\n",
    "</br>Для классификации будем использовать одну из самых распространненных ф-ий потерь - Log Loss (a.k.a Logistic Loss, Bernoulli Loss), которую модель будет оптимизировать. \n",
    "</br>Как и ранее мы делаем наше первое предсказание/первое дерево - $F_0(x)$.\n",
    "</br>Поскольку увеличение правдоподобия влечет за собой более точное предсказывание, а модель лучше усваивает меньшие значения, то необходимо будет умножить ф-ию на -1. Так же преобразуем ф-ию:\n",
    "</br>\n",
    "</br>\n",
    "$$\\text{Log Loss} = \\sum_{i=1}^{N} -y_{i}\\log(p_{i})-(1-y_{i})\\log(1-p_{i}) \\implies \\sum_{i=1}^{N} -y_i \\log(\\frac{p_i}{1-p_i})+\\log(1+e^{\\log(\\frac{p_i}{1-p_i})})$$\n",
    "</br>\n",
    "</br>\n",
    "Далее идет расчет производных 1-го порядка.\n",
    "</br> Полученное значение является нашей вероятностью, которое мы можем перевести в правдоподобие.\n",
    "</br>\n",
    "</br>Следующие шаги повторяют алгоритм построения предсказания для регрессии. Не забываем про использование другой ф-ии.\n",
    "</br>\n",
    "</br>\n",
    "$$r_{im} = - \\left [\\frac{\\partial \\text{L}(y_i, F(x_i))}{\\partial F(x_i)}\\right]_{F(x)=F_{m-1}(x)}$$\n",
    "</br>\n",
    "</br>Строим регрессионное дерево решение для $r_{im}$. Вычисляем $\\gamma_{jm}$, так как оптимизация ф-ии потерь подразуемвает подбор неизвестного нам параметра, с помощью ф-ии потерь, которую мы используем для классификации.\n",
    "</br>\n",
    "</br>$$\\gamma_{jm} = \\text{argmin}_{\\gamma} \\sum_{x_{i}\\in{R_{ij}}} \\text{L}(y_i, F_{m-1}(x_i) + \\gamma) \\implies \\text{argmin}_{\\gamma} \\sum_{x_{i}\\in{R_{ij}}} -y_i [F_{m-1}(x_i) + \\gamma] + \\log(1 + e^{F_{m-1}(x_i + \\gamma)})$$\n",
    "</br>\n",
    "</br>\n",
    "</br>Чтобы вычислить $\\gamma$ мы могли бы рассчитать произведеную 1-го порядка для $\\gamma$, но дальнейший расчет был бы неприятен. Вместо этого мы применим аппроксимацию путем разложения в ряд Тейлора (Second Order Taylor Approximation).\n",
    "</br> Пример расчета для одного листа с одним значением (нужда в сумме отпадает).\n",
    "</br>\n",
    "</br>\n",
    "$$L(y_1, F_{m-1}(x_1) + \\gamma) \\approx L(y_1, F_{m-i}(x_1)) + \\frac{\\partial}{\\partial F()}L(y_1, F_{m-1}(x_1)) \\gamma + \\frac{1}{2} \\frac{\\partial^{2}}{\\partial F()^{2}} L(y_1, F_{m-1}(x_1)) \\gamma^{2}$$\n",
    "</br>\n",
    "</br> Считаем произведную 1-го порядка для $\\gamma$:\n",
    "</br>\n",
    "</br>$$\\frac{\\partial}{\\partial \\gamma} L(y_1, F_{m-1}(x_1) + \\gamma) \\approx \\frac{\\partial}{\\partial F()}L(y_1, F_{m-1}(x_1)) + \\frac{\\partial^{2}}{\\partial F()^{2}} L(y_1, F_{m-1}(x_1))\\gamma = 0$$\n",
    "</br>\n",
    "$$\\frac{\\partial^{2}}{\\partial F()^{2}} L(y_1, F_{m-1}(x_1))\\gamma = - \\frac{\\partial}{\\partial F()}L(y_1, F_{m-1}(x_1))$$\n",
    "</br>\n",
    "$$\\gamma = \\frac{- \\frac{\\partial}{\\partial F()}L(y_1, F_{m-1}(x_1))}{\\frac{\\partial^{2}}{\\partial F()^{2}} L(y_1, F_{m-1}(x_1))}$$\n",
    "</br>\n",
    "</br>Теперь мы можем подставить нашу ф-ию потерь и вычислить для нее производную.\n",
    "</br>Вычислив оптимальное значение $\\gamma$ для каждого листа мы готовы сделать новые предсказания:\n",
    "</br>\n",
    "</br>\n",
    "$$F_m(x) = F_{m-1}(x) + \\nu \\sum_{j=1}^{J_{m}} \\gamma_{jm}I(x \\in R_{jm})$$"
   ]
  },
  {
   "cell_type": "markdown",
   "id": "0d0490e6",
   "metadata": {},
   "source": [
    "## Градиентный бустинг"
   ]
  },
  {
   "cell_type": "markdown",
   "id": "22fd5b69",
   "metadata": {},
   "source": [
    "Ранее мы не нуждались в признаках, т.к. использовали разреженные матрицы пользователей и товаров.\n",
    "</br> Сейчас же основной акцент будет сделан на признаки."
   ]
  },
  {
   "cell_type": "markdown",
   "id": "7aa55c7e",
   "metadata": {},
   "source": [
    "<a id='upload'></a>\n",
    "## Импорт библиотек"
   ]
  },
  {
   "cell_type": "code",
   "execution_count": 2,
   "id": "51c71beb",
   "metadata": {},
   "outputs": [],
   "source": [
    "df_all_features = pd.read_csv('df_all_features.csv', sep = ';').drop(columns = ['Unnamed: 0'])"
   ]
  },
  {
   "cell_type": "code",
   "execution_count": 3,
   "id": "bd488644",
   "metadata": {},
   "outputs": [],
   "source": [
    "df_temp = pd.read_csv('df_temp.csv', sep = ';').drop(columns = ['Unnamed: 0'])"
   ]
  },
  {
   "cell_type": "code",
   "execution_count": 4,
   "id": "9c92adab",
   "metadata": {},
   "outputs": [],
   "source": [
    "df_temp['transaction'] = df_temp['event'].apply(lambda x: 1 if x == 'transaction' else 0)"
   ]
  },
  {
   "cell_type": "code",
   "execution_count": 5,
   "id": "48b05cf3",
   "metadata": {},
   "outputs": [],
   "source": [
    "df_all_features = pd.merge(df_all_features, df_temp[['visitorid', 'itemid', 'transaction']], on = ['visitorid', 'itemid'], how = 'left')"
   ]
  },
  {
   "cell_type": "code",
   "execution_count": 6,
   "id": "dd54885a",
   "metadata": {},
   "outputs": [],
   "source": [
    "df_all_features = df_all_features.sort_values('datetime', ascending = True)"
   ]
  },
  {
   "cell_type": "code",
   "execution_count": 7,
   "id": "a60855ce",
   "metadata": {
    "scrolled": true
   },
   "outputs": [],
   "source": [
    "df_all_features = df_all_features.drop(columns = ['event', 'timestamp', 'event_count', \n",
    "                                                  'datetime', 'date', 'day_of_week', \n",
    "                                                  'year', 'month', 'day', 'hour', 'minute'])"
   ]
  },
  {
   "cell_type": "markdown",
   "id": "0c44ef3c",
   "metadata": {},
   "source": [
    "<a id='gradient_preprocessing'></a>\n",
    "## Предобработка"
   ]
  },
  {
   "cell_type": "code",
   "execution_count": 8,
   "id": "d246d7ca",
   "metadata": {},
   "outputs": [],
   "source": [
    "from sklearn.model_selection import GridSearchCV # Param tune\n",
    "from sklearn.model_selection import cross_val_score # Cross Validation\n",
    "from xgboost import XGBClassifier # XGBoost  Classifier\n",
    "from sklearn.ensemble import GradientBoostingClassifier # GradientBoost Classifier\n",
    "\n",
    "from sklearn.preprocessing import StandardScaler # Standardize features\n",
    "from sklearn.metrics import accuracy_score # Accuracy classification score\n",
    "\n",
    "from sklearn.metrics import mean_squared_error # MSE\n",
    "\n",
    "from sklearn.preprocessing import OneHotEncoder \n",
    "\n",
    "\n",
    "#import matplotlib as mpl\n",
    "#import warnings\n",
    "#warnings.filterwarnings('ignore')\n",
    "#plt.style.use('ggplot')"
   ]
  },
  {
   "cell_type": "code",
   "execution_count": 9,
   "id": "8bff4eb7",
   "metadata": {},
   "outputs": [],
   "source": [
    "# Create a copy\n",
    "df_clear = df_all_features.copy()\n",
    "df_clear = df_clear.fillna(0)\n",
    "\n",
    "df_users_items = df_clear[['visitorid', 'itemid']]\n",
    "df_clear.drop(columns = ['visitorid', 'itemid'], axis = 1, inplace = True)\n",
    "\n",
    "#df_clear = df_clear.sample(frac = 0.1)\n",
    "\n",
    "X = df_clear.drop(columns = ['transaction'], axis = 1)\n",
    "y = df_clear['transaction']"
   ]
  },
  {
   "cell_type": "code",
   "execution_count": 10,
   "id": "d76c33a8",
   "metadata": {},
   "outputs": [],
   "source": [
    "from sklearn.model_selection import train_test_split"
   ]
  },
  {
   "cell_type": "code",
   "execution_count": 11,
   "id": "667cbb07",
   "metadata": {},
   "outputs": [],
   "source": [
    "# Split DataFrame to train and test\n",
    "x_train, x_test, y_train, y_test = train_test_split(X, y, test_size = 0.2, shuffle = False, random_state = 42)\n",
    "\n",
    "# Standardize features\n",
    "scaler = StandardScaler()\n",
    "\n",
    "x_train = scaler.fit_transform(x_train)\n",
    "x_test = scaler.fit_transform(x_test)"
   ]
  },
  {
   "cell_type": "markdown",
   "id": "7d81430b",
   "metadata": {},
   "source": [
    "<a id='gradient_model'></a>\n",
    "## Модель"
   ]
  },
  {
   "cell_type": "code",
   "execution_count": 12,
   "id": "914ab301",
   "metadata": {},
   "outputs": [
    {
     "name": "stdout",
     "output_type": "stream",
     "text": [
      "Accuracy score: 0.991\n"
     ]
    },
    {
     "data": {
      "text/plain": [
       "<Axes: >"
      ]
     },
     "execution_count": 12,
     "metadata": {},
     "output_type": "execute_result"
    },
    {
     "data": {
      "image/png": "[encoded data removed]",
      "text/plain": [
       "<Figure size 1000x400 with 1 Axes>"
      ]
     },
     "metadata": {},
     "output_type": "display_data"
    }
   ],
   "source": [
    "# Create model with params\n",
    "clf = GradientBoostingClassifier(learning_rate = 0.01, n_estimators = 100, max_depth = 3, min_samples_split = 2,\n",
    "                               min_samples_leaf = 1, subsample = 1, max_features = None)\n",
    "\n",
    "# Fit train to model \n",
    "clf.fit(x_train, y_train)\n",
    "\n",
    "# Predict test\n",
    "y_pred = clf.predict(x_test)\n",
    "\n",
    "# Accuracy score\n",
    "print('Accuracy score:',round(accuracy_score(y_pred, y_test), 3))\n",
    "\n",
    "# Show feature importances\n",
    "pd.Series(clf.feature_importances_, index = X.columns).sort_values().tail(10).plot(kind = 'barh', figsize = (10,4))"
   ]
  },
  {
   "cell_type": "markdown",
   "id": "41020591",
   "metadata": {},
   "source": [
    "Интересные показатели:\n",
    "- addtocart_before_0 - Отсутствие добавления в коризину считается самым важным признаком, возможная причина - покупка одним кликом после просмотра.\n",
    "- view_before_0 - Отсутствие просмотра. Возможные причины: ошибка при сохранении данных или прямая покупка без просмотра (не везде возможна из списка рекомендаций/каталога)\n",
    "- transaction_before_1 - Логично, т.к. возможная покупка по графику.\n",
    "- transaction_before_0 - Логично, т.к. первая покупка товара.\n",
    "- Evening - При анализе большее кол-ве покупок приходилось на данное время суток.\n",
    "- day_of_week_4 - При анализе большее кол-во покупок приходилось на данное время суток."
   ]
  },
  {
   "cell_type": "markdown",
   "id": "7e043eec",
   "metadata": {},
   "source": [
    "### Tune"
   ]
  },
  {
   "cell_type": "code",
   "execution_count": 360,
   "id": "2d25f209",
   "metadata": {},
   "outputs": [],
   "source": [
    "# Parameters Grid\n",
    "param_grid = {\n",
    "    'learning_rate' : [0.0001, 0.001, 0.01, 0.1],\n",
    "    'n_estimators' : [100, 250],\n",
    "    'max_depth': [3, 4, 5]\n",
    "}"
   ]
  },
  {
   "cell_type": "code",
   "execution_count": 361,
   "id": "7cf0a159",
   "metadata": {},
   "outputs": [
    {
     "name": "stdout",
     "output_type": "stream",
     "text": [
      "\tccp_alpha :0.0\n",
      "\tcriterion :'friedman_mse'\n",
      "\tinit :None\n",
      "\tlearning_rate :0.0001\n",
      "\tloss :'log_loss'\n",
      "\tmax_depth :3\n",
      "\tmax_features :None\n",
      "\tmax_leaf_nodes :None\n",
      "\tmin_impurity_decrease :0.0\n",
      "\tmin_samples_leaf :1\n",
      "\tmin_samples_split :2\n",
      "\tmin_weight_fraction_leaf :0.0\n",
      "\tn_estimators :100\n",
      "\tn_iter_no_change :None\n",
      "\trandom_state :None\n",
      "\tsubsample :1\n",
      "\ttol :0.0001\n",
      "\tvalidation_fraction :0.1\n",
      "\tverbose :0\n",
      "\twarm_start :False\n"
     ]
    }
   ],
   "source": [
    "# Model\n",
    "clf = GradientBoostingClassifier(max_depth = 3, \n",
    "                                 min_samples_split = 2,\n",
    "                                 min_samples_leaf = 1, \n",
    "                                 subsample = 1, \n",
    "                                 max_features = None)\n",
    "\n",
    "# Choose cross validation - 2 to speed up\n",
    "cv_n = 2\n",
    "\n",
    "clf_grid = GridSearchCV(clf, param_grid, scoring = 'accuracy', n_jobs = -1, cv = cv_n)\n",
    "\n",
    "# Train with grid params\n",
    "clf_grid.fit(x_train, y_train)"
   ]
  },
  {
   "cell_type": "code",
   "execution_count": 364,
   "id": "37f4f6c0",
   "metadata": {},
   "outputs": [
    {
     "name": "stdout",
     "output_type": "stream",
     "text": [
      "\tccp_alpha :0.0\n",
      "\tcriterion :'friedman_mse'\n",
      "\tinit :None\n",
      "\tlearning_rate :0.0001\n",
      "\tloss :'log_loss'\n",
      "\tmax_depth :3\n",
      "\tmax_features :None\n",
      "\tmax_leaf_nodes :None\n",
      "\tmin_impurity_decrease :0.0\n",
      "\tmin_samples_leaf :1\n",
      "\tmin_samples_split :2\n",
      "\tmin_weight_fraction_leaf :0.0\n",
      "\tn_estimators :100\n",
      "\tn_iter_no_change :None\n",
      "\trandom_state :None\n",
      "\tsubsample :1\n",
      "\ttol :0.0001\n",
      "\tvalidation_fraction :0.1\n",
      "\tverbose :0\n",
      "\twarm_start :False\n"
     ]
    }
   ],
   "source": [
    "# Choosing best params\n",
    "best_parameters = clf_grid.best_estimator_.get_params()\n",
    "for param_name in sorted(best_parameters.keys()):\n",
    "    print('\\t%s :%r' % (param_name, best_parameters[param_name]))"
   ]
  },
  {
   "cell_type": "code",
   "execution_count": 363,
   "id": "9214ab92",
   "metadata": {},
   "outputs": [
    {
     "name": "stdout",
     "output_type": "stream",
     "text": [
      "Accuracy score: 0.992\n"
     ]
    }
   ],
   "source": [
    "# Predict test\n",
    "y_pred = np.round(clf_grid.predict_proba(x_test)[:,1])\n",
    "\n",
    "# Accuracy score\n",
    "print('Accuracy score:',round(accuracy_score(y_pred, y_test), 3))"
   ]
  },
  {
   "cell_type": "markdown",
   "id": "2acd7144",
   "metadata": {},
   "source": [
    "## Подведем итоги:\n",
    "<ul>\n",
    "    <li>Хороший результат Accuracy Score!.</li>\n",
    "    <li>Использованы признаки датасета.</li>\n",
    "</ul>\n",
    "\n",
    "[В начало](#begin)"
   ]
  },
  {
   "cell_type": "markdown",
   "id": "7a3be6d7",
   "metadata": {},
   "source": [
    "<b>Разобрались</b>, теперь мы продолжим с <b>XGBoost</b>."
   ]
  },
  {
   "cell_type": "markdown",
   "id": "3e8a8733",
   "metadata": {},
   "source": [
    "<a id='xgboost'></a>\n",
    "# XGBoost"
   ]
  },
  {
   "cell_type": "markdown",
   "id": "f551fe57",
   "metadata": {},
   "source": [
    "XGBoost помогает решить задачу регрессии или классификации. \n",
    "</br>После разбора градиентного бустинга мы понимаем, что алгоритм оптимизации ф-ии потерь похож, но отличается методом подбора нужного параметра $\\gamma$. \n",
    "</br>\n",
    "</br>\n",
    "$$\\text{L}^{(t)} = \\sum_{i=1}^{n} l(y_i, \\hat{y}_{i}^{(t-1)} + f_{t}(x_i)) + \\sum \\gamma T + \\frac{1}{2} \\lambda ||w_j||^{2}$$\n",
    "</br>\n",
    "</br>$T$ - коэффициент сокращения\n",
    "</br>$\\frac{1}{2} \\lambda ||w_i||^{2}$ - L2 регуляризация при расчете константы, L1 регуляризация при расчете предыдущей ошибки\n",
    "</br>$\\gamma T + \\frac{1}{2} \\lambda ||w_j||^{2}$ - можно встретить как равное $\\Omega(f_j)$ ($j$ - индекс каждого листа)\n",
    "</br>\n",
    "</br>"
   ]
  },
  {
   "cell_type": "markdown",
   "id": "35412517",
   "metadata": {},
   "source": [
    "<a id='upload'></a>\n",
    "## Импорт библиотек"
   ]
  },
  {
   "cell_type": "markdown",
   "id": "de5d0b85",
   "metadata": {},
   "source": [
    "Будет использован датасет df_all_features_light, т.к. объем данных превыщает допустимый для использования на локальной машины.\n",
    "- df_all_features_light - лайт версия df_all_features, в которой убраны признаки parentid."
   ]
  },
  {
   "cell_type": "code",
   "execution_count": 36,
   "id": "f6638a96",
   "metadata": {},
   "outputs": [],
   "source": [
    "df_all_features_light = pd.read_csv('df_all_features_light.csv', sep = ';').drop(columns = ['Unnamed: 0'])\n",
    "\n",
    "df_all_features_light = df_all_features_light.sort_values('datetime', ascending = True)\n",
    "df_all_features_light = df_all_features_light.drop(columns = ['event', 'timestamp', 'event_count', \n",
    "                                                  'datetime', 'date', 'day_of_week', \n",
    "                                                  'year', 'month', 'day', \n",
    "                                                  'hour', 'minute'])"
   ]
  },
  {
   "cell_type": "markdown",
   "id": "691744d7",
   "metadata": {},
   "source": [
    "### Импорт библиотек"
   ]
  },
  {
   "cell_type": "code",
   "execution_count": 38,
   "id": "22f8393f",
   "metadata": {},
   "outputs": [],
   "source": [
    "from sklearn.model_selection import GridSearchCV # Param tune\n",
    "from sklearn.model_selection import cross_val_score # Cross Validation\n",
    "from xgboost import XGBClassifier # XGBoost  Classifier\n",
    "from sklearn.ensemble import GradientBoostingClassifier # GradientBoost Classifier\n",
    "\n",
    "from sklearn.preprocessing import StandardScaler # Standardize features\n",
    "from sklearn.preprocessing import OneHotEncoder # OneHotEncoder\n",
    "from sklearn.metrics import accuracy_score # Accuracy classification score\n",
    "\n",
    "from sklearn.model_selection import train_test_split # Train & test split\n",
    "from sklearn.metrics import mean_squared_error # MSE\n",
    "\n",
    "import matplotlib.pyplot as pyplot # Plot graph\n",
    "\n",
    "#import matplotlib as mpl\n",
    "#import warnings\n",
    "#warnings.filterwarnings('ignore')\n",
    "#plt.style.use('ggplot')"
   ]
  },
  {
   "cell_type": "markdown",
   "id": "e2626dee",
   "metadata": {},
   "source": [
    "## XGBoostClassifier"
   ]
  },
  {
   "cell_type": "markdown",
   "id": "cc0c571d",
   "metadata": {},
   "source": [
    "## "
   ]
  },
  {
   "cell_type": "markdown",
   "id": "6908efa6",
   "metadata": {},
   "source": [
    "<a id='xgboost_preprocessing'></a>\n",
    "## Предобработка"
   ]
  },
  {
   "cell_type": "code",
   "execution_count": 39,
   "id": "648783b0",
   "metadata": {},
   "outputs": [],
   "source": [
    "# Create a copy\n",
    "#df_clear = df_all_features_light.copy()\n",
    "df_clear = df_all_features_light.copy()\n",
    "df_clear = df_clear.reset_index(drop = True)\n",
    "df_clear = df_clear.fillna(0)\n",
    "\n",
    "#df_users_items = df_clear[['visitorid', 'itemid']]\n",
    "#df_clear.drop(columns = ['visitorid', 'itemid'], axis = 1, inplace = True)\n",
    "\n",
    "#df_clear = df_clear.sample(frac = 0.1)\n",
    "\n",
    "X = df_clear.drop(columns = ['transaction'], axis = 1)\n",
    "y = df_clear[['visitorid', 'itemid', 'transaction']]"
   ]
  },
  {
   "cell_type": "code",
   "execution_count": 40,
   "id": "279e3369",
   "metadata": {
    "scrolled": true
   },
   "outputs": [],
   "source": [
    "# Split DataFrame to train and test\n",
    "x_train, x_test, y_train, y_test = train_test_split(X, y, test_size = 0.2, shuffle = False, random_state = 42)\n",
    "\n",
    "# Create groups\n",
    "groups_x_train = np.array(x_train.groupby(['visitorid'])['itemid'].count())\n",
    "groups_x_test = np.array(y_train.groupby(['visitorid'])['itemid'].count())\n",
    "\n",
    "# Create original visitorid & itemid list\n",
    "x_test_list = x_test[['visitorid', 'itemid']]\n",
    "\n",
    "# Drop visitorid and itemid\n",
    "# x_train.drop(columns = ['visitorid', 'itemid'], axis = 1, inplace = True)\n",
    "# x_test.drop(columns = ['visitorid', 'itemid'], axis = 1, inplace = True)"
   ]
  },
  {
   "cell_type": "code",
   "execution_count": 41,
   "id": "79468a8b",
   "metadata": {},
   "outputs": [],
   "source": [
    "for split in [x_train, x_test, y_train, y_test]:\n",
    "    split.drop(columns = ['visitorid', 'itemid'], axis = 1, inplace = True)"
   ]
  },
  {
   "cell_type": "code",
   "execution_count": 42,
   "id": "d52264cd",
   "metadata": {},
   "outputs": [],
   "source": [
    "# # Standardize features\n",
    "# scaler = StandardScaler()\n",
    "\n",
    "# x_train = scaler.fit_transform(x_train)\n",
    "# x_test = scaler.fit_transform(x_test)"
   ]
  },
  {
   "cell_type": "code",
   "execution_count": 43,
   "id": "d628c8e4",
   "metadata": {},
   "outputs": [],
   "source": [
    "# x_train.columns=[str(col) for col in x_train.columns]\n",
    "# x_test.columns=x_train.columns\n",
    "\n",
    "# import xgboost as xgb\n",
    "\n",
    "# dmat_train=xgb.DMatrix(x_train,y_train,feature_names=x_train.columns)\n",
    "# dmat_val=xgb.DMatrix(x_test,y_test,feature_names=x_test.columns)\n",
    "\n",
    "# model=xgb.train(params,\n",
    "#                   dmat_train,\n",
    "#                   evals=[(dmat_train,'train'),(dmat_val,'validation')])\n",
    "\n",
    "# # transform probabilities to prediction labels (0,1)\n",
    "# train_preds=[1 if pred>0.5 else 0 for pred in model.predict(data=dmat_train)]\n",
    "# val_preds=[1 if pred>0.5 else 0 for pred in model.predict(data=dmat_val)]"
   ]
  },
  {
   "cell_type": "markdown",
   "id": "0c54fef4",
   "metadata": {},
   "source": [
    "<a id='xgboost_model'></a>\n",
    "## Модель"
   ]
  },
  {
   "cell_type": "code",
   "execution_count": 44,
   "id": "5798e0da",
   "metadata": {},
   "outputs": [],
   "source": [
    "eval_set = [(x_train, y_train), (x_test, y_test)]\n",
    "#eval_metric = ['auc','error'] # Choose for AUC metrices\n",
    "eval_metric=[\"error\", \"logloss\"] # Choose for LogLoss metrices"
   ]
  },
  {
   "cell_type": "code",
   "execution_count": 50,
   "id": "552d8581",
   "metadata": {},
   "outputs": [],
   "source": [
    "# Model\n",
    "xgb = XGBClassifier(objective = 'binary:logistic',\n",
    "                    #nthread = 1,\n",
    "                    gamma = 2,\n",
    "                    n_estimators = 300,\n",
    "                    learning_rate = 0.001,\n",
    "                    n_jobs = -1, \n",
    "                    verbose = 2)"
   ]
  },
  {
   "cell_type": "code",
   "execution_count": 51,
   "id": "fa38b5c6",
   "metadata": {
    "scrolled": true
   },
   "outputs": [
    {
     "name": "stderr",
     "output_type": "stream",
     "text": [
      "D:\\Users\\leoge\\anaconda3\\lib\\site-packages\\xgboost\\sklearn.py:793: UserWarning: `eval_metric` in `fit` method is deprecated for better compatibility with scikit-learn, use `eval_metric` in constructor or`set_params` instead.\n",
      "  warnings.warn(\n"
     ]
    },
    {
     "name": "stdout",
     "output_type": "stream",
     "text": [
      "[12:45:22] WARNING: C:/Users/Administrator/workspace/xgboost-win64_release_1.6.0/src/learner.cc:627: \n",
      "Parameters: { \"verbose\" } might not be used.\n",
      "\n",
      "  This could be a false alarm, with some parameters getting used by language bindings but\n",
      "  then being mistakenly passed down to XGBoost core, or some parameter actually being used\n",
      "  but getting flagged wrongly here. Please open an issue if you find any such cases.\n",
      "\n",
      "\n",
      "[0]\tvalidation_0-error:0.00924\tvalidation_0-logloss:0.69217\tvalidation_1-error:0.00913\tvalidation_1-logloss:0.69217\n",
      "[1]\tvalidation_0-error:0.00924\tvalidation_0-logloss:0.69120\tvalidation_1-error:0.00913\tvalidation_1-logloss:0.69120\n",
      "[2]\tvalidation_0-error:0.00924\tvalidation_0-logloss:0.69023\tvalidation_1-error:0.00913\tvalidation_1-logloss:0.69023\n",
      "[3]\tvalidation_0-error:0.00924\tvalidation_0-logloss:0.68926\tvalidation_1-error:0.00913\tvalidation_1-logloss:0.68926\n",
      "[4]\tvalidation_0-error:0.00924\tvalidation_0-logloss:0.68830\tvalidation_1-error:0.00913\tvalidation_1-logloss:0.68830\n",
      "[5]\tvalidation_0-error:0.00924\tvalidation_0-logloss:0.68733\tvalidation_1-error:0.00913\tvalidation_1-logloss:0.68733\n",
      "[6]\tvalidation_0-error:0.00924\tvalidation_0-logloss:0.68637\tvalidation_1-error:0.00913\tvalidation_1-logloss:0.68637\n",
      "[7]\tvalidation_0-error:0.00924\tvalidation_0-logloss:0.68541\tvalidation_1-error:0.00913\tvalidation_1-logloss:0.68541\n",
      "[8]\tvalidation_0-error:0.00924\tvalidation_0-logloss:0.68445\tvalidation_1-error:0.00913\tvalidation_1-logloss:0.68445\n",
      "[9]\tvalidation_0-error:0.00924\tvalidation_0-logloss:0.68350\tvalidation_1-error:0.00913\tvalidation_1-logloss:0.68350\n",
      "[10]\tvalidation_0-error:0.00924\tvalidation_0-logloss:0.68254\tvalidation_1-error:0.00913\tvalidation_1-logloss:0.68254\n",
      "[11]\tvalidation_0-error:0.00924\tvalidation_0-logloss:0.68159\tvalidation_1-error:0.00913\tvalidation_1-logloss:0.68159\n",
      "[12]\tvalidation_0-error:0.00924\tvalidation_0-logloss:0.68064\tvalidation_1-error:0.00913\tvalidation_1-logloss:0.68064\n",
      "[13]\tvalidation_0-error:0.00924\tvalidation_0-logloss:0.67969\tvalidation_1-error:0.00913\tvalidation_1-logloss:0.67969\n",
      "[14]\tvalidation_0-error:0.00924\tvalidation_0-logloss:0.67874\tvalidation_1-error:0.00913\tvalidation_1-logloss:0.67874\n",
      "[15]\tvalidation_0-error:0.00924\tvalidation_0-logloss:0.67780\tvalidation_1-error:0.00913\tvalidation_1-logloss:0.67780\n",
      "[16]\tvalidation_0-error:0.00924\tvalidation_0-logloss:0.67685\tvalidation_1-error:0.00913\tvalidation_1-logloss:0.67685\n",
      "[17]\tvalidation_0-error:0.00924\tvalidation_0-logloss:0.67591\tvalidation_1-error:0.00913\tvalidation_1-logloss:0.67591\n",
      "[18]\tvalidation_0-error:0.00924\tvalidation_0-logloss:0.67497\tvalidation_1-error:0.00913\tvalidation_1-logloss:0.67497\n",
      "[19]\tvalidation_0-error:0.00924\tvalidation_0-logloss:0.67403\tvalidation_1-error:0.00913\tvalidation_1-logloss:0.67404\n",
      "[20]\tvalidation_0-error:0.00924\tvalidation_0-logloss:0.67310\tvalidation_1-error:0.00913\tvalidation_1-logloss:0.67310\n",
      "[21]\tvalidation_0-error:0.00924\tvalidation_0-logloss:0.67216\tvalidation_1-error:0.00913\tvalidation_1-logloss:0.67217\n",
      "[22]\tvalidation_0-error:0.00924\tvalidation_0-logloss:0.67123\tvalidation_1-error:0.00913\tvalidation_1-logloss:0.67123\n",
      "[23]\tvalidation_0-error:0.00924\tvalidation_0-logloss:0.67030\tvalidation_1-error:0.00913\tvalidation_1-logloss:0.67030\n",
      "[24]\tvalidation_0-error:0.00924\tvalidation_0-logloss:0.66937\tvalidation_1-error:0.00913\tvalidation_1-logloss:0.66937\n",
      "[25]\tvalidation_0-error:0.00924\tvalidation_0-logloss:0.66844\tvalidation_1-error:0.00913\tvalidation_1-logloss:0.66845\n",
      "[26]\tvalidation_0-error:0.00924\tvalidation_0-logloss:0.66752\tvalidation_1-error:0.00913\tvalidation_1-logloss:0.66752\n",
      "[27]\tvalidation_0-error:0.00924\tvalidation_0-logloss:0.66660\tvalidation_1-error:0.00913\tvalidation_1-logloss:0.66660\n",
      "[28]\tvalidation_0-error:0.00924\tvalidation_0-logloss:0.66568\tvalidation_1-error:0.00913\tvalidation_1-logloss:0.66568\n",
      "[29]\tvalidation_0-error:0.00924\tvalidation_0-logloss:0.66476\tvalidation_1-error:0.00913\tvalidation_1-logloss:0.66476\n",
      "[30]\tvalidation_0-error:0.00924\tvalidation_0-logloss:0.66384\tvalidation_1-error:0.00913\tvalidation_1-logloss:0.66384\n",
      "[31]\tvalidation_0-error:0.00924\tvalidation_0-logloss:0.66292\tvalidation_1-error:0.00913\tvalidation_1-logloss:0.66293\n",
      "[32]\tvalidation_0-error:0.00924\tvalidation_0-logloss:0.66201\tvalidation_1-error:0.00913\tvalidation_1-logloss:0.66201\n",
      "[33]\tvalidation_0-error:0.00924\tvalidation_0-logloss:0.66109\tvalidation_1-error:0.00913\tvalidation_1-logloss:0.66110\n",
      "[34]\tvalidation_0-error:0.00924\tvalidation_0-logloss:0.66018\tvalidation_1-error:0.00913\tvalidation_1-logloss:0.66019\n",
      "[35]\tvalidation_0-error:0.00924\tvalidation_0-logloss:0.65927\tvalidation_1-error:0.00913\tvalidation_1-logloss:0.65928\n",
      "[36]\tvalidation_0-error:0.00924\tvalidation_0-logloss:0.65837\tvalidation_1-error:0.00913\tvalidation_1-logloss:0.65837\n",
      "[37]\tvalidation_0-error:0.00924\tvalidation_0-logloss:0.65746\tvalidation_1-error:0.00913\tvalidation_1-logloss:0.65747\n",
      "[38]\tvalidation_0-error:0.00924\tvalidation_0-logloss:0.65656\tvalidation_1-error:0.00913\tvalidation_1-logloss:0.65656\n",
      "[39]\tvalidation_0-error:0.00924\tvalidation_0-logloss:0.65566\tvalidation_1-error:0.00913\tvalidation_1-logloss:0.65566\n",
      "[40]\tvalidation_0-error:0.00924\tvalidation_0-logloss:0.65476\tvalidation_1-error:0.00913\tvalidation_1-logloss:0.65476\n",
      "[41]\tvalidation_0-error:0.00924\tvalidation_0-logloss:0.65386\tvalidation_1-error:0.00913\tvalidation_1-logloss:0.65386\n",
      "[42]\tvalidation_0-error:0.00924\tvalidation_0-logloss:0.65296\tvalidation_1-error:0.00913\tvalidation_1-logloss:0.65297\n",
      "[43]\tvalidation_0-error:0.00924\tvalidation_0-logloss:0.65206\tvalidation_1-error:0.00913\tvalidation_1-logloss:0.65207\n",
      "[44]\tvalidation_0-error:0.00924\tvalidation_0-logloss:0.65117\tvalidation_1-error:0.00913\tvalidation_1-logloss:0.65118\n",
      "[45]\tvalidation_0-error:0.00924\tvalidation_0-logloss:0.65028\tvalidation_1-error:0.00913\tvalidation_1-logloss:0.65029\n",
      "[46]\tvalidation_0-error:0.00924\tvalidation_0-logloss:0.64939\tvalidation_1-error:0.00913\tvalidation_1-logloss:0.64940\n",
      "[47]\tvalidation_0-error:0.00924\tvalidation_0-logloss:0.64850\tvalidation_1-error:0.00913\tvalidation_1-logloss:0.64851\n",
      "[48]\tvalidation_0-error:0.00924\tvalidation_0-logloss:0.64761\tvalidation_1-error:0.00913\tvalidation_1-logloss:0.64762\n",
      "[49]\tvalidation_0-error:0.00924\tvalidation_0-logloss:0.64673\tvalidation_1-error:0.00913\tvalidation_1-logloss:0.64674\n",
      "[50]\tvalidation_0-error:0.00924\tvalidation_0-logloss:0.64585\tvalidation_1-error:0.00913\tvalidation_1-logloss:0.64585\n",
      "[51]\tvalidation_0-error:0.00924\tvalidation_0-logloss:0.64497\tvalidation_1-error:0.00913\tvalidation_1-logloss:0.64497\n",
      "[52]\tvalidation_0-error:0.00924\tvalidation_0-logloss:0.64409\tvalidation_1-error:0.00913\tvalidation_1-logloss:0.64409\n",
      "[53]\tvalidation_0-error:0.00924\tvalidation_0-logloss:0.64321\tvalidation_1-error:0.00913\tvalidation_1-logloss:0.64321\n",
      "[54]\tvalidation_0-error:0.00924\tvalidation_0-logloss:0.64233\tvalidation_1-error:0.00913\tvalidation_1-logloss:0.64234\n",
      "[55]\tvalidation_0-error:0.00924\tvalidation_0-logloss:0.64146\tvalidation_1-error:0.00913\tvalidation_1-logloss:0.64146\n",
      "[56]\tvalidation_0-error:0.00924\tvalidation_0-logloss:0.64058\tvalidation_1-error:0.00913\tvalidation_1-logloss:0.64059\n",
      "[57]\tvalidation_0-error:0.00924\tvalidation_0-logloss:0.63971\tvalidation_1-error:0.00913\tvalidation_1-logloss:0.63972\n",
      "[58]\tvalidation_0-error:0.00924\tvalidation_0-logloss:0.63884\tvalidation_1-error:0.00913\tvalidation_1-logloss:0.63885\n",
      "[59]\tvalidation_0-error:0.00924\tvalidation_0-logloss:0.63797\tvalidation_1-error:0.00913\tvalidation_1-logloss:0.63798\n",
      "[60]\tvalidation_0-error:0.00924\tvalidation_0-logloss:0.63711\tvalidation_1-error:0.00913\tvalidation_1-logloss:0.63711\n",
      "[61]\tvalidation_0-error:0.00924\tvalidation_0-logloss:0.63624\tvalidation_1-error:0.00913\tvalidation_1-logloss:0.63625\n",
      "[62]\tvalidation_0-error:0.00924\tvalidation_0-logloss:0.63538\tvalidation_1-error:0.00913\tvalidation_1-logloss:0.63539\n",
      "[63]\tvalidation_0-error:0.00924\tvalidation_0-logloss:0.63452\tvalidation_1-error:0.00913\tvalidation_1-logloss:0.63452\n",
      "[64]\tvalidation_0-error:0.00924\tvalidation_0-logloss:0.63366\tvalidation_1-error:0.00913\tvalidation_1-logloss:0.63366\n",
      "[65]\tvalidation_0-error:0.00924\tvalidation_0-logloss:0.63280\tvalidation_1-error:0.00913\tvalidation_1-logloss:0.63281\n",
      "[66]\tvalidation_0-error:0.00924\tvalidation_0-logloss:0.63194\tvalidation_1-error:0.00913\tvalidation_1-logloss:0.63195\n",
      "[67]\tvalidation_0-error:0.00924\tvalidation_0-logloss:0.63109\tvalidation_1-error:0.00913\tvalidation_1-logloss:0.63109\n",
      "[68]\tvalidation_0-error:0.00924\tvalidation_0-logloss:0.63023\tvalidation_1-error:0.00913\tvalidation_1-logloss:0.63024\n",
      "[69]\tvalidation_0-error:0.00924\tvalidation_0-logloss:0.62938\tvalidation_1-error:0.00913\tvalidation_1-logloss:0.62939\n",
      "[70]\tvalidation_0-error:0.00924\tvalidation_0-logloss:0.62853\tvalidation_1-error:0.00913\tvalidation_1-logloss:0.62854\n",
      "[71]\tvalidation_0-error:0.00924\tvalidation_0-logloss:0.62768\tvalidation_1-error:0.00913\tvalidation_1-logloss:0.62769\n",
      "[72]\tvalidation_0-error:0.00924\tvalidation_0-logloss:0.62683\tvalidation_1-error:0.00913\tvalidation_1-logloss:0.62684\n",
      "[73]\tvalidation_0-error:0.00924\tvalidation_0-logloss:0.62599\tvalidation_1-error:0.00913\tvalidation_1-logloss:0.62600\n",
      "[74]\tvalidation_0-error:0.00924\tvalidation_0-logloss:0.62514\tvalidation_1-error:0.00913\tvalidation_1-logloss:0.62515\n",
      "[75]\tvalidation_0-error:0.00924\tvalidation_0-logloss:0.62430\tvalidation_1-error:0.00913\tvalidation_1-logloss:0.62431\n",
      "[76]\tvalidation_0-error:0.00924\tvalidation_0-logloss:0.62346\tvalidation_1-error:0.00913\tvalidation_1-logloss:0.62347\n",
      "[77]\tvalidation_0-error:0.00924\tvalidation_0-logloss:0.62262\tvalidation_1-error:0.00913\tvalidation_1-logloss:0.62263\n",
      "[78]\tvalidation_0-error:0.00924\tvalidation_0-logloss:0.62178\tvalidation_1-error:0.00913\tvalidation_1-logloss:0.62179\n",
      "[79]\tvalidation_0-error:0.00924\tvalidation_0-logloss:0.62095\tvalidation_1-error:0.00913\tvalidation_1-logloss:0.62096\n",
      "[80]\tvalidation_0-error:0.00924\tvalidation_0-logloss:0.62011\tvalidation_1-error:0.00913\tvalidation_1-logloss:0.62012\n",
      "[81]\tvalidation_0-error:0.00924\tvalidation_0-logloss:0.61928\tvalidation_1-error:0.00913\tvalidation_1-logloss:0.61929\n",
      "[82]\tvalidation_0-error:0.00924\tvalidation_0-logloss:0.61845\tvalidation_1-error:0.00913\tvalidation_1-logloss:0.61846\n",
      "[83]\tvalidation_0-error:0.00924\tvalidation_0-logloss:0.61762\tvalidation_1-error:0.00913\tvalidation_1-logloss:0.61763\n",
      "[84]\tvalidation_0-error:0.00924\tvalidation_0-logloss:0.61679\tvalidation_1-error:0.00913\tvalidation_1-logloss:0.61680\n",
      "[85]\tvalidation_0-error:0.00924\tvalidation_0-logloss:0.61596\tvalidation_1-error:0.00913\tvalidation_1-logloss:0.61597\n",
      "[86]\tvalidation_0-error:0.00924\tvalidation_0-logloss:0.61514\tvalidation_1-error:0.00913\tvalidation_1-logloss:0.61515\n",
      "[87]\tvalidation_0-error:0.00924\tvalidation_0-logloss:0.61431\tvalidation_1-error:0.00913\tvalidation_1-logloss:0.61432\n",
      "[88]\tvalidation_0-error:0.00924\tvalidation_0-logloss:0.61349\tvalidation_1-error:0.00913\tvalidation_1-logloss:0.61350\n",
      "[89]\tvalidation_0-error:0.00924\tvalidation_0-logloss:0.61267\tvalidation_1-error:0.00913\tvalidation_1-logloss:0.61268\n",
      "[90]\tvalidation_0-error:0.00924\tvalidation_0-logloss:0.61185\tvalidation_1-error:0.00913\tvalidation_1-logloss:0.61186\n",
      "[91]\tvalidation_0-error:0.00924\tvalidation_0-logloss:0.61103\tvalidation_1-error:0.00913\tvalidation_1-logloss:0.61104\n",
      "[92]\tvalidation_0-error:0.00924\tvalidation_0-logloss:0.61022\tvalidation_1-error:0.00913\tvalidation_1-logloss:0.61023\n",
      "[93]\tvalidation_0-error:0.00924\tvalidation_0-logloss:0.60940\tvalidation_1-error:0.00913\tvalidation_1-logloss:0.60941\n",
      "[94]\tvalidation_0-error:0.00924\tvalidation_0-logloss:0.60859\tvalidation_1-error:0.00913\tvalidation_1-logloss:0.60860\n",
      "[95]\tvalidation_0-error:0.00924\tvalidation_0-logloss:0.60778\tvalidation_1-error:0.00913\tvalidation_1-logloss:0.60779\n",
      "[96]\tvalidation_0-error:0.00924\tvalidation_0-logloss:0.60696\tvalidation_1-error:0.00913\tvalidation_1-logloss:0.60698\n",
      "[97]\tvalidation_0-error:0.00924\tvalidation_0-logloss:0.60616\tvalidation_1-error:0.00913\tvalidation_1-logloss:0.60617\n",
      "[98]\tvalidation_0-error:0.00924\tvalidation_0-logloss:0.60535\tvalidation_1-error:0.00913\tvalidation_1-logloss:0.60536\n",
      "[99]\tvalidation_0-error:0.00924\tvalidation_0-logloss:0.60454\tvalidation_1-error:0.00913\tvalidation_1-logloss:0.60455\n",
      "[100]\tvalidation_0-error:0.00924\tvalidation_0-logloss:0.60374\tvalidation_1-error:0.00913\tvalidation_1-logloss:0.60375\n",
      "[101]\tvalidation_0-error:0.00924\tvalidation_0-logloss:0.60294\tvalidation_1-error:0.00913\tvalidation_1-logloss:0.60295\n",
      "[102]\tvalidation_0-error:0.00924\tvalidation_0-logloss:0.60213\tvalidation_1-error:0.00913\tvalidation_1-logloss:0.60215\n",
      "[103]\tvalidation_0-error:0.00924\tvalidation_0-logloss:0.60133\tvalidation_1-error:0.00913\tvalidation_1-logloss:0.60135\n",
      "[104]\tvalidation_0-error:0.00924\tvalidation_0-logloss:0.60053\tvalidation_1-error:0.00913\tvalidation_1-logloss:0.60055\n",
      "[105]\tvalidation_0-error:0.00924\tvalidation_0-logloss:0.59974\tvalidation_1-error:0.00913\tvalidation_1-logloss:0.59975\n",
      "[106]\tvalidation_0-error:0.00924\tvalidation_0-logloss:0.59894\tvalidation_1-error:0.00913\tvalidation_1-logloss:0.59895\n",
      "[107]\tvalidation_0-error:0.00924\tvalidation_0-logloss:0.59815\tvalidation_1-error:0.00913\tvalidation_1-logloss:0.59816\n",
      "[108]\tvalidation_0-error:0.00924\tvalidation_0-logloss:0.59735\tvalidation_1-error:0.00913\tvalidation_1-logloss:0.59737\n",
      "[109]\tvalidation_0-error:0.00924\tvalidation_0-logloss:0.59656\tvalidation_1-error:0.00913\tvalidation_1-logloss:0.59658\n",
      "[110]\tvalidation_0-error:0.00924\tvalidation_0-logloss:0.59577\tvalidation_1-error:0.00913\tvalidation_1-logloss:0.59579\n",
      "[111]\tvalidation_0-error:0.00924\tvalidation_0-logloss:0.59498\tvalidation_1-error:0.00913\tvalidation_1-logloss:0.59500\n",
      "[112]\tvalidation_0-error:0.00924\tvalidation_0-logloss:0.59420\tvalidation_1-error:0.00913\tvalidation_1-logloss:0.59421\n",
      "[113]\tvalidation_0-error:0.00924\tvalidation_0-logloss:0.59341\tvalidation_1-error:0.00913\tvalidation_1-logloss:0.59343\n",
      "[114]\tvalidation_0-error:0.00924\tvalidation_0-logloss:0.59263\tvalidation_1-error:0.00913\tvalidation_1-logloss:0.59264\n",
      "[115]\tvalidation_0-error:0.00924\tvalidation_0-logloss:0.59184\tvalidation_1-error:0.00913\tvalidation_1-logloss:0.59186\n",
      "[116]\tvalidation_0-error:0.00924\tvalidation_0-logloss:0.59106\tvalidation_1-error:0.00913\tvalidation_1-logloss:0.59108\n",
      "[117]\tvalidation_0-error:0.00924\tvalidation_0-logloss:0.59028\tvalidation_1-error:0.00913\tvalidation_1-logloss:0.59030\n",
      "[118]\tvalidation_0-error:0.00924\tvalidation_0-logloss:0.58950\tvalidation_1-error:0.00913\tvalidation_1-logloss:0.58952\n",
      "[119]\tvalidation_0-error:0.00924\tvalidation_0-logloss:0.58873\tvalidation_1-error:0.00913\tvalidation_1-logloss:0.58874\n",
      "[120]\tvalidation_0-error:0.00924\tvalidation_0-logloss:0.58795\tvalidation_1-error:0.00913\tvalidation_1-logloss:0.58797\n",
      "[121]\tvalidation_0-error:0.00924\tvalidation_0-logloss:0.58718\tvalidation_1-error:0.00913\tvalidation_1-logloss:0.58719\n",
      "[122]\tvalidation_0-error:0.00924\tvalidation_0-logloss:0.58640\tvalidation_1-error:0.00913\tvalidation_1-logloss:0.58642\n",
      "[123]\tvalidation_0-error:0.00924\tvalidation_0-logloss:0.58563\tvalidation_1-error:0.00913\tvalidation_1-logloss:0.58565\n",
      "[124]\tvalidation_0-error:0.00924\tvalidation_0-logloss:0.58486\tvalidation_1-error:0.00913\tvalidation_1-logloss:0.58488\n",
      "[125]\tvalidation_0-error:0.00924\tvalidation_0-logloss:0.58409\tvalidation_1-error:0.00913\tvalidation_1-logloss:0.58411\n",
      "[126]\tvalidation_0-error:0.00924\tvalidation_0-logloss:0.58333\tvalidation_1-error:0.00913\tvalidation_1-logloss:0.58334\n",
      "[127]\tvalidation_0-error:0.00924\tvalidation_0-logloss:0.58256\tvalidation_1-error:0.00913\tvalidation_1-logloss:0.58257\n",
      "[128]\tvalidation_0-error:0.00924\tvalidation_0-logloss:0.58179\tvalidation_1-error:0.00913\tvalidation_1-logloss:0.58181\n",
      "[129]\tvalidation_0-error:0.00924\tvalidation_0-logloss:0.58103\tvalidation_1-error:0.00913\tvalidation_1-logloss:0.58105\n",
      "[130]\tvalidation_0-error:0.00924\tvalidation_0-logloss:0.58027\tvalidation_1-error:0.00913\tvalidation_1-logloss:0.58028\n",
      "[131]\tvalidation_0-error:0.00924\tvalidation_0-logloss:0.57951\tvalidation_1-error:0.00913\tvalidation_1-logloss:0.57952\n",
      "[132]\tvalidation_0-error:0.00924\tvalidation_0-logloss:0.57875\tvalidation_1-error:0.00913\tvalidation_1-logloss:0.57876\n",
      "[133]\tvalidation_0-error:0.00924\tvalidation_0-logloss:0.57799\tvalidation_1-error:0.00913\tvalidation_1-logloss:0.57801\n",
      "[134]\tvalidation_0-error:0.00924\tvalidation_0-logloss:0.57723\tvalidation_1-error:0.00913\tvalidation_1-logloss:0.57725\n",
      "[135]\tvalidation_0-error:0.00924\tvalidation_0-logloss:0.57648\tvalidation_1-error:0.00913\tvalidation_1-logloss:0.57650\n",
      "[136]\tvalidation_0-error:0.00924\tvalidation_0-logloss:0.57573\tvalidation_1-error:0.00913\tvalidation_1-logloss:0.57574\n",
      "[137]\tvalidation_0-error:0.00924\tvalidation_0-logloss:0.57497\tvalidation_1-error:0.00913\tvalidation_1-logloss:0.57499\n",
      "[138]\tvalidation_0-error:0.00924\tvalidation_0-logloss:0.57422\tvalidation_1-error:0.00913\tvalidation_1-logloss:0.57424\n",
      "[139]\tvalidation_0-error:0.00924\tvalidation_0-logloss:0.57347\tvalidation_1-error:0.00913\tvalidation_1-logloss:0.57349\n",
      "[140]\tvalidation_0-error:0.00924\tvalidation_0-logloss:0.57272\tvalidation_1-error:0.00913\tvalidation_1-logloss:0.57274\n",
      "[141]\tvalidation_0-error:0.00924\tvalidation_0-logloss:0.57198\tvalidation_1-error:0.00913\tvalidation_1-logloss:0.57199\n",
      "[142]\tvalidation_0-error:0.00924\tvalidation_0-logloss:0.57123\tvalidation_1-error:0.00913\tvalidation_1-logloss:0.57125\n",
      "[143]\tvalidation_0-error:0.00924\tvalidation_0-logloss:0.57048\tvalidation_1-error:0.00913\tvalidation_1-logloss:0.57050\n",
      "[144]\tvalidation_0-error:0.00924\tvalidation_0-logloss:0.56974\tvalidation_1-error:0.00913\tvalidation_1-logloss:0.56976\n",
      "[145]\tvalidation_0-error:0.00924\tvalidation_0-logloss:0.56900\tvalidation_1-error:0.00913\tvalidation_1-logloss:0.56902\n",
      "[146]\tvalidation_0-error:0.00924\tvalidation_0-logloss:0.56826\tvalidation_1-error:0.00913\tvalidation_1-logloss:0.56828\n",
      "[147]\tvalidation_0-error:0.00924\tvalidation_0-logloss:0.56752\tvalidation_1-error:0.00913\tvalidation_1-logloss:0.56754\n",
      "[148]\tvalidation_0-error:0.00924\tvalidation_0-logloss:0.56678\tvalidation_1-error:0.00913\tvalidation_1-logloss:0.56680\n",
      "[149]\tvalidation_0-error:0.00924\tvalidation_0-logloss:0.56604\tvalidation_1-error:0.00913\tvalidation_1-logloss:0.56606\n",
      "[150]\tvalidation_0-error:0.00924\tvalidation_0-logloss:0.56531\tvalidation_1-error:0.00913\tvalidation_1-logloss:0.56533\n",
      "[151]\tvalidation_0-error:0.00924\tvalidation_0-logloss:0.56457\tvalidation_1-error:0.00913\tvalidation_1-logloss:0.56459\n",
      "[152]\tvalidation_0-error:0.00924\tvalidation_0-logloss:0.56384\tvalidation_1-error:0.00913\tvalidation_1-logloss:0.56386\n",
      "[153]\tvalidation_0-error:0.00924\tvalidation_0-logloss:0.56311\tvalidation_1-error:0.00913\tvalidation_1-logloss:0.56313\n",
      "[154]\tvalidation_0-error:0.00924\tvalidation_0-logloss:0.56238\tvalidation_1-error:0.00913\tvalidation_1-logloss:0.56240\n",
      "[155]\tvalidation_0-error:0.00924\tvalidation_0-logloss:0.56165\tvalidation_1-error:0.00913\tvalidation_1-logloss:0.56167\n",
      "[156]\tvalidation_0-error:0.00924\tvalidation_0-logloss:0.56092\tvalidation_1-error:0.00913\tvalidation_1-logloss:0.56094\n",
      "[157]\tvalidation_0-error:0.00924\tvalidation_0-logloss:0.56020\tvalidation_1-error:0.00913\tvalidation_1-logloss:0.56021\n",
      "[158]\tvalidation_0-error:0.00924\tvalidation_0-logloss:0.55947\tvalidation_1-error:0.00913\tvalidation_1-logloss:0.55949\n",
      "[159]\tvalidation_0-error:0.00924\tvalidation_0-logloss:0.55875\tvalidation_1-error:0.00913\tvalidation_1-logloss:0.55877\n",
      "[160]\tvalidation_0-error:0.00924\tvalidation_0-logloss:0.55802\tvalidation_1-error:0.00913\tvalidation_1-logloss:0.55804\n",
      "[161]\tvalidation_0-error:0.00924\tvalidation_0-logloss:0.55730\tvalidation_1-error:0.00913\tvalidation_1-logloss:0.55732\n",
      "[162]\tvalidation_0-error:0.00924\tvalidation_0-logloss:0.55658\tvalidation_1-error:0.00913\tvalidation_1-logloss:0.55660\n",
      "[163]\tvalidation_0-error:0.00924\tvalidation_0-logloss:0.55586\tvalidation_1-error:0.00913\tvalidation_1-logloss:0.55588\n",
      "[164]\tvalidation_0-error:0.00924\tvalidation_0-logloss:0.55515\tvalidation_1-error:0.00913\tvalidation_1-logloss:0.55516\n",
      "[165]\tvalidation_0-error:0.00924\tvalidation_0-logloss:0.55443\tvalidation_1-error:0.00913\tvalidation_1-logloss:0.55445\n",
      "[166]\tvalidation_0-error:0.00924\tvalidation_0-logloss:0.55371\tvalidation_1-error:0.00913\tvalidation_1-logloss:0.55373\n",
      "[167]\tvalidation_0-error:0.00924\tvalidation_0-logloss:0.55300\tvalidation_1-error:0.00913\tvalidation_1-logloss:0.55302\n",
      "[168]\tvalidation_0-error:0.00924\tvalidation_0-logloss:0.55229\tvalidation_1-error:0.00913\tvalidation_1-logloss:0.55231\n",
      "[169]\tvalidation_0-error:0.00924\tvalidation_0-logloss:0.55158\tvalidation_1-error:0.00913\tvalidation_1-logloss:0.55160\n",
      "[170]\tvalidation_0-error:0.00924\tvalidation_0-logloss:0.55086\tvalidation_1-error:0.00913\tvalidation_1-logloss:0.55088\n",
      "[171]\tvalidation_0-error:0.00924\tvalidation_0-logloss:0.55016\tvalidation_1-error:0.00913\tvalidation_1-logloss:0.55018\n",
      "[172]\tvalidation_0-error:0.00924\tvalidation_0-logloss:0.54945\tvalidation_1-error:0.00913\tvalidation_1-logloss:0.54947\n",
      "[173]\tvalidation_0-error:0.00924\tvalidation_0-logloss:0.54874\tvalidation_1-error:0.00913\tvalidation_1-logloss:0.54876\n",
      "[174]\tvalidation_0-error:0.00924\tvalidation_0-logloss:0.54804\tvalidation_1-error:0.00913\tvalidation_1-logloss:0.54806\n",
      "[175]\tvalidation_0-error:0.00924\tvalidation_0-logloss:0.54733\tvalidation_1-error:0.00913\tvalidation_1-logloss:0.54735\n",
      "[176]\tvalidation_0-error:0.00924\tvalidation_0-logloss:0.54663\tvalidation_1-error:0.00913\tvalidation_1-logloss:0.54665\n",
      "[177]\tvalidation_0-error:0.00924\tvalidation_0-logloss:0.54593\tvalidation_1-error:0.00913\tvalidation_1-logloss:0.54595\n",
      "[178]\tvalidation_0-error:0.00924\tvalidation_0-logloss:0.54523\tvalidation_1-error:0.00913\tvalidation_1-logloss:0.54525\n",
      "[179]\tvalidation_0-error:0.00924\tvalidation_0-logloss:0.54453\tvalidation_1-error:0.00913\tvalidation_1-logloss:0.54455\n",
      "[180]\tvalidation_0-error:0.00924\tvalidation_0-logloss:0.54383\tvalidation_1-error:0.00913\tvalidation_1-logloss:0.54385\n",
      "[181]\tvalidation_0-error:0.00924\tvalidation_0-logloss:0.54313\tvalidation_1-error:0.00913\tvalidation_1-logloss:0.54315\n",
      "[182]\tvalidation_0-error:0.00924\tvalidation_0-logloss:0.54244\tvalidation_1-error:0.00913\tvalidation_1-logloss:0.54246\n",
      "[183]\tvalidation_0-error:0.00924\tvalidation_0-logloss:0.54174\tvalidation_1-error:0.00913\tvalidation_1-logloss:0.54176\n",
      "[184]\tvalidation_0-error:0.00924\tvalidation_0-logloss:0.54105\tvalidation_1-error:0.00913\tvalidation_1-logloss:0.54107\n",
      "[185]\tvalidation_0-error:0.00924\tvalidation_0-logloss:0.54036\tvalidation_1-error:0.00913\tvalidation_1-logloss:0.54038\n",
      "[186]\tvalidation_0-error:0.00924\tvalidation_0-logloss:0.53967\tvalidation_1-error:0.00913\tvalidation_1-logloss:0.53969\n",
      "[187]\tvalidation_0-error:0.00924\tvalidation_0-logloss:0.53898\tvalidation_1-error:0.00913\tvalidation_1-logloss:0.53900\n",
      "[188]\tvalidation_0-error:0.00924\tvalidation_0-logloss:0.53829\tvalidation_1-error:0.00913\tvalidation_1-logloss:0.53831\n",
      "[189]\tvalidation_0-error:0.00924\tvalidation_0-logloss:0.53760\tvalidation_1-error:0.00913\tvalidation_1-logloss:0.53762\n",
      "[190]\tvalidation_0-error:0.00924\tvalidation_0-logloss:0.53691\tvalidation_1-error:0.00913\tvalidation_1-logloss:0.53693\n",
      "[191]\tvalidation_0-error:0.00924\tvalidation_0-logloss:0.53623\tvalidation_1-error:0.00913\tvalidation_1-logloss:0.53625\n",
      "[192]\tvalidation_0-error:0.00924\tvalidation_0-logloss:0.53554\tvalidation_1-error:0.00913\tvalidation_1-logloss:0.53557\n",
      "[193]\tvalidation_0-error:0.00924\tvalidation_0-logloss:0.53486\tvalidation_1-error:0.00913\tvalidation_1-logloss:0.53488\n",
      "[194]\tvalidation_0-error:0.00924\tvalidation_0-logloss:0.53418\tvalidation_1-error:0.00913\tvalidation_1-logloss:0.53420\n",
      "[195]\tvalidation_0-error:0.00924\tvalidation_0-logloss:0.53350\tvalidation_1-error:0.00913\tvalidation_1-logloss:0.53352\n",
      "[196]\tvalidation_0-error:0.00924\tvalidation_0-logloss:0.53282\tvalidation_1-error:0.00913\tvalidation_1-logloss:0.53284\n",
      "[197]\tvalidation_0-error:0.00924\tvalidation_0-logloss:0.53214\tvalidation_1-error:0.00913\tvalidation_1-logloss:0.53216\n",
      "[198]\tvalidation_0-error:0.00924\tvalidation_0-logloss:0.53146\tvalidation_1-error:0.00913\tvalidation_1-logloss:0.53149\n",
      "[199]\tvalidation_0-error:0.00924\tvalidation_0-logloss:0.53079\tvalidation_1-error:0.00913\tvalidation_1-logloss:0.53081\n",
      "[200]\tvalidation_0-error:0.00924\tvalidation_0-logloss:0.53011\tvalidation_1-error:0.00913\tvalidation_1-logloss:0.53014\n",
      "[201]\tvalidation_0-error:0.00924\tvalidation_0-logloss:0.52944\tvalidation_1-error:0.00913\tvalidation_1-logloss:0.52946\n",
      "[202]\tvalidation_0-error:0.00924\tvalidation_0-logloss:0.52877\tvalidation_1-error:0.00913\tvalidation_1-logloss:0.52879\n",
      "[203]\tvalidation_0-error:0.00924\tvalidation_0-logloss:0.52810\tvalidation_1-error:0.00913\tvalidation_1-logloss:0.52812\n",
      "[204]\tvalidation_0-error:0.00924\tvalidation_0-logloss:0.52743\tvalidation_1-error:0.00913\tvalidation_1-logloss:0.52745\n",
      "[205]\tvalidation_0-error:0.00924\tvalidation_0-logloss:0.52676\tvalidation_1-error:0.00913\tvalidation_1-logloss:0.52678\n",
      "[206]\tvalidation_0-error:0.00924\tvalidation_0-logloss:0.52609\tvalidation_1-error:0.00913\tvalidation_1-logloss:0.52611\n",
      "[207]\tvalidation_0-error:0.00924\tvalidation_0-logloss:0.52542\tvalidation_1-error:0.00913\tvalidation_1-logloss:0.52545\n",
      "[208]\tvalidation_0-error:0.00924\tvalidation_0-logloss:0.52476\tvalidation_1-error:0.00913\tvalidation_1-logloss:0.52478\n",
      "[209]\tvalidation_0-error:0.00924\tvalidation_0-logloss:0.52409\tvalidation_1-error:0.00913\tvalidation_1-logloss:0.52412\n",
      "[210]\tvalidation_0-error:0.00924\tvalidation_0-logloss:0.52343\tvalidation_1-error:0.00913\tvalidation_1-logloss:0.52345\n",
      "[211]\tvalidation_0-error:0.00924\tvalidation_0-logloss:0.52277\tvalidation_1-error:0.00913\tvalidation_1-logloss:0.52279\n",
      "[212]\tvalidation_0-error:0.00924\tvalidation_0-logloss:0.52211\tvalidation_1-error:0.00913\tvalidation_1-logloss:0.52213\n",
      "[213]\tvalidation_0-error:0.00924\tvalidation_0-logloss:0.52145\tvalidation_1-error:0.00913\tvalidation_1-logloss:0.52147\n",
      "[214]\tvalidation_0-error:0.00924\tvalidation_0-logloss:0.52079\tvalidation_1-error:0.00913\tvalidation_1-logloss:0.52081\n",
      "[215]\tvalidation_0-error:0.00924\tvalidation_0-logloss:0.52013\tvalidation_1-error:0.00913\tvalidation_1-logloss:0.52015\n",
      "[216]\tvalidation_0-error:0.00924\tvalidation_0-logloss:0.51947\tvalidation_1-error:0.00913\tvalidation_1-logloss:0.51950\n",
      "[217]\tvalidation_0-error:0.00924\tvalidation_0-logloss:0.51882\tvalidation_1-error:0.00913\tvalidation_1-logloss:0.51884\n",
      "[218]\tvalidation_0-error:0.00924\tvalidation_0-logloss:0.51816\tvalidation_1-error:0.00913\tvalidation_1-logloss:0.51819\n",
      "[219]\tvalidation_0-error:0.00924\tvalidation_0-logloss:0.51751\tvalidation_1-error:0.00913\tvalidation_1-logloss:0.51753\n",
      "[220]\tvalidation_0-error:0.00924\tvalidation_0-logloss:0.51686\tvalidation_1-error:0.00913\tvalidation_1-logloss:0.51688\n",
      "[221]\tvalidation_0-error:0.00924\tvalidation_0-logloss:0.51620\tvalidation_1-error:0.00913\tvalidation_1-logloss:0.51623\n",
      "[222]\tvalidation_0-error:0.00924\tvalidation_0-logloss:0.51555\tvalidation_1-error:0.00913\tvalidation_1-logloss:0.51558\n",
      "[223]\tvalidation_0-error:0.00924\tvalidation_0-logloss:0.51490\tvalidation_1-error:0.00913\tvalidation_1-logloss:0.51493\n",
      "[224]\tvalidation_0-error:0.00924\tvalidation_0-logloss:0.51426\tvalidation_1-error:0.00913\tvalidation_1-logloss:0.51428\n",
      "[225]\tvalidation_0-error:0.00924\tvalidation_0-logloss:0.51361\tvalidation_1-error:0.00913\tvalidation_1-logloss:0.51364\n",
      "[226]\tvalidation_0-error:0.00924\tvalidation_0-logloss:0.51296\tvalidation_1-error:0.00913\tvalidation_1-logloss:0.51299\n",
      "[227]\tvalidation_0-error:0.00924\tvalidation_0-logloss:0.51232\tvalidation_1-error:0.00913\tvalidation_1-logloss:0.51235\n",
      "[228]\tvalidation_0-error:0.00924\tvalidation_0-logloss:0.51168\tvalidation_1-error:0.00913\tvalidation_1-logloss:0.51170\n",
      "[229]\tvalidation_0-error:0.00924\tvalidation_0-logloss:0.51103\tvalidation_1-error:0.00913\tvalidation_1-logloss:0.51106\n",
      "[230]\tvalidation_0-error:0.00924\tvalidation_0-logloss:0.51039\tvalidation_1-error:0.00913\tvalidation_1-logloss:0.51042\n",
      "[231]\tvalidation_0-error:0.00924\tvalidation_0-logloss:0.50975\tvalidation_1-error:0.00913\tvalidation_1-logloss:0.50978\n",
      "[232]\tvalidation_0-error:0.00924\tvalidation_0-logloss:0.50911\tvalidation_1-error:0.00913\tvalidation_1-logloss:0.50914\n",
      "[233]\tvalidation_0-error:0.00924\tvalidation_0-logloss:0.50847\tvalidation_1-error:0.00913\tvalidation_1-logloss:0.50850\n",
      "[234]\tvalidation_0-error:0.00924\tvalidation_0-logloss:0.50784\tvalidation_1-error:0.00913\tvalidation_1-logloss:0.50786\n",
      "[235]\tvalidation_0-error:0.00924\tvalidation_0-logloss:0.50720\tvalidation_1-error:0.00913\tvalidation_1-logloss:0.50723\n",
      "[236]\tvalidation_0-error:0.00924\tvalidation_0-logloss:0.50656\tvalidation_1-error:0.00913\tvalidation_1-logloss:0.50659\n",
      "[237]\tvalidation_0-error:0.00924\tvalidation_0-logloss:0.50593\tvalidation_1-error:0.00913\tvalidation_1-logloss:0.50596\n",
      "[238]\tvalidation_0-error:0.00924\tvalidation_0-logloss:0.50530\tvalidation_1-error:0.00913\tvalidation_1-logloss:0.50532\n",
      "[239]\tvalidation_0-error:0.00924\tvalidation_0-logloss:0.50466\tvalidation_1-error:0.00913\tvalidation_1-logloss:0.50469\n",
      "[240]\tvalidation_0-error:0.00924\tvalidation_0-logloss:0.50403\tvalidation_1-error:0.00913\tvalidation_1-logloss:0.50406\n",
      "[241]\tvalidation_0-error:0.00924\tvalidation_0-logloss:0.50340\tvalidation_1-error:0.00913\tvalidation_1-logloss:0.50343\n",
      "[242]\tvalidation_0-error:0.00924\tvalidation_0-logloss:0.50277\tvalidation_1-error:0.00913\tvalidation_1-logloss:0.50280\n",
      "[243]\tvalidation_0-error:0.00924\tvalidation_0-logloss:0.50215\tvalidation_1-error:0.00913\tvalidation_1-logloss:0.50217\n",
      "[244]\tvalidation_0-error:0.00924\tvalidation_0-logloss:0.50152\tvalidation_1-error:0.00913\tvalidation_1-logloss:0.50155\n",
      "[245]\tvalidation_0-error:0.00924\tvalidation_0-logloss:0.50089\tvalidation_1-error:0.00913\tvalidation_1-logloss:0.50092\n",
      "[246]\tvalidation_0-error:0.00924\tvalidation_0-logloss:0.50027\tvalidation_1-error:0.00913\tvalidation_1-logloss:0.50030\n",
      "[247]\tvalidation_0-error:0.00924\tvalidation_0-logloss:0.49965\tvalidation_1-error:0.00913\tvalidation_1-logloss:0.49967\n",
      "[248]\tvalidation_0-error:0.00924\tvalidation_0-logloss:0.49902\tvalidation_1-error:0.00913\tvalidation_1-logloss:0.49905\n",
      "[249]\tvalidation_0-error:0.00924\tvalidation_0-logloss:0.49840\tvalidation_1-error:0.00913\tvalidation_1-logloss:0.49843\n",
      "[250]\tvalidation_0-error:0.00924\tvalidation_0-logloss:0.49778\tvalidation_1-error:0.00913\tvalidation_1-logloss:0.49781\n",
      "[251]\tvalidation_0-error:0.00924\tvalidation_0-logloss:0.49716\tvalidation_1-error:0.00913\tvalidation_1-logloss:0.49719\n",
      "[252]\tvalidation_0-error:0.00924\tvalidation_0-logloss:0.49654\tvalidation_1-error:0.00913\tvalidation_1-logloss:0.49657\n",
      "[253]\tvalidation_0-error:0.00924\tvalidation_0-logloss:0.49592\tvalidation_1-error:0.00913\tvalidation_1-logloss:0.49595\n",
      "[254]\tvalidation_0-error:0.00924\tvalidation_0-logloss:0.49531\tvalidation_1-error:0.00913\tvalidation_1-logloss:0.49534\n",
      "[255]\tvalidation_0-error:0.00924\tvalidation_0-logloss:0.49469\tvalidation_1-error:0.00913\tvalidation_1-logloss:0.49472\n",
      "[256]\tvalidation_0-error:0.00924\tvalidation_0-logloss:0.49408\tvalidation_1-error:0.00913\tvalidation_1-logloss:0.49411\n",
      "[257]\tvalidation_0-error:0.00924\tvalidation_0-logloss:0.49346\tvalidation_1-error:0.00913\tvalidation_1-logloss:0.49349\n",
      "[258]\tvalidation_0-error:0.00924\tvalidation_0-logloss:0.49285\tvalidation_1-error:0.00913\tvalidation_1-logloss:0.49288\n",
      "[259]\tvalidation_0-error:0.00924\tvalidation_0-logloss:0.49224\tvalidation_1-error:0.00913\tvalidation_1-logloss:0.49227\n",
      "[260]\tvalidation_0-error:0.00924\tvalidation_0-logloss:0.49163\tvalidation_1-error:0.00913\tvalidation_1-logloss:0.49166\n",
      "[261]\tvalidation_0-error:0.00924\tvalidation_0-logloss:0.49102\tvalidation_1-error:0.00913\tvalidation_1-logloss:0.49105\n",
      "[262]\tvalidation_0-error:0.00924\tvalidation_0-logloss:0.49041\tvalidation_1-error:0.00913\tvalidation_1-logloss:0.49044\n",
      "[263]\tvalidation_0-error:0.00924\tvalidation_0-logloss:0.48980\tvalidation_1-error:0.00913\tvalidation_1-logloss:0.48983\n",
      "[264]\tvalidation_0-error:0.00924\tvalidation_0-logloss:0.48920\tvalidation_1-error:0.00913\tvalidation_1-logloss:0.48923\n",
      "[265]\tvalidation_0-error:0.00924\tvalidation_0-logloss:0.48859\tvalidation_1-error:0.00913\tvalidation_1-logloss:0.48862\n",
      "[266]\tvalidation_0-error:0.00924\tvalidation_0-logloss:0.48798\tvalidation_1-error:0.00913\tvalidation_1-logloss:0.48802\n",
      "[267]\tvalidation_0-error:0.00924\tvalidation_0-logloss:0.48738\tvalidation_1-error:0.00913\tvalidation_1-logloss:0.48741\n",
      "[268]\tvalidation_0-error:0.00924\tvalidation_0-logloss:0.48678\tvalidation_1-error:0.00913\tvalidation_1-logloss:0.48681\n",
      "[269]\tvalidation_0-error:0.00924\tvalidation_0-logloss:0.48618\tvalidation_1-error:0.00913\tvalidation_1-logloss:0.48621\n",
      "[270]\tvalidation_0-error:0.00924\tvalidation_0-logloss:0.48558\tvalidation_1-error:0.00913\tvalidation_1-logloss:0.48561\n",
      "[271]\tvalidation_0-error:0.00924\tvalidation_0-logloss:0.48498\tvalidation_1-error:0.00913\tvalidation_1-logloss:0.48501\n",
      "[272]\tvalidation_0-error:0.00924\tvalidation_0-logloss:0.48438\tvalidation_1-error:0.00913\tvalidation_1-logloss:0.48441\n",
      "[273]\tvalidation_0-error:0.00924\tvalidation_0-logloss:0.48378\tvalidation_1-error:0.00913\tvalidation_1-logloss:0.48381\n",
      "[274]\tvalidation_0-error:0.00924\tvalidation_0-logloss:0.48318\tvalidation_1-error:0.00913\tvalidation_1-logloss:0.48321\n",
      "[275]\tvalidation_0-error:0.00924\tvalidation_0-logloss:0.48259\tvalidation_1-error:0.00913\tvalidation_1-logloss:0.48262\n",
      "[276]\tvalidation_0-error:0.00924\tvalidation_0-logloss:0.48199\tvalidation_1-error:0.00913\tvalidation_1-logloss:0.48202\n",
      "[277]\tvalidation_0-error:0.00924\tvalidation_0-logloss:0.48140\tvalidation_1-error:0.00913\tvalidation_1-logloss:0.48143\n",
      "[278]\tvalidation_0-error:0.00924\tvalidation_0-logloss:0.48080\tvalidation_1-error:0.00913\tvalidation_1-logloss:0.48084\n",
      "[279]\tvalidation_0-error:0.00924\tvalidation_0-logloss:0.48021\tvalidation_1-error:0.00913\tvalidation_1-logloss:0.48024\n",
      "[280]\tvalidation_0-error:0.00924\tvalidation_0-logloss:0.47962\tvalidation_1-error:0.00913\tvalidation_1-logloss:0.47965\n",
      "[281]\tvalidation_0-error:0.00924\tvalidation_0-logloss:0.47903\tvalidation_1-error:0.00913\tvalidation_1-logloss:0.47906\n",
      "[282]\tvalidation_0-error:0.00924\tvalidation_0-logloss:0.47844\tvalidation_1-error:0.00913\tvalidation_1-logloss:0.47847\n",
      "[283]\tvalidation_0-error:0.00924\tvalidation_0-logloss:0.47785\tvalidation_1-error:0.00913\tvalidation_1-logloss:0.47788\n",
      "[284]\tvalidation_0-error:0.00924\tvalidation_0-logloss:0.47726\tvalidation_1-error:0.00913\tvalidation_1-logloss:0.47730\n",
      "[285]\tvalidation_0-error:0.00924\tvalidation_0-logloss:0.47668\tvalidation_1-error:0.00913\tvalidation_1-logloss:0.47671\n",
      "[286]\tvalidation_0-error:0.00924\tvalidation_0-logloss:0.47609\tvalidation_1-error:0.00913\tvalidation_1-logloss:0.47613\n",
      "[287]\tvalidation_0-error:0.00924\tvalidation_0-logloss:0.47551\tvalidation_1-error:0.00913\tvalidation_1-logloss:0.47554\n",
      "[288]\tvalidation_0-error:0.00924\tvalidation_0-logloss:0.47492\tvalidation_1-error:0.00913\tvalidation_1-logloss:0.47496\n",
      "[289]\tvalidation_0-error:0.00924\tvalidation_0-logloss:0.47434\tvalidation_1-error:0.00913\tvalidation_1-logloss:0.47438\n",
      "[290]\tvalidation_0-error:0.00924\tvalidation_0-logloss:0.47376\tvalidation_1-error:0.00913\tvalidation_1-logloss:0.47379\n",
      "[291]\tvalidation_0-error:0.00924\tvalidation_0-logloss:0.47318\tvalidation_1-error:0.00913\tvalidation_1-logloss:0.47321\n",
      "[292]\tvalidation_0-error:0.00924\tvalidation_0-logloss:0.47260\tvalidation_1-error:0.00913\tvalidation_1-logloss:0.47263\n",
      "[293]\tvalidation_0-error:0.00924\tvalidation_0-logloss:0.47202\tvalidation_1-error:0.00913\tvalidation_1-logloss:0.47205\n",
      "[294]\tvalidation_0-error:0.00924\tvalidation_0-logloss:0.47144\tvalidation_1-error:0.00913\tvalidation_1-logloss:0.47148\n",
      "[295]\tvalidation_0-error:0.00924\tvalidation_0-logloss:0.47086\tvalidation_1-error:0.00913\tvalidation_1-logloss:0.47090\n",
      "[296]\tvalidation_0-error:0.00924\tvalidation_0-logloss:0.47029\tvalidation_1-error:0.00913\tvalidation_1-logloss:0.47032\n",
      "[297]\tvalidation_0-error:0.00924\tvalidation_0-logloss:0.46971\tvalidation_1-error:0.00913\tvalidation_1-logloss:0.46975\n",
      "[298]\tvalidation_0-error:0.00924\tvalidation_0-logloss:0.46914\tvalidation_1-error:0.00913\tvalidation_1-logloss:0.46917\n",
      "[299]\tvalidation_0-error:0.00924\tvalidation_0-logloss:0.46857\tvalidation_1-error:0.00913\tvalidation_1-logloss:0.46860\n"
     ]
    },
    {
     "data": {
      "text/html": [
       "<style>#sk-container-id-5 {color: black;background-color: white;}#sk-container-id-5 pre{padding: 0;}#sk-container-id-5 div.sk-toggleable {background-color: white;}#sk-container-id-5 label.sk-toggleable__label {cursor: pointer;display: block;width: 100%;margin-bottom: 0;padding: 0.3em;box-sizing: border-box;text-align: center;}#sk-container-id-5 label.sk-toggleable__label-arrow:before {content: \"▸\";float: left;margin-right: 0.25em;color: #696969;}#sk-container-id-5 label.sk-toggleable__label-arrow:hover:before {color: black;}#sk-container-id-5 div.sk-estimator:hover label.sk-toggleable__label-arrow:before {color: black;}#sk-container-id-5 div.sk-toggleable__content {max-height: 0;max-width: 0;overflow: hidden;text-align: left;background-color: #f0f8ff;}#sk-container-id-5 div.sk-toggleable__content pre {margin: 0.2em;color: black;border-radius: 0.25em;background-color: #f0f8ff;}#sk-container-id-5 input.sk-toggleable__control:checked~div.sk-toggleable__content {max-height: 200px;max-width: 100%;overflow: auto;}#sk-container-id-5 input.sk-toggleable__control:checked~label.sk-toggleable__label-arrow:before {content: \"▾\";}#sk-container-id-5 div.sk-estimator input.sk-toggleable__control:checked~label.sk-toggleable__label {background-color: #d4ebff;}#sk-container-id-5 div.sk-label input.sk-toggleable__control:checked~label.sk-toggleable__label {background-color: #d4ebff;}#sk-container-id-5 input.sk-hidden--visually {border: 0;clip: rect(1px 1px 1px 1px);clip: rect(1px, 1px, 1px, 1px);height: 1px;margin: -1px;overflow: hidden;padding: 0;position: absolute;width: 1px;}#sk-container-id-5 div.sk-estimator {font-family: monospace;background-color: #f0f8ff;border: 1px dotted black;border-radius: 0.25em;box-sizing: border-box;margin-bottom: 0.5em;}#sk-container-id-5 div.sk-estimator:hover {background-color: #d4ebff;}#sk-container-id-5 div.sk-parallel-item::after {content: \"\";width: 100%;border-bottom: 1px solid gray;flex-grow: 1;}#sk-container-id-5 div.sk-label:hover label.sk-toggleable__label {background-color: #d4ebff;}#sk-container-id-5 div.sk-serial::before {content: \"\";position: absolute;border-left: 1px solid gray;box-sizing: border-box;top: 0;bottom: 0;left: 50%;z-index: 0;}#sk-container-id-5 div.sk-serial {display: flex;flex-direction: column;align-items: center;background-color: white;padding-right: 0.2em;padding-left: 0.2em;position: relative;}#sk-container-id-5 div.sk-item {position: relative;z-index: 1;}#sk-container-id-5 div.sk-parallel {display: flex;align-items: stretch;justify-content: center;background-color: white;position: relative;}#sk-container-id-5 div.sk-item::before, #sk-container-id-5 div.sk-parallel-item::before {content: \"\";position: absolute;border-left: 1px solid gray;box-sizing: border-box;top: 0;bottom: 0;left: 50%;z-index: -1;}#sk-container-id-5 div.sk-parallel-item {display: flex;flex-direction: column;z-index: 1;position: relative;background-color: white;}#sk-container-id-5 div.sk-parallel-item:first-child::after {align-self: flex-end;width: 50%;}#sk-container-id-5 div.sk-parallel-item:last-child::after {align-self: flex-start;width: 50%;}#sk-container-id-5 div.sk-parallel-item:only-child::after {width: 0;}#sk-container-id-5 div.sk-dashed-wrapped {border: 1px dashed gray;margin: 0 0.4em 0.5em 0.4em;box-sizing: border-box;padding-bottom: 0.4em;background-color: white;}#sk-container-id-5 div.sk-label label {font-family: monospace;font-weight: bold;display: inline-block;line-height: 1.2em;}#sk-container-id-5 div.sk-label-container {text-align: center;}#sk-container-id-5 div.sk-container {/* jupyter's `normalize.less` sets `[hidden] { display: none; }` but bootstrap.min.css set `[hidden] { display: none !important; }` so we also need the `!important` here to be able to override the default hidden behavior on the sphinx rendered scikit-learn.org. See: https://github.com/scikit-learn/scikit-learn/issues/21755 */display: inline-block !important;position: relative;}#sk-container-id-5 div.sk-text-repr-fallback {display: none;}</style><div id=\"sk-container-id-5\" class=\"sk-top-container\"><div class=\"sk-text-repr-fallback\"><pre>XGBClassifier(base_score=0.5, booster=&#x27;gbtree&#x27;, callbacks=None,\n",
       "              colsample_bylevel=1, colsample_bynode=1, colsample_bytree=1,\n",
       "              early_stopping_rounds=None, enable_categorical=False,\n",
       "              eval_metric=None, gamma=2, gpu_id=-1, grow_policy=&#x27;depthwise&#x27;,\n",
       "              importance_type=None, interaction_constraints=&#x27;&#x27;,\n",
       "              learning_rate=0.001, max_bin=256, max_cat_to_onehot=4,\n",
       "              max_delta_step=0, max_depth=6, max_leaves=0, min_child_weight=1,\n",
       "              missing=nan, monotone_constraints=&#x27;()&#x27;, n_estimators=300,\n",
       "              n_jobs=-1, num_parallel_tree=1, predictor=&#x27;auto&#x27;, random_state=0,\n",
       "              reg_alpha=0, reg_lambda=1, ...)</pre><b>In a Jupyter environment, please rerun this cell to show the HTML representation or trust the notebook. <br />On GitHub, the HTML representation is unable to render, please try loading this page with nbviewer.org.</b></div><div class=\"sk-container\" hidden><div class=\"sk-item\"><div class=\"sk-estimator sk-toggleable\"><input class=\"sk-toggleable__control sk-hidden--visually\" id=\"sk-estimator-id-5\" type=\"checkbox\" checked><label for=\"sk-estimator-id-5\" class=\"sk-toggleable__label sk-toggleable__label-arrow\">XGBClassifier</label><div class=\"sk-toggleable__content\"><pre>XGBClassifier(base_score=0.5, booster=&#x27;gbtree&#x27;, callbacks=None,\n",
       "              colsample_bylevel=1, colsample_bynode=1, colsample_bytree=1,\n",
       "              early_stopping_rounds=None, enable_categorical=False,\n",
       "              eval_metric=None, gamma=2, gpu_id=-1, grow_policy=&#x27;depthwise&#x27;,\n",
       "              importance_type=None, interaction_constraints=&#x27;&#x27;,\n",
       "              learning_rate=0.001, max_bin=256, max_cat_to_onehot=4,\n",
       "              max_delta_step=0, max_depth=6, max_leaves=0, min_child_weight=1,\n",
       "              missing=nan, monotone_constraints=&#x27;()&#x27;, n_estimators=300,\n",
       "              n_jobs=-1, num_parallel_tree=1, predictor=&#x27;auto&#x27;, random_state=0,\n",
       "              reg_alpha=0, reg_lambda=1, ...)</pre></div></div></div></div></div>"
      ],
      "text/plain": [
       "XGBClassifier(base_score=0.5, booster='gbtree', callbacks=None,\n",
       "              colsample_bylevel=1, colsample_bynode=1, colsample_bytree=1,\n",
       "              early_stopping_rounds=None, enable_categorical=False,\n",
       "              eval_metric=None, gamma=2, gpu_id=-1, grow_policy='depthwise',\n",
       "              importance_type=None, interaction_constraints='',\n",
       "              learning_rate=0.001, max_bin=256, max_cat_to_onehot=4,\n",
       "              max_delta_step=0, max_depth=6, max_leaves=0, min_child_weight=1,\n",
       "              missing=nan, monotone_constraints='()', n_estimators=300,\n",
       "              n_jobs=-1, num_parallel_tree=1, predictor='auto', random_state=0,\n",
       "              reg_alpha=0, reg_lambda=1, ...)"
      ]
     },
     "execution_count": 51,
     "metadata": {},
     "output_type": "execute_result"
    }
   ],
   "source": [
    "xgb.fit(x_train, \n",
    "        y_train, \n",
    "        eval_set=eval_set, \n",
    "        eval_metric=eval_metric, \n",
    "        verbose=True)"
   ]
  },
  {
   "cell_type": "code",
   "execution_count": 52,
   "id": "30aba015",
   "metadata": {},
   "outputs": [],
   "source": [
    "# Predict target\n",
    "y_pred = xgb.predict(x_test)"
   ]
  },
  {
   "cell_type": "markdown",
   "id": "7f59c3eb",
   "metadata": {},
   "source": [
    "### XGBoost features importances"
   ]
  },
  {
   "cell_type": "markdown",
   "id": "f38e74df",
   "metadata": {},
   "source": [
    "Значения df_all_features_light"
   ]
  },
  {
   "cell_type": "code",
   "execution_count": 15,
   "id": "1ca6468d",
   "metadata": {},
   "outputs": [
    {
     "data": {
      "text/plain": [
       "<Axes: >"
      ]
     },
     "execution_count": 15,
     "metadata": {},
     "output_type": "execute_result"
    },
    {
     "data": {
      "image/png": "[encoded data removed]",
      "text/plain": [
       "<Figure size 1000x400 with 1 Axes>"
      ]
     },
     "metadata": {},
     "output_type": "display_data"
    }
   ],
   "source": [
    "# Show feature importances\n",
    "pd.Series(xgb.feature_importances_, index = X.drop(columns = ['visitorid', 'itemid']).columns).sort_values().tail(10).plot(kind = 'barh', figsize = (10,4))"
   ]
  },
  {
   "cell_type": "markdown",
   "id": "a0671838",
   "metadata": {},
   "source": [
    "### LogLoss Error"
   ]
  },
  {
   "cell_type": "code",
   "execution_count": 53,
   "id": "776bb324",
   "metadata": {},
   "outputs": [
    {
     "data": {
      "image/png": "[encoded data removed]",
      "text/plain": [
       "<Figure size 640x480 with 1 Axes>"
      ]
     },
     "metadata": {},
     "output_type": "display_data"
    },
    {
     "data": {
      "image/png": "[encoded data removed]",
      "text/plain": [
       "<Figure size 640x480 with 1 Axes>"
      ]
     },
     "metadata": {},
     "output_type": "display_data"
    }
   ],
   "source": [
    "# retrieve performance metrics\n",
    "results = xgb.evals_result()\n",
    "epochs = len(results['validation_0']['error'])\n",
    "x_axis = range(0, epochs)\n",
    "\n",
    "# plot log loss\n",
    "fig, ax = pyplot.subplots()\n",
    "ax.plot(x_axis, results['validation_0']['logloss'], label='Train')\n",
    "ax.plot(x_axis, results['validation_1']['logloss'], label='Test')\n",
    "ax.legend()\n",
    "pyplot.ylabel('Log Loss')\n",
    "pyplot.title('XGBoost Log Loss')\n",
    "pyplot.show()\n",
    "# plot classification error\n",
    "fig, ax = pyplot.subplots()\n",
    "ax.plot(x_axis, results['validation_0']['error'], label='Train')\n",
    "ax.plot(x_axis, results['validation_1']['error'], label='Test')\n",
    "ax.legend()\n",
    "pyplot.ylabel('Classification Error')\n",
    "pyplot.title('XGBoost Classification Error')\n",
    "pyplot.show()"
   ]
  },
  {
   "cell_type": "markdown",
   "id": "3f36f0f4",
   "metadata": {},
   "source": [
    "### AUC Error"
   ]
  },
  {
   "cell_type": "code",
   "execution_count": 186,
   "id": "5d1f23f9",
   "metadata": {},
   "outputs": [],
   "source": [
    "# results = xgb.evals_result()\n",
    "# epochs = len(results['validation_0']['error'])\n",
    "# x_axis = range(0, epochs)\n",
    "\n",
    "# fig, ax = pyplot.subplots()\n",
    "# ax.plot(x_axis, results['validation_0']['auc'], label='Train')\n",
    "# ax.plot(x_axis, results['validation_1']['auc'], label='Test')\n",
    "# ax.legend()\n",
    "# pyplot.ylabel('AUC')\n",
    "# pyplot.title('XGBoost AUC')\n",
    "# pyplot.show()"
   ]
  },
  {
   "cell_type": "markdown",
   "id": "ae4873cb",
   "metadata": {},
   "source": [
    "### Accuracy score"
   ]
  },
  {
   "cell_type": "code",
   "execution_count": 26,
   "id": "69422ece",
   "metadata": {},
   "outputs": [
    {
     "name": "stdout",
     "output_type": "stream",
     "text": [
      "Accuracy score: 0.991\n"
     ]
    }
   ],
   "source": [
    "# Accuracy score\n",
    "print('Accuracy score:',round(accuracy_score(y_pred, y_test), 3))"
   ]
  },
  {
   "cell_type": "code",
   "execution_count": 27,
   "id": "65327aca",
   "metadata": {},
   "outputs": [],
   "source": [
    "# Choose only items, that will be selled\n",
    "predicted_items = pd.DataFrame(data={'itemid':x_test_list['itemid'], 'target':y_pred})\n",
    "\n",
    "predicted_yes = predicted_items[predicted_items['target'] == 1.0]\n",
    "predicted_no = predicted_items[predicted_items['target'] == 0.0]"
   ]
  },
  {
   "cell_type": "code",
   "execution_count": 29,
   "id": "587c8c03",
   "metadata": {},
   "outputs": [
    {
     "name": "stderr",
     "output_type": "stream",
     "text": [
      "D:\\Users\\leoge\\anaconda3\\lib\\site-packages\\sklearn\\metrics\\_classification.py:1344: UndefinedMetricWarning: Precision and F-score are ill-defined and being set to 0.0 in labels with no predicted samples. Use `zero_division` parameter to control this behavior.\n",
      "  _warn_prf(average, modifier, msg_start, len(result))\n",
      "D:\\Users\\leoge\\anaconda3\\lib\\site-packages\\sklearn\\metrics\\_classification.py:1344: UndefinedMetricWarning: Precision and F-score are ill-defined and being set to 0.0 in labels with no predicted samples. Use `zero_division` parameter to control this behavior.\n",
      "  _warn_prf(average, modifier, msg_start, len(result))\n"
     ]
    },
    {
     "name": "stdout",
     "output_type": "stream",
     "text": [
      "              precision    recall  f1-score   support\n",
      "\n",
      "         0.0       0.99      1.00      1.00    424769\n",
      "         1.0       1.00      0.04      0.07      4067\n",
      "         2.0       0.81      1.00      0.90       161\n",
      "         3.0       0.00      0.00      0.00        31\n",
      "         4.0       0.00      0.00      0.00         2\n",
      "         5.0       0.00      0.00      0.00         4\n",
      "         9.0       0.00      0.00      0.00         1\n",
      "        14.0       0.00      0.00      0.00         1\n",
      "\n",
      "    accuracy                           0.99    429036\n",
      "   macro avg       0.35      0.25      0.25    429036\n",
      "weighted avg       0.99      0.99      0.99    429036\n",
      "\n"
     ]
    },
    {
     "name": "stderr",
     "output_type": "stream",
     "text": [
      "D:\\Users\\leoge\\anaconda3\\lib\\site-packages\\sklearn\\metrics\\_classification.py:1344: UndefinedMetricWarning: Precision and F-score are ill-defined and being set to 0.0 in labels with no predicted samples. Use `zero_division` parameter to control this behavior.\n",
      "  _warn_prf(average, modifier, msg_start, len(result))\n"
     ]
    }
   ],
   "source": [
    "from sklearn.metrics import classification_report\n",
    "print(classification_report(y_test, y_pred))"
   ]
  },
  {
   "cell_type": "markdown",
   "id": "7569e211",
   "metadata": {},
   "source": [
    "## Tune"
   ]
  },
  {
   "cell_type": "code",
   "execution_count": 42,
   "id": "d6d7af84",
   "metadata": {},
   "outputs": [],
   "source": [
    "params = {\n",
    "        #'min_child_weight' : [1, 5, 10],\n",
    "        'gamma' : [0.5, 1, 1.5, 2],\n",
    "        #'subsample' : [0.6, 0.8, 1.0],\n",
    "        #'colsample_bytree' : [0.6, 0.8, 1.0],\n",
    "        #'max_depth' : [3, 4, 5],\n",
    "        #'n_estimators' : [100, 250, 500],\n",
    "        #'learning_rate' : [0.0001, 0.001, 0.01, 0.1]\n",
    "        }"
   ]
  },
  {
   "cell_type": "code",
   "execution_count": 43,
   "id": "0fe891df",
   "metadata": {
    "scrolled": true
   },
   "outputs": [
    {
     "name": "stdout",
     "output_type": "stream",
     "text": [
      "Fitting 2 folds for each of 4 candidates, totalling 8 fits\n"
     ]
    },
    {
     "data": {
      "text/html": [
       "<style>#sk-container-id-2 {color: black;background-color: white;}#sk-container-id-2 pre{padding: 0;}#sk-container-id-2 div.sk-toggleable {background-color: white;}#sk-container-id-2 label.sk-toggleable__label {cursor: pointer;display: block;width: 100%;margin-bottom: 0;padding: 0.3em;box-sizing: border-box;text-align: center;}#sk-container-id-2 label.sk-toggleable__label-arrow:before {content: \"▸\";float: left;margin-right: 0.25em;color: #696969;}#sk-container-id-2 label.sk-toggleable__label-arrow:hover:before {color: black;}#sk-container-id-2 div.sk-estimator:hover label.sk-toggleable__label-arrow:before {color: black;}#sk-container-id-2 div.sk-toggleable__content {max-height: 0;max-width: 0;overflow: hidden;text-align: left;background-color: #f0f8ff;}#sk-container-id-2 div.sk-toggleable__content pre {margin: 0.2em;color: black;border-radius: 0.25em;background-color: #f0f8ff;}#sk-container-id-2 input.sk-toggleable__control:checked~div.sk-toggleable__content {max-height: 200px;max-width: 100%;overflow: auto;}#sk-container-id-2 input.sk-toggleable__control:checked~label.sk-toggleable__label-arrow:before {content: \"▾\";}#sk-container-id-2 div.sk-estimator input.sk-toggleable__control:checked~label.sk-toggleable__label {background-color: #d4ebff;}#sk-container-id-2 div.sk-label input.sk-toggleable__control:checked~label.sk-toggleable__label {background-color: #d4ebff;}#sk-container-id-2 input.sk-hidden--visually {border: 0;clip: rect(1px 1px 1px 1px);clip: rect(1px, 1px, 1px, 1px);height: 1px;margin: -1px;overflow: hidden;padding: 0;position: absolute;width: 1px;}#sk-container-id-2 div.sk-estimator {font-family: monospace;background-color: #f0f8ff;border: 1px dotted black;border-radius: 0.25em;box-sizing: border-box;margin-bottom: 0.5em;}#sk-container-id-2 div.sk-estimator:hover {background-color: #d4ebff;}#sk-container-id-2 div.sk-parallel-item::after {content: \"\";width: 100%;border-bottom: 1px solid gray;flex-grow: 1;}#sk-container-id-2 div.sk-label:hover label.sk-toggleable__label {background-color: #d4ebff;}#sk-container-id-2 div.sk-serial::before {content: \"\";position: absolute;border-left: 1px solid gray;box-sizing: border-box;top: 0;bottom: 0;left: 50%;z-index: 0;}#sk-container-id-2 div.sk-serial {display: flex;flex-direction: column;align-items: center;background-color: white;padding-right: 0.2em;padding-left: 0.2em;position: relative;}#sk-container-id-2 div.sk-item {position: relative;z-index: 1;}#sk-container-id-2 div.sk-parallel {display: flex;align-items: stretch;justify-content: center;background-color: white;position: relative;}#sk-container-id-2 div.sk-item::before, #sk-container-id-2 div.sk-parallel-item::before {content: \"\";position: absolute;border-left: 1px solid gray;box-sizing: border-box;top: 0;bottom: 0;left: 50%;z-index: -1;}#sk-container-id-2 div.sk-parallel-item {display: flex;flex-direction: column;z-index: 1;position: relative;background-color: white;}#sk-container-id-2 div.sk-parallel-item:first-child::after {align-self: flex-end;width: 50%;}#sk-container-id-2 div.sk-parallel-item:last-child::after {align-self: flex-start;width: 50%;}#sk-container-id-2 div.sk-parallel-item:only-child::after {width: 0;}#sk-container-id-2 div.sk-dashed-wrapped {border: 1px dashed gray;margin: 0 0.4em 0.5em 0.4em;box-sizing: border-box;padding-bottom: 0.4em;background-color: white;}#sk-container-id-2 div.sk-label label {font-family: monospace;font-weight: bold;display: inline-block;line-height: 1.2em;}#sk-container-id-2 div.sk-label-container {text-align: center;}#sk-container-id-2 div.sk-container {/* jupyter's `normalize.less` sets `[hidden] { display: none; }` but bootstrap.min.css set `[hidden] { display: none !important; }` so we also need the `!important` here to be able to override the default hidden behavior on the sphinx rendered scikit-learn.org. See: https://github.com/scikit-learn/scikit-learn/issues/21755 */display: inline-block !important;position: relative;}#sk-container-id-2 div.sk-text-repr-fallback {display: none;}</style><div id=\"sk-container-id-2\" class=\"sk-top-container\"><div class=\"sk-text-repr-fallback\"><pre>GridSearchCV(cv=2,\n",
       "             estimator=XGBClassifier(base_score=None, booster=None,\n",
       "                                     callbacks=None, colsample_bylevel=None,\n",
       "                                     colsample_bynode=None,\n",
       "                                     colsample_bytree=None,\n",
       "                                     early_stopping_rounds=None,\n",
       "                                     enable_categorical=False, eval_metric=None,\n",
       "                                     gamma=None, gpu_id=None, grow_policy=None,\n",
       "                                     importance_type=None,\n",
       "                                     interaction_constraints=None,\n",
       "                                     learning_rate=0.0001, max_bin=None,\n",
       "                                     max_cat_to_onehot=None,\n",
       "                                     max_delta_step=None, max_depth=None,\n",
       "                                     max_leaves=None, min_child_weight=None,\n",
       "                                     missing=nan, monotone_constraints=None,\n",
       "                                     n_estimators=100, n_jobs=-1, nthread=1,\n",
       "                                     num_parallel_tree=None, predictor=None,\n",
       "                                     random_state=None, reg_alpha=None, ...),\n",
       "             n_jobs=-1, param_grid={&#x27;gamma&#x27;: [0.5, 1, 1.5, 2]},\n",
       "             scoring=&#x27;accuracy&#x27;, verbose=3)</pre><b>In a Jupyter environment, please rerun this cell to show the HTML representation or trust the notebook. <br />On GitHub, the HTML representation is unable to render, please try loading this page with nbviewer.org.</b></div><div class=\"sk-container\" hidden><div class=\"sk-item sk-dashed-wrapped\"><div class=\"sk-label-container\"><div class=\"sk-label sk-toggleable\"><input class=\"sk-toggleable__control sk-hidden--visually\" id=\"sk-estimator-id-2\" type=\"checkbox\" ><label for=\"sk-estimator-id-2\" class=\"sk-toggleable__label sk-toggleable__label-arrow\">GridSearchCV</label><div class=\"sk-toggleable__content\"><pre>GridSearchCV(cv=2,\n",
       "             estimator=XGBClassifier(base_score=None, booster=None,\n",
       "                                     callbacks=None, colsample_bylevel=None,\n",
       "                                     colsample_bynode=None,\n",
       "                                     colsample_bytree=None,\n",
       "                                     early_stopping_rounds=None,\n",
       "                                     enable_categorical=False, eval_metric=None,\n",
       "                                     gamma=None, gpu_id=None, grow_policy=None,\n",
       "                                     importance_type=None,\n",
       "                                     interaction_constraints=None,\n",
       "                                     learning_rate=0.0001, max_bin=None,\n",
       "                                     max_cat_to_onehot=None,\n",
       "                                     max_delta_step=None, max_depth=None,\n",
       "                                     max_leaves=None, min_child_weight=None,\n",
       "                                     missing=nan, monotone_constraints=None,\n",
       "                                     n_estimators=100, n_jobs=-1, nthread=1,\n",
       "                                     num_parallel_tree=None, predictor=None,\n",
       "                                     random_state=None, reg_alpha=None, ...),\n",
       "             n_jobs=-1, param_grid={&#x27;gamma&#x27;: [0.5, 1, 1.5, 2]},\n",
       "             scoring=&#x27;accuracy&#x27;, verbose=3)</pre></div></div></div><div class=\"sk-parallel\"><div class=\"sk-parallel-item\"><div class=\"sk-item\"><div class=\"sk-label-container\"><div class=\"sk-label sk-toggleable\"><input class=\"sk-toggleable__control sk-hidden--visually\" id=\"sk-estimator-id-3\" type=\"checkbox\" ><label for=\"sk-estimator-id-3\" class=\"sk-toggleable__label sk-toggleable__label-arrow\">estimator: XGBClassifier</label><div class=\"sk-toggleable__content\"><pre>XGBClassifier(base_score=None, booster=None, callbacks=None,\n",
       "              colsample_bylevel=None, colsample_bynode=None,\n",
       "              colsample_bytree=None, early_stopping_rounds=None,\n",
       "              enable_categorical=False, eval_metric=None, gamma=None,\n",
       "              gpu_id=None, grow_policy=None, importance_type=None,\n",
       "              interaction_constraints=None, learning_rate=0.0001, max_bin=None,\n",
       "              max_cat_to_onehot=None, max_delta_step=None, max_depth=None,\n",
       "              max_leaves=None, min_child_weight=None, missing=nan,\n",
       "              monotone_constraints=None, n_estimators=100, n_jobs=-1, nthread=1,\n",
       "              num_parallel_tree=None, predictor=None, random_state=None,\n",
       "              reg_alpha=None, ...)</pre></div></div></div><div class=\"sk-serial\"><div class=\"sk-item\"><div class=\"sk-estimator sk-toggleable\"><input class=\"sk-toggleable__control sk-hidden--visually\" id=\"sk-estimator-id-4\" type=\"checkbox\" ><label for=\"sk-estimator-id-4\" class=\"sk-toggleable__label sk-toggleable__label-arrow\">XGBClassifier</label><div class=\"sk-toggleable__content\"><pre>XGBClassifier(base_score=None, booster=None, callbacks=None,\n",
       "              colsample_bylevel=None, colsample_bynode=None,\n",
       "              colsample_bytree=None, early_stopping_rounds=None,\n",
       "              enable_categorical=False, eval_metric=None, gamma=None,\n",
       "              gpu_id=None, grow_policy=None, importance_type=None,\n",
       "              interaction_constraints=None, learning_rate=0.0001, max_bin=None,\n",
       "              max_cat_to_onehot=None, max_delta_step=None, max_depth=None,\n",
       "              max_leaves=None, min_child_weight=None, missing=nan,\n",
       "              monotone_constraints=None, n_estimators=100, n_jobs=-1, nthread=1,\n",
       "              num_parallel_tree=None, predictor=None, random_state=None,\n",
       "              reg_alpha=None, ...)</pre></div></div></div></div></div></div></div></div></div></div>"
      ],
      "text/plain": [
       "GridSearchCV(cv=2,\n",
       "             estimator=XGBClassifier(base_score=None, booster=None,\n",
       "                                     callbacks=None, colsample_bylevel=None,\n",
       "                                     colsample_bynode=None,\n",
       "                                     colsample_bytree=None,\n",
       "                                     early_stopping_rounds=None,\n",
       "                                     enable_categorical=False, eval_metric=None,\n",
       "                                     gamma=None, gpu_id=None, grow_policy=None,\n",
       "                                     importance_type=None,\n",
       "                                     interaction_constraints=None,\n",
       "                                     learning_rate=0.0001, max_bin=None,\n",
       "                                     max_cat_to_onehot=None,\n",
       "                                     max_delta_step=None, max_depth=None,\n",
       "                                     max_leaves=None, min_child_weight=None,\n",
       "                                     missing=nan, monotone_constraints=None,\n",
       "                                     n_estimators=100, n_jobs=-1, nthread=1,\n",
       "                                     num_parallel_tree=None, predictor=None,\n",
       "                                     random_state=None, reg_alpha=None, ...),\n",
       "             n_jobs=-1, param_grid={'gamma': [0.5, 1, 1.5, 2]},\n",
       "             scoring='accuracy', verbose=3)"
      ]
     },
     "execution_count": 43,
     "metadata": {},
     "output_type": "execute_result"
    }
   ],
   "source": [
    "# Model\n",
    "xgb = XGBClassifier(objective = 'binary:logistic',\n",
    "                    nthread = 1,\n",
    "                    n_estimators = 100,\n",
    "                    learning_rate = 0.0001,\n",
    "                    n_jobs = -1)\n",
    "\n",
    "# Choose cross validation - 2 to speed up\n",
    "n_cv = 2\n",
    "\n",
    "# skf = StratifiedKFold(n_splits = n_cv, \n",
    "#                       shuffle = False)\n",
    "\n",
    "clf_grid = GridSearchCV(xgb,\n",
    "                       params,\n",
    "                       n_jobs = -1, \n",
    "                       cv = 2, #skf.split(x_train,y_train), \n",
    "                       scoring = 'accuracy',\n",
    "                       verbose = 3)\n",
    "\n",
    "# Train with grid params\n",
    "clf_grid.fit(x_train, y_train)"
   ]
  },
  {
   "cell_type": "code",
   "execution_count": 69,
   "id": "75a12a17",
   "metadata": {},
   "outputs": [
    {
     "name": "stdout",
     "output_type": "stream",
     "text": [
      "\n",
      " All results:\n",
      "{'mean_fit_time': array([211.25832367, 212.90275705, 245.62185717, 148.38638461]), 'std_fit_time': array([1.58407807, 1.42924821, 6.1689322 , 2.41107357]), 'mean_score_time': array([4.70164216, 4.15274167, 2.98400879, 2.68381011]), 'std_score_time': array([0.49020946, 0.46463871, 0.01844978, 0.01350486]), 'param_gamma': masked_array(data=[0.5, 1, 1.5, 2],\n",
      "             mask=[False, False, False, False],\n",
      "       fill_value='?',\n",
      "            dtype=object), 'params': [{'gamma': 0.5}, {'gamma': 1}, {'gamma': 1.5}, {'gamma': 2}], 'split0_test_score': array([0.97948491, 0.97948491, 0.97948491, 0.97948491]), 'split1_test_score': array([0.97988374, 0.97988374, 0.97988374, 0.97988374]), 'mean_test_score': array([0.97968432, 0.97968432, 0.97968432, 0.97968432]), 'std_test_score': array([0.00019941, 0.00019941, 0.00019941, 0.00019941]), 'rank_test_score': array([1, 1, 1, 1])}\n",
      "\n",
      " Best estimator:\n",
      "XGBClassifier(base_score=0.5, booster='gbtree', callbacks=None,\n",
      "              colsample_bylevel=1, colsample_bynode=1, colsample_bytree=1,\n",
      "              early_stopping_rounds=None, enable_categorical=False,\n",
      "              eval_metric=None, gamma=0.5, gpu_id=-1, grow_policy='depthwise',\n",
      "              importance_type=None, interaction_constraints='',\n",
      "              learning_rate=0.0001, max_bin=256, max_cat_to_onehot=4,\n",
      "              max_delta_step=0, max_depth=6, max_leaves=0, min_child_weight=1,\n",
      "              missing=nan, monotone_constraints='()', n_estimators=100,\n",
      "              n_jobs=-1, nthread=1, num_parallel_tree=1, predictor='auto',\n",
      "              random_state=0, reg_alpha=0, ...)\n",
      "\n",
      " Best hyperparameters:\n",
      "{'gamma': 0.5}\n"
     ]
    }
   ],
   "source": [
    "print('\\n All results:')\n",
    "print(clf_grid.cv_results_)\n",
    "print('\\n Best estimator:')\n",
    "print(clf_grid.best_estimator_)\n",
    "print('\\n Best hyperparameters:')\n",
    "print(clf_grid.best_params_)\n",
    "#results = pd.DataFrame(random_search.cv_results_)\n",
    "#results.to_csv('xgb-random-grid-search-results-01.csv', index=False)"
   ]
  },
  {
   "cell_type": "code",
   "execution_count": 75,
   "id": "a38f137e",
   "metadata": {},
   "outputs": [],
   "source": [
    "y_pred = clf_grid.predict(x_test)\n",
    "\n",
    "results_df = pd.DataFrame(data={'itemid':x_test_list['itemid'], 'target':y_pred})\n",
    "results_df['target'] = np.round(results_df['target'])\n",
    "results_yes = results_df[results_df['target'] == 1.0]"
   ]
  },
  {
   "cell_type": "code",
   "execution_count": 76,
   "id": "3b958a5b",
   "metadata": {},
   "outputs": [
    {
     "name": "stdout",
     "output_type": "stream",
     "text": [
      "Accuracy score: 0.979\n"
     ]
    }
   ],
   "source": [
    "# Accuracy score\n",
    "print('Accuracy score:',round(accuracy_score(y_pred, y_test), 3))"
   ]
  },
  {
   "cell_type": "code",
   "execution_count": 77,
   "id": "48d2b08f",
   "metadata": {},
   "outputs": [
    {
     "name": "stdout",
     "output_type": "stream",
     "text": [
      "              precision    recall  f1-score   support\n",
      "\n",
      "         0.0       0.98      1.00      0.99     89430\n",
      "         1.0       0.94      0.07      0.13      2089\n",
      "\n",
      "    accuracy                           0.98     91519\n",
      "   macro avg       0.96      0.53      0.56     91519\n",
      "weighted avg       0.98      0.98      0.97     91519\n",
      "\n"
     ]
    }
   ],
   "source": [
    "from sklearn.metrics import classification_report\n",
    "print(classification_report(y_test, y_pred))"
   ]
  },
  {
   "cell_type": "markdown",
   "id": "abb4fb85",
   "metadata": {},
   "source": [
    "## Подведем итоги:\n",
    "<ul>\n",
    "    <li>Скорость обработки увеличилась.</li>\n",
    "    <li>Увеличен допустимый объем данных.</li>\n",
    "</ul>\n",
    "\n",
    "[В начало](#begin)"
   ]
  },
  {
   "cell_type": "markdown",
   "id": "d914ca4d",
   "metadata": {},
   "source": [
    "# Заключение:\n",
    "<ul>\n",
    "    <li>Наилучшее решение, в данной задаче, использовать ALS модель, так как мы ограничены в признаках. </li>\n",
    "</ul>\n",
    "Ключевые признаки для приобретения товара:\n",
    "<ul>\n",
    "    <li>Время суток (вечер и/или ночь).</li>\n",
    "    <li>Прямые клики по покупке товара. При условии, что это не отклонение из-за ограниченного потока данных.</li>\n",
    "    <li>Покупки на выходные дни.</li>\n",
    "</ul>"
   ]
  },
  {
   "cell_type": "markdown",
   "id": "5db0a574",
   "metadata": {},
   "source": [
    "### Дальнейшие действия:\n",
    "<br>\n",
    "Как показала метрика MAP@K, наилучшим решением будет использовать ALS из библотеки PySpark. К тому же, благодаря Java мы не только увеличиваем скорость работы модели, но и увеличиваем объем используемых данных."
   ]
  },
  {
   "cell_type": "code",
   "execution_count": 73,
   "id": "7712319b",
   "metadata": {},
   "outputs": [
    {
     "data": {
      "text/plain": [
       "{'collaborative': 0.1, 'ALS': 0.0, 'LightFM': 0.02, 'ALS_Implicit': 0.33}"
      ]
     },
     "execution_count": 73,
     "metadata": {},
     "output_type": "execute_result"
    }
   ],
   "source": [
    "pd.DataFrame(pd.Series(map_at_k_score_dict))"
   ]
  },
  {
   "cell_type": "code",
   "execution_count": 74,
   "id": "8703f3f6",
   "metadata": {},
   "outputs": [
    {
     "data": {
      "text/plain": [
       "{'collaborative': 0.22, 'ALS_Implicit': 0.27}"
      ]
     },
     "execution_count": 74,
     "metadata": {},
     "output_type": "execute_result"
    }
   ],
   "source": [
    "pd.DataFrame(pd.Series(rmse_score_dict))"
   ]
  }
 ],
 "metadata": {
  "kernelspec": {
   "display_name": "Python 3 (ipykernel)",
   "language": "python",
   "name": "python3"
  },
  "language_info": {
   "codemirror_mode": {
    "name": "ipython",
    "version": 3
   },
   "file_extension": ".py",
   "mimetype": "text/x-python",
   "name": "python",
   "nbconvert_exporter": "python",
   "pygments_lexer": "ipython3",
   "version": "3.8.16"
  }
 },
 "nbformat": 4,
 "nbformat_minor": 5
}
