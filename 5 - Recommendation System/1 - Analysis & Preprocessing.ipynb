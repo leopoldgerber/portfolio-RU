{
 "cells": [
  {
   "cell_type": "code",
   "execution_count": 21,
   "id": "40bf0efb",
   "metadata": {},
   "outputs": [],
   "source": [
    "import pandas as pd\n",
    "import numpy as np\n",
    "\n",
    "import matplotlib.pyplot as plt\n",
    "import seaborn as sns\n",
    "\n",
    "import datetime\n",
    "\n",
    "import warnings\n",
    "warnings.simplefilter(action='ignore', category=FutureWarning)"
   ]
  },
  {
   "cell_type": "markdown",
   "id": "e450a9ae",
   "metadata": {},
   "source": [
    "<a id='begin'></a>\n",
    "# Оглавление"
   ]
  },
  {
   "cell_type": "markdown",
   "id": "52223f9e",
   "metadata": {},
   "source": [
    "- ### [Техническое задание](#task)\n",
    "    - [Выбор технических метрик качества](#metrics)\n",
    "    - [Информация](#information)\n",
    "    - [Датасеты](#datasets)\n",
    "    \n",
    "- ### [Изучение данных](#search)\n",
    "    - [Анализ данных](#analysis)\n",
    "    - [Предобработка: временные признаки и типы данных](#preprocessing)\n",
    "    - [Анализ временного ряда датасета events](#analysis_time)\n",
    "    - [Дополнительная проверка: Частота](#analysis_time_bonus)\n",
    "    - [Анализ свойств товаров](#analysis_items)\n",
    "    - [Сохранение: Dataset df_events](#save_events)\n",
    "    \n",
    "- ### [Создание факторов для модели](#create_factors)\n",
    "    - [Dataset: df_temp](#preprocessing_rating)\n",
    "    - [Сохранение: Dataset df_temp](#save_temp)\n",
    "    \n",
    "- ### [Дополнительные признаки: df_all_features](#xgboost_preprocessing)\n",
    "    - [Сохранение: Dataset df_all_features_light](#save_all_features_light)\n",
    "    - [Сохранение: Dataset df_all_features](#save_all_features)"
   ]
  },
  {
   "cell_type": "markdown",
   "id": "47e9948f",
   "metadata": {},
   "source": [
    "<a id='task'></a>\n",
    "# Техническое задание\n",
    "</br>\n",
    "<b>Цель:</b> Повысить прибыль от дополнительных продаж в инетрнет-магазине на 20%.\n",
    "</br>\n",
    "</br>\n",
    "<b>Ожидаемый результат:</b> Сервис, выдающий рекомендации по идентификатору пользователя.\n",
    "</br>\n",
    "</br>\n",
    "<b>Технические задачи:</b> \n",
    "<ul>\n",
    "    <li>Анализ данных</li>\n",
    "    <li>Предобработка данных</li>\n",
    "    <li>Создание факторов</li>\n",
    "    <li>Автоматизация предобработки и создания факторов</li>\n",
    "</ul>\n",
    "</br>\n",
    "<b>Полученные данные:</b> \n",
    "<ul>\n",
    "    <li>events — датасет событий взаймодействия между пользователем и товаром.</li>\n",
    "    <li>category_tree — датасет с деревом категорий.</li>\n",
    "    <li>item_properties — датасет со свойствами товаров.</li>\n",
    "</ul>\n",
    "</br>\n",
    "<b>Возможные риски и решения:</b>\n",
    "</br>\n",
    "<ul>\n",
    "    <li>Несоответствующие рекомендации пользователю. <i><b>Решение:</b></i> Введение MAP@K метрики.</li>\n",
    "    <li>Рекомендации новым пользователям. <i><b>Решение:</b></i> Создание стратегии холодного старта.</li>\n",
    "    <li>Мало информации о пользователе. <i><b>Решение:</b></i> Рекомендации голосованием большинства по категориям товаров.</li>\n",
    "</ul>"
   ]
  },
  {
   "cell_type": "markdown",
   "id": "ea04f97d",
   "metadata": {},
   "source": [
    "<a id='metrics'></a>\n",
    "## Выбор технических метрик качества\n",
    "</br>\n",
    "- Платформа, на которой развернуть интрнет магазин, ограничена в показе дополнительных товаров - 3 позиции максимум. \n",
    "</br>\n",
    "Заказчик заинтересован только в продажах, значит будем использовать метрику ранжирования, посчитанной на Top-K записях:\n",
    "</br><i><b>MAP@K</b></i> (Mean Average Precision at K)\n",
    "$$\\text{MAP@K} = \\frac{1}{M} \\sum_{j=1}^{M} \\frac{1}{r} \\sum_{k=1}^{K} \\text{Precision@k} \\cdot rel(k)$$\n",
    "</br>\n",
    "</br>\n",
    "- Для проверки качества предсказаний мы будем использовать метрику \n",
    "</br><i><b>RMSE</b></i> (Root Mean Squared Error)\n",
    "$$\\text{RMSE} = \\sqrt{\\dfrac {1}{|\\hat{R}|}\\sum_{\\hat{r}_{ui} \\in \\hat{R}}(\\hat{r}_{ui} - \\mu_i)^2}$$"
   ]
  },
  {
   "cell_type": "markdown",
   "id": "e1e510b0",
   "metadata": {},
   "source": [
    "<a id='information'></a>\n",
    "## Информация"
   ]
  },
  {
   "cell_type": "markdown",
   "id": "dda11eb3",
   "metadata": {},
   "source": [
    "#### events — датасет событий взаймодействия между пользователем и товаром. Колонки:\n",
    "\n",
    "- timestamp — время события\n",
    "- visitorid — идентификатор пользователя\n",
    "- event — тип события\n",
    "- itemid — идентификатор объекта\n",
    "- transactionid — идентификатор транзакции, если она проходила\n",
    "</br>\n",
    "</br>\n",
    "#### category_tree — датасет с деревом категорий.\n",
    "\n",
    "- category_id — идентификатор категорий\n",
    "- parent_id — идентификатор родительской категории\n",
    "</br>\n",
    "</br>\n",
    "#### item_properties — датасет со свойствами товаров.\n",
    "\n",
    "- timestamp — момент записи значения свойства\n",
    "- item_id — идентификатор объекта\n",
    "- property — свойство, кажется, они все, кроме категории, захешированы\n",
    "- value — значение свойства"
   ]
  },
  {
   "cell_type": "markdown",
   "id": "352a5292",
   "metadata": {},
   "source": [
    "<a id='datasets'></a>\n",
    "## Датасеты"
   ]
  },
  {
   "cell_type": "code",
   "execution_count": 2,
   "id": "1f1d06b6",
   "metadata": {},
   "outputs": [],
   "source": [
    "events = pd.read_csv('1 events.csv')\n",
    "category_tree = pd.read_csv('2 category_tree.csv')\n",
    "item_1 = pd.read_csv('3 item_properties_part1.csv')\n",
    "item_2 = pd.read_csv('4 item_properties_part2.csv')"
   ]
  },
  {
   "cell_type": "markdown",
   "id": "8ad74229",
   "metadata": {},
   "source": [
    "<a id='search'></a>\n",
    "# Изучение данных"
   ]
  },
  {
   "cell_type": "markdown",
   "id": "c0a711d6",
   "metadata": {},
   "source": [
    "### - Проверка имеющихся признаков датасетов:\n",
    "- Тип данных столбца\n",
    "- Кол-во уникальных значений\n",
    "- Кол-во пустых значений\n",
    "- Процент пустых значений"
   ]
  },
  {
   "cell_type": "code",
   "execution_count": 3,
   "id": "6229e780",
   "metadata": {},
   "outputs": [
    {
     "name": "stdout",
     "output_type": "stream",
     "text": [
      "events\n"
     ]
    },
    {
     "data": {
      "text/html": [
       "<div>\n",
       "<style scoped>\n",
       "    .dataframe tbody tr th:only-of-type {\n",
       "        vertical-align: middle;\n",
       "    }\n",
       "\n",
       "    .dataframe tbody tr th {\n",
       "        vertical-align: top;\n",
       "    }\n",
       "\n",
       "    .dataframe thead th {\n",
       "        text-align: right;\n",
       "    }\n",
       "</style>\n",
       "<table border=\"1\" class=\"dataframe\">\n",
       "  <thead>\n",
       "    <tr style=\"text-align: right;\">\n",
       "      <th></th>\n",
       "      <th>timestamp</th>\n",
       "      <th>visitorid</th>\n",
       "      <th>event</th>\n",
       "      <th>itemid</th>\n",
       "      <th>transactionid</th>\n",
       "      <th>datetime</th>\n",
       "    </tr>\n",
       "  </thead>\n",
       "  <tbody>\n",
       "    <tr>\n",
       "      <th>Column type</th>\n",
       "      <td>int64</td>\n",
       "      <td>int64</td>\n",
       "      <td>object</td>\n",
       "      <td>int64</td>\n",
       "      <td>float64</td>\n",
       "      <td>NaN</td>\n",
       "    </tr>\n",
       "    <tr>\n",
       "      <th>Unique values</th>\n",
       "      <td>2750455</td>\n",
       "      <td>1407580</td>\n",
       "      <td>3</td>\n",
       "      <td>235061</td>\n",
       "      <td>17673</td>\n",
       "      <td>139.0</td>\n",
       "    </tr>\n",
       "    <tr>\n",
       "      <th>Null values</th>\n",
       "      <td>0</td>\n",
       "      <td>0</td>\n",
       "      <td>0</td>\n",
       "      <td>0</td>\n",
       "      <td>2733644</td>\n",
       "      <td>0.0</td>\n",
       "    </tr>\n",
       "    <tr>\n",
       "      <th>Null values %</th>\n",
       "      <td>0.0</td>\n",
       "      <td>0.0</td>\n",
       "      <td>0.0</td>\n",
       "      <td>0.0</td>\n",
       "      <td>99.0</td>\n",
       "      <td>0.0</td>\n",
       "    </tr>\n",
       "    <tr>\n",
       "      <th>Min value</th>\n",
       "      <td>1430622004384</td>\n",
       "      <td>0</td>\n",
       "      <td>addtocart</td>\n",
       "      <td>3</td>\n",
       "      <td>0.0</td>\n",
       "      <td>2015-05-03</td>\n",
       "    </tr>\n",
       "    <tr>\n",
       "      <th>Max value</th>\n",
       "      <td>1442545187788</td>\n",
       "      <td>1407579</td>\n",
       "      <td>view</td>\n",
       "      <td>466867</td>\n",
       "      <td>17671.0</td>\n",
       "      <td>2015-09-18</td>\n",
       "    </tr>\n",
       "  </tbody>\n",
       "</table>\n",
       "</div>"
      ],
      "text/plain": [
       "                   timestamp visitorid      event  itemid transactionid  \\\n",
       "Column type            int64     int64     object   int64       float64   \n",
       "Unique values        2750455   1407580          3  235061         17673   \n",
       "Null values                0         0          0       0       2733644   \n",
       "Null values %            0.0       0.0        0.0     0.0          99.0   \n",
       "Min value      1430622004384         0  addtocart       3           0.0   \n",
       "Max value      1442545187788   1407579       view  466867       17671.0   \n",
       "\n",
       "                 datetime  \n",
       "Column type           NaN  \n",
       "Unique values       139.0  \n",
       "Null values           0.0  \n",
       "Null values %         0.0  \n",
       "Min value      2015-05-03  \n",
       "Max value      2015-09-18  "
      ]
     },
     "metadata": {},
     "output_type": "display_data"
    },
    {
     "name": "stdout",
     "output_type": "stream",
     "text": [
      "\n",
      "category_tree\n"
     ]
    },
    {
     "data": {
      "text/html": [
       "<div>\n",
       "<style scoped>\n",
       "    .dataframe tbody tr th:only-of-type {\n",
       "        vertical-align: middle;\n",
       "    }\n",
       "\n",
       "    .dataframe tbody tr th {\n",
       "        vertical-align: top;\n",
       "    }\n",
       "\n",
       "    .dataframe thead th {\n",
       "        text-align: right;\n",
       "    }\n",
       "</style>\n",
       "<table border=\"1\" class=\"dataframe\">\n",
       "  <thead>\n",
       "    <tr style=\"text-align: right;\">\n",
       "      <th></th>\n",
       "      <th>categoryid</th>\n",
       "      <th>parentid</th>\n",
       "    </tr>\n",
       "  </thead>\n",
       "  <tbody>\n",
       "    <tr>\n",
       "      <th>Column type</th>\n",
       "      <td>int64</td>\n",
       "      <td>float64</td>\n",
       "    </tr>\n",
       "    <tr>\n",
       "      <th>Unique values</th>\n",
       "      <td>1669</td>\n",
       "      <td>363</td>\n",
       "    </tr>\n",
       "    <tr>\n",
       "      <th>Null values</th>\n",
       "      <td>0</td>\n",
       "      <td>25</td>\n",
       "    </tr>\n",
       "    <tr>\n",
       "      <th>Null values %</th>\n",
       "      <td>0.0</td>\n",
       "      <td>1.0</td>\n",
       "    </tr>\n",
       "    <tr>\n",
       "      <th>Min value</th>\n",
       "      <td>0.0</td>\n",
       "      <td>8.0</td>\n",
       "    </tr>\n",
       "    <tr>\n",
       "      <th>Max value</th>\n",
       "      <td>1698.0</td>\n",
       "      <td>1698.0</td>\n",
       "    </tr>\n",
       "  </tbody>\n",
       "</table>\n",
       "</div>"
      ],
      "text/plain": [
       "              categoryid parentid\n",
       "Column type        int64  float64\n",
       "Unique values       1669      363\n",
       "Null values            0       25\n",
       "Null values %        0.0      1.0\n",
       "Min value            0.0      8.0\n",
       "Max value         1698.0   1698.0"
      ]
     },
     "metadata": {},
     "output_type": "display_data"
    },
    {
     "name": "stdout",
     "output_type": "stream",
     "text": [
      "\n"
     ]
    }
   ],
   "source": [
    "def df_info(df):\n",
    "    df_info = pd.DataFrame(df.dtypes).T.rename(index = {0 : 'Column type'})\n",
    "    \n",
    "    try:\n",
    "        df['datetime'] = pd.to_datetime(df['timestamp'], unit = 'ms').dt.date\n",
    "    except:\n",
    "        pass\n",
    "        \n",
    "    temp_dict = {}\n",
    "    temp_min = {}\n",
    "    temp_max = {}\n",
    "    for col in df.columns:\n",
    "        temp_dict[col] = len(df[col].unique())\n",
    "        temp_min[col] = df[col].min()\n",
    "        temp_max[col] = df[col].max()\n",
    "    df_info = pd.concat([df_info, pd.DataFrame(pd.Series(temp_dict)\n",
    "                                                      ).T.rename(index = {0 : 'Unique values'})])\n",
    "    df_info = pd.concat([df_info, pd.DataFrame(df.isnull().sum()\n",
    "                                                      ).T.rename(index = {0 : 'Null values'})])\n",
    "    df_info = pd.concat([df_info, pd.DataFrame(round(df.isnull().sum() / df.shape[0]*100)\n",
    "                                                      ).T.rename(index = {0 : 'Null values %'})])\n",
    "    df_info = pd.concat([df_info, pd.DataFrame(pd.Series(temp_min)\n",
    "                                                      ).T.rename(index = {0 : 'Min value'})])\n",
    "    df_info = pd.concat([df_info, pd.DataFrame(pd.Series(temp_max)\n",
    "                                                      ).T.rename(index = {0 : 'Max value'})])\n",
    "    #len(events), str((pd.to_datetime(events['timestamp'], unit = 'ms').dt.date).min())\n",
    "    display(df_info)\n",
    "\n",
    "\n",
    "#df_list = [events, category_tree, item_1, item_2]\n",
    "#df_name = ['events', 'category_tree', 'item_1', 'item_2']\n",
    "\n",
    "df_list = [events, category_tree]\n",
    "df_name = ['events', 'category_tree']\n",
    "\n",
    "for index, df in enumerate(df_list):\n",
    "    print(df_name[index])\n",
    "    df_info(df)\n",
    "    print()"
   ]
  },
  {
   "cell_type": "markdown",
   "id": "171b5ab8",
   "metadata": {},
   "source": [
    "### - Проверим распределение между событием и кол-вом товаров, событием и кол-вом пользователей :"
   ]
  },
  {
   "cell_type": "code",
   "execution_count": 4,
   "id": "dd1958ed",
   "metadata": {},
   "outputs": [
    {
     "data": {
      "text/html": [
       "<div>\n",
       "<style scoped>\n",
       "    .dataframe tbody tr th:only-of-type {\n",
       "        vertical-align: middle;\n",
       "    }\n",
       "\n",
       "    .dataframe tbody tr th {\n",
       "        vertical-align: top;\n",
       "    }\n",
       "\n",
       "    .dataframe thead th {\n",
       "        text-align: right;\n",
       "    }\n",
       "</style>\n",
       "<table border=\"1\" class=\"dataframe\">\n",
       "  <thead>\n",
       "    <tr style=\"text-align: right;\">\n",
       "      <th>event</th>\n",
       "      <th>addtocart</th>\n",
       "      <th>transaction</th>\n",
       "      <th>view</th>\n",
       "    </tr>\n",
       "  </thead>\n",
       "  <tbody>\n",
       "    <tr>\n",
       "      <th>item_count</th>\n",
       "      <td>2.900556</td>\n",
       "      <td>1.867526</td>\n",
       "      <td>11.345319</td>\n",
       "    </tr>\n",
       "    <tr>\n",
       "      <th>visitor_count</th>\n",
       "      <td>1.837973</td>\n",
       "      <td>1.916290</td>\n",
       "      <td>1.897416</td>\n",
       "    </tr>\n",
       "  </tbody>\n",
       "</table>\n",
       "</div>"
      ],
      "text/plain": [
       "event          addtocart  transaction       view\n",
       "item_count      2.900556     1.867526  11.345319\n",
       "visitor_count   1.837973     1.916290   1.897416"
      ]
     },
     "metadata": {},
     "output_type": "display_data"
    }
   ],
   "source": [
    "item_count_mean = pd.DataFrame(events.groupby('event')['itemid'].value_counts()\n",
    "                                 ).rename(columns = {'itemid':'item_count'}\n",
    "                                         ).reset_index().drop(columns = ['itemid']\n",
    "                                                             ).groupby('event').agg('mean').T\n",
    "\n",
    "visitor_count_mean = pd.DataFrame(events.groupby('event')['visitorid'].value_counts()\n",
    "                                 ).rename(columns = {'visitorid':'visitor_count'}\n",
    "                                         ).reset_index().drop(columns = ['visitorid']\n",
    "                                                             ).groupby('event').agg('mean').T\n",
    "\n",
    "temp_df = pd.concat([item_count_mean, visitor_count_mean])\n",
    "display(temp_df)\n",
    "del temp_df"
   ]
  },
  {
   "cell_type": "markdown",
   "id": "9add54af",
   "metadata": {},
   "source": [
    "Мы уже наблюдаем большое отклонение в сторону просмотров => При, приблизительно, схожим распределении кол-ве пользователей, распределение кол-ва просмотров товаров имеет большой правый хвост."
   ]
  },
  {
   "cell_type": "markdown",
   "id": "3f56b90c",
   "metadata": {},
   "source": [
    "### - Проверка на наличие пропусков, дублей, кол-во уникальных и т.д."
   ]
  },
  {
   "cell_type": "markdown",
   "id": "6ddb26f8",
   "metadata": {},
   "source": [
    "Как мы видим, большое кол-во записей не являются событием покупки (99%). Давайте более детально узнаем, какое кол-во уникальных пользователей НЕ приобретали товар."
   ]
  },
  {
   "cell_type": "markdown",
   "id": "51b40865",
   "metadata": {},
   "source": [
    "#### Проверка уникальных пользователей и событий"
   ]
  },
  {
   "cell_type": "code",
   "execution_count": 5,
   "id": "8b14b1f7",
   "metadata": {
    "scrolled": true
   },
   "outputs": [
    {
     "data": {
      "text/html": [
       "<div>\n",
       "<style scoped>\n",
       "    .dataframe tbody tr th:only-of-type {\n",
       "        vertical-align: middle;\n",
       "    }\n",
       "\n",
       "    .dataframe tbody tr th {\n",
       "        vertical-align: top;\n",
       "    }\n",
       "\n",
       "    .dataframe thead th {\n",
       "        text-align: right;\n",
       "    }\n",
       "</style>\n",
       "<table border=\"1\" class=\"dataframe\">\n",
       "  <thead>\n",
       "    <tr style=\"text-align: right;\">\n",
       "      <th></th>\n",
       "      <th>all</th>\n",
       "      <th>event_no</th>\n",
       "      <th>event_yes</th>\n",
       "      <th>yes %</th>\n",
       "    </tr>\n",
       "  </thead>\n",
       "  <tbody>\n",
       "    <tr>\n",
       "      <th>view</th>\n",
       "      <td>1407580</td>\n",
       "      <td>3401</td>\n",
       "      <td>1404179</td>\n",
       "      <td>99.8</td>\n",
       "    </tr>\n",
       "    <tr>\n",
       "      <th>addtocart</th>\n",
       "      <td>1407580</td>\n",
       "      <td>1369858</td>\n",
       "      <td>37722</td>\n",
       "      <td>2.7</td>\n",
       "    </tr>\n",
       "    <tr>\n",
       "      <th>transaction</th>\n",
       "      <td>1407580</td>\n",
       "      <td>1395861</td>\n",
       "      <td>11719</td>\n",
       "      <td>0.8</td>\n",
       "    </tr>\n",
       "  </tbody>\n",
       "</table>\n",
       "</div>"
      ],
      "text/plain": [
       "                 all event_no event_yes  yes %\n",
       "view         1407580     3401   1404179   99.8\n",
       "addtocart    1407580  1369858     37722    2.7\n",
       "transaction  1407580  1395861     11719    0.8"
      ]
     },
     "execution_count": 5,
     "metadata": {},
     "output_type": "execute_result"
    }
   ],
   "source": [
    "def event_info(event):    \n",
    "    all_unique = events['visitorid'].unique()\n",
    "    yes_unique = events[events['event'] == event]['visitorid'].unique()\n",
    "    no_unique = events['visitorid'][~events['visitorid'].isin(yes_unique)].unique()\n",
    "\n",
    "    event_info = pd.pivot_table(pd.DataFrame(pd.Series([len(all_unique), len(yes_unique), len(no_unique)]\n",
    "                                                      )).T.rename(index = {0:event}, \n",
    "                                                                  columns = {0:'all', 1:'event_yes', 2:'event_no'}), \n",
    "                                index = [event])\n",
    "    event_info['yes %'] = round((event_info['event_yes']*100) / event_info['all'], 1)\n",
    "    \n",
    "    return event_info\n",
    "    \n",
    "event_info_df = pd.DataFrame(columns = ['all', 'event_no', 'event_yes'])\n",
    "\n",
    "for event in events['event'].unique():\n",
    "    event_info_df = pd.concat([event_info_df, event_info(event)])\n",
    "    \n",
    "event_info_df"
   ]
  },
  {
   "cell_type": "markdown",
   "id": "e3875ba5",
   "metadata": {},
   "source": [
    "Большое количество записей отображают просмотр товара и малый процент это факт покупки товара. \n",
    "</br> В последствие дисбаланс выборки может сказаться на качество модели, так как по неформальному условию мы считаем выборку несбалансированной, когда соотношение количества преобладающего и минорного классов составляет 10:1.\n",
    "</br>\n",
    "</br> Методы сокращения выборок будут представлены далее. Продолжим анализ."
   ]
  },
  {
   "cell_type": "markdown",
   "id": "d60ab562",
   "metadata": {},
   "source": [
    "#### Проверим столбец transactionid на наличие дублей"
   ]
  },
  {
   "cell_type": "code",
   "execution_count": 6,
   "id": "82793a6f",
   "metadata": {},
   "outputs": [
    {
     "name": "stdout",
     "output_type": "stream",
     "text": [
      "Кол-во значений в столбце event: 22457\n",
      "Кол-во значений в столбце transactionid: 22457\n",
      "Кол-во уникальных значений в столбце transactionid: 17672\n"
     ]
    }
   ],
   "source": [
    "print('Кол-во значений в столбце event:', len(events[events['event'] == 'transaction']))\n",
    "print('Кол-во значений в столбце transactionid:', len(events['transactionid'].dropna()))\n",
    "print('Кол-во уникальных значений в столбце transactionid:', len(events['transactionid'].dropna().unique()))"
   ]
  },
  {
   "cell_type": "markdown",
   "id": "3b12c43b",
   "metadata": {},
   "source": [
    "Обнаружены дубли в столбце transactionid. Мы их удалим."
   ]
  },
  {
   "cell_type": "code",
   "execution_count": 7,
   "id": "0a5c0507",
   "metadata": {},
   "outputs": [
    {
     "name": "stdout",
     "output_type": "stream",
     "text": [
      "Из 2756101 записей удалено 2756101 дублей.\n"
     ]
    }
   ],
   "source": [
    "transactionid_duplicate = events.duplicated()\n",
    "print(f'Из {len(events)} записей удалено {len(transactionid_duplicate)} дублей.')\n",
    "events = events[~transactionid_duplicate]"
   ]
  },
  {
   "cell_type": "markdown",
   "id": "324aaaac",
   "metadata": {},
   "source": [
    "#### Сравнение уникальных событий"
   ]
  },
  {
   "cell_type": "code",
   "execution_count": 8,
   "id": "fdd36756",
   "metadata": {},
   "outputs": [
    {
     "data": {
      "text/plain": [
       "<Axes: >"
      ]
     },
     "execution_count": 8,
     "metadata": {},
     "output_type": "execute_result"
    },
    {
     "data": {
      "image/png": "[encoded data removed]",
      "text/plain": [
       "<Figure size 1500x500 with 2 Axes>"
      ]
     },
     "metadata": {},
     "output_type": "display_data"
    }
   ],
   "source": [
    "events_count=events['event'].value_counts()\n",
    "\n",
    "totalcases=events.shape[0]\n",
    "\n",
    "sns.set_style('whitegrid')\n",
    "fig, (ax1,ax2) = plt.subplots(1, 2, figsize=(15, 5))\n",
    "sns.histplot(x = 'event', data = events, bins = 3, ax = ax1)\n",
    "for x, counts in zip(events['event'].unique().tolist(), events['event'].value_counts().tolist()):\n",
    "    text=str(round((counts/totalcases)*100,2)) +'%'\n",
    "    ax1.text(x, counts, text, fontsize=12)\n",
    "    \n",
    "sns.barplot(x = events['event'].unique()[1:], y = events['event'].value_counts()[1:].values, ax=ax2)"
   ]
  },
  {
   "cell_type": "markdown",
   "id": "22db1274",
   "metadata": {},
   "source": [
    "Посмотрим на самые популярные товары по событиям"
   ]
  },
  {
   "cell_type": "code",
   "execution_count": 9,
   "id": "5edc9126",
   "metadata": {},
   "outputs": [
    {
     "data": {
      "text/plain": [
       "Text(0.5, 1.0, 'Топ 5 проданных')"
      ]
     },
     "execution_count": 9,
     "metadata": {},
     "output_type": "execute_result"
    },
    {
     "data": {
      "image/png": "[encoded data removed]",
      "text/plain": [
       "<Figure size 1000x200 with 1 Axes>"
      ]
     },
     "metadata": {},
     "output_type": "display_data"
    },
    {
     "data": {
      "image/png": "[encoded data removed]",
      "text/plain": [
       "<Figure size 1000x200 with 1 Axes>"
      ]
     },
     "metadata": {},
     "output_type": "display_data"
    },
    {
     "data": {
      "image/png": "[encoded data removed]",
      "text/plain": [
       "<Figure size 1000x200 with 1 Axes>"
      ]
     },
     "metadata": {},
     "output_type": "display_data"
    }
   ],
   "source": [
    "popular_addtocart = events[events['event'] == 'view']\n",
    "popular_addtocart = popular_addtocart.groupby('itemid')['event'].value_counts().sort_values().tail(5)\n",
    "\n",
    "idx = []\n",
    "for i in popular_addtocart.index:\n",
    "    idx.append(i[0])\n",
    "    \n",
    "popular_addtocart = pd.DataFrame(popular_addtocart)\n",
    "popular_addtocart['itemid'] = idx\n",
    "\n",
    "fig, ax = plt.subplots(figsize = (10, 2))\n",
    "sns.barplot(x = popular_addtocart['itemid'].sort_values(), y = popular_addtocart['event'].values)\n",
    "plt.title('Топ 5 просмотренных')\n",
    "\n",
    "\n",
    "popular_addtocart = events[events['event'] == 'addtocart']\n",
    "popular_addtocart = popular_addtocart.groupby('itemid')['event'].value_counts().sort_values().tail(5)\n",
    "\n",
    "idx = []\n",
    "for i in popular_addtocart.index:\n",
    "    idx.append(i[0])\n",
    "    \n",
    "popular_addtocart = pd.DataFrame(popular_addtocart)\n",
    "popular_addtocart['itemid'] = idx\n",
    "\n",
    "fig, ax = plt.subplots(figsize = (10, 2))\n",
    "sns.barplot(x = popular_addtocart['itemid'].sort_values(), y = popular_addtocart['event'].values)\n",
    "plt.title('Топ 5 добавленных в коризину')\n",
    "\n",
    "\n",
    "\n",
    "popular_transaction = events[events['event'] == 'transaction']\n",
    "popular_transaction = popular_transaction.groupby('itemid')['event'].value_counts().sort_values().tail(5)\n",
    "\n",
    "idx = []\n",
    "for i in popular_transaction.index:\n",
    "    idx.append(i[0])\n",
    "    \n",
    "popular_transaction = pd.DataFrame(popular_transaction)\n",
    "popular_transaction['itemid'] = idx\n",
    "\n",
    "fig, ax = plt.subplots(figsize = (10, 2))\n",
    "sns.barplot(x = popular_transaction['itemid'], y = popular_transaction['event'].values)\n",
    "plt.title('Топ 5 проданных')"
   ]
  },
  {
   "cell_type": "markdown",
   "id": "94841ea3",
   "metadata": {},
   "source": [
    "Нет прямой связи между тремя событиями, кроме товара 461686. Возможное свидетельство о существование множества товаров, которые не достигли конечного события - transaction. Их чаще смотрели или добавляли в корзину, но не приобретали.\n",
    "\n",
    "Проверим корреляцию между столбцами."
   ]
  },
  {
   "cell_type": "code",
   "execution_count": 18,
   "id": "7c065a61",
   "metadata": {},
   "outputs": [
    {
     "data": {
      "image/png": "[encoded data removed]",
      "text/plain": [
       "<Figure size 500x400 with 2 Axes>"
      ]
     },
     "metadata": {},
     "output_type": "display_data"
    }
   ],
   "source": [
    "fig, ax = plt.subplots(figsize = (5, 4))\n",
    "mask = np.triu(np.ones_like(events[events.columns].corr(), dtype=bool))\n",
    "sns.heatmap(events[events.columns].corr(), annot = True, mask = mask, fmt = '.3f', cmap=sns.cubehelix_palette(as_cmap=True)).set_title('Матрица корреляции')\n",
    "plt.show()"
   ]
  },
  {
   "cell_type": "markdown",
   "id": "3e303580",
   "metadata": {},
   "source": [
    "Прямой корреляции нет, но можем ли мы с полной уверенности отбросить идею, что покупка товара - это всего лишь 1 запись, а не цепь событий? \n",
    "\n",
    "Ведь мы имеем большой перевес по просмотрам, а наличие 3-х записей повлияет на распределение долей по категориям событий (создаст дубли приобретенного товара в двух других категориях)."
   ]
  },
  {
   "cell_type": "markdown",
   "id": "b031d6ce",
   "metadata": {},
   "source": [
    "### Выводы:\n",
    "\n",
    "- События имеют большой перевес в сторону просмотров. Это вполне себе оправдано для интернет магазина. Необходимо разумно сократить кол-во данных, поскольку модели могут переобучиться.\n",
    "- Наличие дублей может быть причиной отмененных заявок (не имеем данных о самих транзакций, трудно определить) или, возможная, ошибка при выгрузки данных.\n",
    "- Кол-во уникальных проданных товаров - мало, правильные рекомендации помогут увеличит продажи схожих товаров.\n",
    "- Прямой связи в данных не обнаружено, пока что. Дальнейшее изучение поможет выявить наличие цепи событий. \n",
    "\n",
    "[Вернуться к началу](#begin)"
   ]
  },
  {
   "cell_type": "markdown",
   "id": "e5dc084f",
   "metadata": {},
   "source": [
    "<a id='preprocessing'></a>\n",
    "## Предобработка: временные признаки и типы данных\n",
    "\n",
    "- Работа с временными признаками: Извлечение даты, года, месяца, времени, создание признака \"время суток\"\n",
    "- OneHotEncoder: тип данных, день недели."
   ]
  },
  {
   "cell_type": "code",
   "execution_count": 10,
   "id": "aa734b67",
   "metadata": {},
   "outputs": [],
   "source": [
    "from sklearn.preprocessing import OneHotEncoder"
   ]
  },
  {
   "cell_type": "markdown",
   "id": "4441b46c",
   "metadata": {},
   "source": [
    "#### Работа с временными признаками: Извлечение даты, года, месяца, времени, создание признака \"время суток\""
   ]
  },
  {
   "cell_type": "code",
   "execution_count": 11,
   "id": "d2a941c2",
   "metadata": {},
   "outputs": [],
   "source": [
    "# Copy original dataset\n",
    "df_events = events.copy()\n",
    "\n",
    "# Transform timestamp to datetime\n",
    "df_events['datetime'] = pd.to_datetime(df_events['timestamp'], unit='ms')\n",
    "df_events['date'] = df_events['datetime'].dt.date\n",
    "df_events['day_of_week'] = df_events['datetime'].map(lambda x: x.weekday() + 1)\n",
    "\n",
    "df_events['year'] = df_events['datetime'].map(lambda x: x.year)\n",
    "df_events['month'] = df_events['datetime'].map(lambda x: x.month)\n",
    "df_events['day'] = df_events['datetime'].map(lambda x: x.day)\n",
    "df_events['hour'] = df_events['datetime'].map(lambda x: x.hour)\n",
    "df_events['minute'] = df_events['datetime'].map(lambda x: x.minute)\n",
    "\n",
    "def get_time_periods(hour):\n",
    "    if hour >= 3 and hour < 7:\n",
    "        return 'Dawn'\n",
    "    elif hour >= 7 and hour < 12:\n",
    "        return 'Morning'\n",
    "    elif hour >= 12 and hour < 16:\n",
    "        return 'Afternoon'\n",
    "    elif hour >= 16 and hour < 22:\n",
    "        return 'Evening'\n",
    "    else:\n",
    "        return 'Night'\n",
    "    \n",
    "df_events['day_period'] = df_events['hour'].map(get_time_periods)"
   ]
  },
  {
   "cell_type": "markdown",
   "id": "0c6d2bcf",
   "metadata": {},
   "source": [
    "#### Преобразование даты в день недели"
   ]
  },
  {
   "cell_type": "code",
   "execution_count": 12,
   "id": "9e3d8734",
   "metadata": {},
   "outputs": [],
   "source": [
    "# OneHotEncoder\n",
    "encoder = OneHotEncoder(handle_unknown='ignore')\n",
    "encoder_array = encoder.fit_transform(df_events[['day_of_week']]).toarray()\n",
    "feature_labels = np.array(encoder.categories_).ravel()\n",
    "feature_labels = list(feature_labels)\n",
    "\n",
    "count = 0\n",
    "for i in feature_labels:\n",
    "    feature_labels[count] = 'day_of_week_' + str(i)\n",
    "    count+=1\n",
    "\n",
    "encoder_df = pd.DataFrame(encoder_array, columns = feature_labels).reset_index(drop = True)\n",
    "df_events = df_events.reset_index(drop = True)\n",
    "df_events = df_events.join(encoder_df)\n",
    "\n",
    "#df_events.drop(columns = ['day_of_week'], axis = 0, inplace = True)"
   ]
  },
  {
   "cell_type": "markdown",
   "id": "dc9bb500",
   "metadata": {},
   "source": [
    "#### Работа с временными признаками: Извлечение даты, года, месяца, времени, создание признака \"время суток\""
   ]
  },
  {
   "cell_type": "code",
   "execution_count": 13,
   "id": "202ee6fa",
   "metadata": {},
   "outputs": [],
   "source": [
    "# OneHotEncoder\n",
    "encoder = OneHotEncoder(handle_unknown='ignore')\n",
    "encoder_array = encoder.fit_transform(df_events[['event']]).toarray()\n",
    "feature_labels = np.array(encoder.categories_).ravel()\n",
    "\n",
    "encoder_df = pd.DataFrame(encoder_array, columns = feature_labels).reset_index(drop = True)\n",
    "df_events = df_events.reset_index(drop = True)\n",
    "df_events = df_events.join(encoder_df)"
   ]
  },
  {
   "cell_type": "markdown",
   "id": "e973b524",
   "metadata": {},
   "source": [
    "<a id='analysis_time'></a>\n",
    "## Анализ временного ряда датасета events."
   ]
  },
  {
   "cell_type": "code",
   "execution_count": 14,
   "id": "89b7da27",
   "metadata": {},
   "outputs": [],
   "source": [
    "events_seasonal = pd.DataFrame(df_events.groupby(['date'])[['transaction', 'view', 'addtocart']].sum()).reset_index()\n",
    "events_seasonal = events_seasonal.set_index(pd.DatetimeIndex(events_seasonal['date'])).drop(columns = ['date'])\n",
    "events_seasonal = events_seasonal.drop(columns = ['view', 'addtocart'])"
   ]
  },
  {
   "cell_type": "markdown",
   "id": "88bd3041",
   "metadata": {},
   "source": [
    "Посмотрим на транзакционное событие."
   ]
  },
  {
   "cell_type": "code",
   "execution_count": 15,
   "id": "47ce796b",
   "metadata": {},
   "outputs": [],
   "source": [
    "import matplotlib.pyplot as plt\n",
    "from statsmodels.tsa.seasonal import seasonal_decompose"
   ]
  },
  {
   "cell_type": "code",
   "execution_count": 16,
   "id": "6cd2278b",
   "metadata": {
    "scrolled": true
   },
   "outputs": [
    {
     "data": {
      "image/png": "[encoded data removed]",
      "text/plain": [
       "<Figure size 640x480 with 4 Axes>"
      ]
     },
     "metadata": {},
     "output_type": "display_data"
    }
   ],
   "source": [
    "decomposition = seasonal_decompose(events_seasonal, model='additive') \n",
    "decomposition.plot()\n",
    "plt.rcParams['figure.figsize'] = (10,11.5)\n",
    "plt.show()"
   ]
  },
  {
   "cell_type": "code",
   "execution_count": 17,
   "id": "7c5c2f28",
   "metadata": {},
   "outputs": [
    {
     "data": {
      "text/plain": [
       "[<matplotlib.lines.Line2D at 0x1ab9fef6100>]"
      ]
     },
     "execution_count": 17,
     "metadata": {},
     "output_type": "execute_result"
    },
    {
     "data": {
      "image/png": "[encoded data removed]",
      "text/plain": [
       "<Figure size 1500x300 with 1 Axes>"
      ]
     },
     "metadata": {},
     "output_type": "display_data"
    }
   ],
   "source": [
    "#decomposition.trend\n",
    "fig, axis = plt.subplots(figsize = (15, 3))\n",
    "plt.plot(decomposition.seasonal)"
   ]
  },
  {
   "cell_type": "code",
   "execution_count": 18,
   "id": "7058b68f",
   "metadata": {},
   "outputs": [
    {
     "name": "stdout",
     "output_type": "stream",
     "text": [
      "adf:  -2.8169349116003723\n",
      "p-value:  0.05589515826276706\n",
      "Critical values:  {'1%': -3.4816817173418295, '5%': -2.8840418343195267, '10%': -2.578770059171598}\n",
      "ряд не стационарен\n"
     ]
    }
   ],
   "source": [
    "from statsmodels.tsa.stattools import adfuller\n",
    "\n",
    "event_type_list = ['transaction', 'addtocart', 'view']\n",
    "df = pd.DataFrame(df_events.groupby(['date'])[event_type_list].sum()).reset_index()\n",
    "\n",
    "test = adfuller(df.set_index(['date'])['transaction'])\n",
    "print ('adf: ', test[0] )\n",
    "print ('p-value: ', test[1])\n",
    "print ('Critical values: ', test[4])\n",
    "if test[0]> test[4]['5%']: # проверка, больше ли критического полученное значение для нашего ряда \n",
    "    print ('ряд не стационарен')\n",
    "else:\n",
    "    print ('ряд стационарен')"
   ]
  },
  {
   "cell_type": "markdown",
   "id": "fba6841a",
   "metadata": {},
   "source": [
    "Временной ряд не стационарен (имеем непостоянное среднее), также мы наблюдаем сезонность. \n",
    "</br> Т.к. наша основная цель не в построении прогнозов на основе временного ряда, а обнаружить связь записей между событиями - мы не будет дифференцировать ряд.\n",
    "</br>\n",
    "</br>\n",
    "Проверим логарифмированные значения (чтобы уменьшить размах) по категориям."
   ]
  },
  {
   "cell_type": "code",
   "execution_count": 19,
   "id": "3c3e58b5",
   "metadata": {},
   "outputs": [
    {
     "data": {
      "image/png": "[encoded data removed]",
      "text/plain": [
       "<Figure size 1800x400 with 1 Axes>"
      ]
     },
     "metadata": {},
     "output_type": "display_data"
    }
   ],
   "source": [
    "import matplotlib.pyplot as plt \n",
    "%matplotlib inline\n",
    "\n",
    "color_list = ['b', 'g', 'r']\n",
    "\n",
    "df = pd.DataFrame(df_events.groupby(['date'])[event_type_list].sum()).reset_index()\n",
    "\n",
    "f, ax = plt.subplots(1, 1, figsize=(18, 4))\n",
    "color_count = 0\n",
    "for column in event_type_list:\n",
    "    ## визуализируем\n",
    "    ax.plot(df.date, np.log(df[column]), c = color_list[color_count]) ## исходные данные\n",
    "    #ax.plot(df.date, df.view, c='r') ## оконное среднее\n",
    "    #ax.plot(df.date, df.addtocart,  c='g') ## оконный максимум\n",
    "    color_count += 1\n",
    "    \n",
    "ax.legend(event_type_list)\n",
    "ax.grid()\n",
    "plt.show()"
   ]
  },
  {
   "cell_type": "markdown",
   "id": "11bbab68",
   "metadata": {},
   "source": [
    "Мы уже видим цепочку событий. Проверим корреляцию."
   ]
  },
  {
   "cell_type": "code",
   "execution_count": 20,
   "id": "dcb09af3",
   "metadata": {},
   "outputs": [
    {
     "name": "stderr",
     "output_type": "stream",
     "text": [
      "C:\\Users\\leoge\\AppData\\Local\\Temp\\ipykernel_1784\\1878650726.py:5: FutureWarning: The default value of numeric_only in DataFrame.corr is deprecated. In a future version, it will default to False. Select only valid columns or specify the value of numeric_only to silence this warning.\n",
      "  sns.heatmap(df.corr(), annot=True,\n"
     ]
    },
    {
     "data": {
      "image/png": "[encoded data removed]",
      "text/plain": [
       "<Figure size 800x600 with 2 Axes>"
      ]
     },
     "metadata": {},
     "output_type": "display_data"
    }
   ],
   "source": [
    "import seaborn as sns\n",
    "\n",
    "#Корреляция Пирсона\n",
    "plt.figure(figsize = (8, 6))\n",
    "sns.heatmap(df.corr(), annot=True,\n",
    "            fmt='.2f', cmap='YlGnBu', linewidth=0.5)\n",
    "plt.title('Correlation matrix', size=15);"
   ]
  },
  {
   "cell_type": "markdown",
   "id": "f60bb915",
   "metadata": {},
   "source": [
    "Линейная зависимость присутствует. \n",
    "</br>\n",
    "Мы доказали, что цепь событий существует.\n",
    "</br>\n",
    "Необходимо преобразовать датасет, оставив конечное событие взаимодействия между пользователем и товаром."
   ]
  },
  {
   "cell_type": "markdown",
   "id": "540238b5",
   "metadata": {},
   "source": [
    "<a id='analysis_time_bonus'></a>\n",
    "## Дополнительная проверка: Частота"
   ]
  },
  {
   "cell_type": "markdown",
   "id": "f3afd33f",
   "metadata": {},
   "source": [
    "### По дням недели"
   ]
  },
  {
   "cell_type": "code",
   "execution_count": 21,
   "id": "1fdb1a80",
   "metadata": {},
   "outputs": [
    {
     "data": {
      "text/plain": [
       "[<matplotlib.lines.Line2D at 0x1aba18bc730>]"
      ]
     },
     "execution_count": 21,
     "metadata": {},
     "output_type": "execute_result"
    },
    {
     "data": {
      "image/png": "[encoded data removed]",
      "text/plain": [
       "<Figure size 1000x400 with 1 Axes>"
      ]
     },
     "metadata": {},
     "output_type": "display_data"
    }
   ],
   "source": [
    "df['dayofweek'] = df['date'].apply(lambda x: x.isoweekday())\n",
    "\n",
    "fig = plt.subplots(figsize = (10, 4))\n",
    "plt.plot(df.sort_values(['transaction'], ascending = False).groupby(df['dayofweek'])['transaction'].sum())"
   ]
  },
  {
   "cell_type": "markdown",
   "id": "e789eab5",
   "metadata": {},
   "source": [
    "Наиболее популярный день совершения покупок - среда. (Увидим далее при работе с моделью XGBoost)"
   ]
  },
  {
   "cell_type": "markdown",
   "id": "5db432cc",
   "metadata": {},
   "source": [
    "### По времени суток"
   ]
  },
  {
   "cell_type": "code",
   "execution_count": 22,
   "id": "842676b6",
   "metadata": {},
   "outputs": [
    {
     "data": {
      "text/plain": [
       "[<matplotlib.lines.Line2D at 0x1aba19460d0>]"
      ]
     },
     "execution_count": 22,
     "metadata": {},
     "output_type": "execute_result"
    },
    {
     "data": {
      "image/png": "[encoded data removed]",
      "text/plain": [
       "<Figure size 1000x400 with 1 Axes>"
      ]
     },
     "metadata": {},
     "output_type": "display_data"
    }
   ],
   "source": [
    "df_period = df_events[df_events['transaction'] == 1].groupby(['day_period'])['transaction'].sum()\n",
    "\n",
    "fig = plt.subplots(figsize = (10, 4))\n",
    "plt.plot(df_period)"
   ]
  },
  {
   "cell_type": "markdown",
   "id": "259f19f7",
   "metadata": {},
   "source": [
    "Наиболее популярное время суток - вечер. (Увидим далее при работе с моделью XGBoost)"
   ]
  },
  {
   "cell_type": "markdown",
   "id": "b79a84e7",
   "metadata": {},
   "source": [
    "### По дням недели и времени суток"
   ]
  },
  {
   "cell_type": "code",
   "execution_count": 23,
   "id": "1a10f9d9",
   "metadata": {},
   "outputs": [
    {
     "data": {
      "text/plain": [
       "[<matplotlib.lines.Line2D at 0x1aba39a79a0>]"
      ]
     },
     "execution_count": 23,
     "metadata": {},
     "output_type": "execute_result"
    },
    {
     "data": {
      "image/png": "[encoded data removed]",
      "text/plain": [
       "<Figure size 1000x400 with 1 Axes>"
      ]
     },
     "metadata": {},
     "output_type": "display_data"
    }
   ],
   "source": [
    "df_period_week = df_events[df_events['transaction'] == 1][['day_period', 'day_of_week', 'transaction']].reset_index(drop = True)\n",
    "df_period_week['day_merged'] = df_period_week['day_of_week'].astype(str) + ' : ' + df_period_week['day_period'].astype(str)\n",
    "df_period_week = df_period_week.groupby(['day_merged'])['transaction'].sum().sort_values(ascending = False).head(7)\n",
    "\n",
    "fig = plt.subplots(figsize = (10, 4))\n",
    "plt.plot(df_period_week)"
   ]
  },
  {
   "cell_type": "markdown",
   "id": "fc7751f3",
   "metadata": {},
   "source": [
    "Вечер среды самый благоприятный момент для совершений покупок (транзакций). Вечер считается наиболее популярным временем суток для пользователей, что является правдой с точки зрения поведенческой аналитики.\n",
    "</br>\n",
    "</br>\n",
    "<b>На заметку:</b> Cоздать дополнительный алгоритм рекомендаций, срабатывающий отдельно в вечернее время суток. В качестве рекомендаций пользователям выдавались бы товары категории 2 (добавлены в коризину, но не приобретены). Проселдить динамику событий."
   ]
  },
  {
   "cell_type": "markdown",
   "id": "2bb97970",
   "metadata": {},
   "source": [
    "### Посмотрим временную дельту по событиям"
   ]
  },
  {
   "cell_type": "markdown",
   "id": "0fa224d4",
   "metadata": {},
   "source": [
    "Так как пользователь мог совершать событие после приобретения/добавления товара, необходимо получить время истинного конечного события.\n",
    "</br><b>Пример</b>, пользователь посмотрел товар -> доабвил товар в корзину -> приобрел товар -> вновь посмотрел и добавил товар в корзину\n",
    "</br>\n",
    "</br>\n",
    "Ориентироваться мы будем на первый просмотр товара. Тем самым мы сможем установить средний временной промежуток между первым просмотром и покупкой товара."
   ]
  },
  {
   "cell_type": "code",
   "execution_count": 24,
   "id": "822a55c3",
   "metadata": {
    "scrolled": false
   },
   "outputs": [],
   "source": [
    "# Creating dataframes for each category\n",
    "datetime_view = df_events[['visitorid', 'itemid', 'datetime']][df_events['event'] == 'view']\n",
    "datetime_addtocart = df_events[['visitorid', 'itemid', 'datetime']][df_events['event'] == 'addtocart']\n",
    "datetime_transaction = df_events[['visitorid', 'itemid', 'datetime']][df_events['event'] == 'transaction']\n",
    "\n",
    "# Merge together new created dataframes\n",
    "df_merged = datetime_transaction.merge(datetime_addtocart, \n",
    "                           how ='inner', \n",
    "                           on = ['itemid', 'visitorid'], \n",
    "                           suffixes=[' (transaction)', ' (addtocart)'])\n",
    "df_merged = df_merged.merge(datetime_view, how='inner', on=['visitorid','itemid'])\n",
    "df_merged = df_merged.rename(columns={'datetime':'datetime (view)'})\n",
    "\n",
    "# Keep rows with the right time sequence (transaction after addtocart)\n",
    "df_merged = df_merged[df_merged['datetime (transaction)'] > df_merged['datetime (addtocart)']\n",
    "                     ].sort_values(['visitorid', 'itemid'])\n",
    "# Keep rows with the right time sequence (addtocart after view)\n",
    "df_merged = df_merged[df_merged['datetime (addtocart)'] > df_merged['datetime (view)']\n",
    "                     ].sort_values(['visitorid', 'itemid','datetime (transaction)',\n",
    "                                    'datetime (addtocart)', 'datetime (view)'])\n",
    "\n",
    "# Pick the firt and last view before adding to cart\n",
    "df_merged_first = df_merged.drop_duplicates(subset = ['visitorid', 'itemid'], \n",
    "                                            keep = 'first').rename(columns = {'datetime (view)':'datetime (view) first'})\n",
    "df_merged_last = df_merged.drop_duplicates(subset = ['visitorid', 'itemid'], \n",
    "                                           keep = 'last').rename(columns = {'datetime (view)':'datetime (view) last'})\n",
    "\n",
    "# Merge both dataframes together to get both columns in one dataframe\n",
    "df_merged = df_merged_last.merge(df_merged_first[['itemid', 'visitorid', 'datetime (view) first']], \n",
    "                                 how = 'left', \n",
    "                                 on = ['itemid', 'visitorid'])"
   ]
  },
  {
   "cell_type": "code",
   "execution_count": 25,
   "id": "ce11192e",
   "metadata": {},
   "outputs": [],
   "source": [
    "# Timedelta in minutes between datetime\n",
    "columns_list = ['datetime (transaction)', 'datetime (addtocart)',\n",
    "                'datetime (view) last', 'datetime (view) first']\n",
    "\n",
    "# List of new columns that will be created\n",
    "minutes_list = []\n",
    "\n",
    "# For loop to count the difference\n",
    "for index1, col1 in enumerate(columns_list):\n",
    "    for index2, col2 in enumerate(columns_list):\n",
    "        if index2 >  index1:\n",
    "            strp_col1 = '_'.join([str(i).replace('(', '').replace(')', '') for i in col1.split()][1:])\n",
    "            strp_col2 = '_'.join([str(i).replace('(', '').replace(')', '') for i in col2.split()][1:])\n",
    "            strp_col = strp_col1 + '_' + strp_col2 + '_minutes'\n",
    "            df_merged[''+strp_col+''] = ((df_merged[col1] - df_merged[col2]\n",
    "                                              ).dt.seconds // 60)%60\n",
    "            minutes_list.append(strp_col)"
   ]
  },
  {
   "cell_type": "markdown",
   "id": "0fe467c5",
   "metadata": {},
   "source": [
    "Чтобы не исказить представление о временном промежутке между просмотром (first и last) и транзакции - воспользуемся кванителями. Так мы отбросим дельты, являющиеся выбросами. "
   ]
  },
  {
   "cell_type": "code",
   "execution_count": 26,
   "id": "4acb791c",
   "metadata": {},
   "outputs": [
    {
     "name": "stdout",
     "output_type": "stream",
     "text": [
      "Среднее время между событиями addtocart и transaction составляет 4 минут.\n",
      "Среднее время между событиями view и transaction составляет 7 минут.\n",
      "Среднее время между событиями view и addtocart составляет 1 минут.\n"
     ]
    }
   ],
   "source": [
    "def quantile_check(df, col):\n",
    "    Q1 = np.quantile(df[col], .25)\n",
    "    Q3 = np.quantile(df[col], .75)\n",
    "    IQR = Q3 - Q1\n",
    "\n",
    "    left_border = Q1 - 1.5 * IQR\n",
    "    right_border = Q3 + 1.5 * IQR\n",
    "\n",
    "    left_outers = df[df[col] < left_border]\n",
    "    right_outers = df[df[col] > right_border]\n",
    "    \n",
    "    return left_border, right_border\n",
    "\n",
    "value_list = ['transaction_addtocart_minutes', 'transaction_view_last_minutes', 'addtocart_view_last_minutes']\n",
    "\n",
    "for col in minutes_list:\n",
    "    if col in value_list:\n",
    "        col1 = [i for i in col.split('_')][1]\n",
    "        col2 = [i for i in col.split('_')][0]\n",
    "        left_border, right_border = borders = quantile_check(df_merged, col)\n",
    "        minutes_temp = np.round((df_merged[col][(df_merged[col] > left_border) & \n",
    "                                                (df_merged[col] < right_border)]).mean(), decimals = 0).astype(int)\n",
    "        print(f'Среднее время между событиями',col1, 'и', col2, 'составляет',minutes_temp, 'минут.')"
   ]
  },
  {
   "cell_type": "code",
   "execution_count": 27,
   "id": "86c46c98",
   "metadata": {},
   "outputs": [
    {
     "name": "stdout",
     "output_type": "stream",
     "text": [
      "Среднее время пути пользователя от просмотра до покупки товара (по топ 10 проданных товаров) составляет 7 минут.\n"
     ]
    },
    {
     "data": {
      "image/png": "[encoded data removed]",
      "text/plain": [
       "<Figure size 1000x400 with 1 Axes>"
      ]
     },
     "metadata": {},
     "output_type": "display_data"
    }
   ],
   "source": [
    "# Проверка топ 10 товаров. Среднее время составляет 7 минут\n",
    "\n",
    "df_itemid_mean = pd.DataFrame(df_merged.groupby(['itemid'])[value_list].mean().reset_index())\n",
    "df_itemid_count = pd.DataFrame(df_merged.groupby(['itemid'])[value_list].count().reset_index())\n",
    "\n",
    "df_itemid = df_itemid_mean.merge(df_itemid_count[['itemid', 'transaction_addtocart_minutes']], \n",
    "                                 on = ['itemid'], \n",
    "                                 how = 'left', \n",
    "                                 suffixes = ['', '_count'])\n",
    "\n",
    "for col in df_itemid[value_list]:\n",
    "    df_itemid[col] = np.round(df_itemid[col])\n",
    "\n",
    "top10 = df_itemid[df_itemid['transaction_addtocart_minutes_count'] > 10\n",
    "                ].sort_values('transaction_addtocart_minutes_count').set_index('itemid')\n",
    "top10 = pd.Series(top10['transaction_addtocart_minutes'])\n",
    "\n",
    "fig, ax = plt.subplots(figsize = (10, 4))\n",
    "top10.tail(10).plot(kind = 'barh')\n",
    "\n",
    "print('Среднее время пути пользователя от просмотра до покупки товара (по топ 10 проданных товаров) составляет', \n",
    "      np.round(top10.tail(10).mean()).astype(int), 'минут.')"
   ]
  },
  {
   "cell_type": "markdown",
   "id": "8bec7a19",
   "metadata": {},
   "source": [
    "### Выводы:\n",
    "\n",
    "- Цепь событий доказана, что означает наличие дублей для рейтинговой системы (понадобится при работе с моделями). \"Повторные записи\" будут удалены, останется только конечное событие.\n",
    "- Средняя время пользователя от просмотра (последнего) до покупки товара составляет 7 минут.\n",
    "- Обнаружено самое популярное время суток для покупки товара - вечер/ночь. Самое попоулярный день недели - среда.\n",
    "- Выявлена сезонность временного ряда, что, чаще всего, означает стационнарность временного ряда - что мы доказали. К методу дифференцирования временного ряда прибигать не будем, т.к. наша модель будет ориентирована на решение проблемы рекомендаций, а не предсказаний.\n",
    "\n",
    "[Вернуться к началу](#begin)"
   ]
  },
  {
   "cell_type": "markdown",
   "id": "97ebea8f",
   "metadata": {},
   "source": [
    "<a id='analysis_items'></a>\n",
    "## Анализ свойств товаров"
   ]
  },
  {
   "cell_type": "code",
   "execution_count": 28,
   "id": "f6d2c383",
   "metadata": {},
   "outputs": [],
   "source": [
    "item_1 = pd.read_csv('3 item_properties_part1.csv')\n",
    "item_2 = pd.read_csv('4 item_properties_part2.csv')"
   ]
  },
  {
   "cell_type": "markdown",
   "id": "61ef9dea",
   "metadata": {},
   "source": [
    "Датасеты item_properties_part1 и part2 имеют конфиденциальные данные, которые были хешированы (столбец value).\n",
    "</br> Мы не можем с уверенностью сообщить назначение датасетов до анализа."
   ]
  },
  {
   "cell_type": "code",
   "execution_count": 29,
   "id": "47dfe7ef",
   "metadata": {
    "scrolled": false
   },
   "outputs": [
    {
     "name": "stdout",
     "output_type": "stream",
     "text": [
      "Датасет: item_1\n",
      "Из 10999999 записей, кол-во уникальных itemid составляет 417053.\n",
      "Первая и последняя даты item_1: 2015-05-10 - 2015-09-13\n"
     ]
    },
    {
     "data": {
      "text/html": [
       "<div>\n",
       "<style scoped>\n",
       "    .dataframe tbody tr th:only-of-type {\n",
       "        vertical-align: middle;\n",
       "    }\n",
       "\n",
       "    .dataframe tbody tr th {\n",
       "        vertical-align: top;\n",
       "    }\n",
       "\n",
       "    .dataframe thead th {\n",
       "        text-align: right;\n",
       "    }\n",
       "</style>\n",
       "<table border=\"1\" class=\"dataframe\">\n",
       "  <thead>\n",
       "    <tr style=\"text-align: right;\">\n",
       "      <th></th>\n",
       "      <th>itemid</th>\n",
       "      <th>datetime</th>\n",
       "      <th>property</th>\n",
       "      <th>value</th>\n",
       "      <th>date</th>\n",
       "    </tr>\n",
       "  </thead>\n",
       "  <tbody>\n",
       "    <tr>\n",
       "      <th>0</th>\n",
       "      <td>0</td>\n",
       "      <td>2015-05-10 03:00:00</td>\n",
       "      <td>159</td>\n",
       "      <td>519769</td>\n",
       "      <td>2015-05-10</td>\n",
       "    </tr>\n",
       "    <tr>\n",
       "      <th>1</th>\n",
       "      <td>0</td>\n",
       "      <td>2015-05-10 03:00:00</td>\n",
       "      <td>283</td>\n",
       "      <td>66094 372274 478989</td>\n",
       "      <td>2015-05-10</td>\n",
       "    </tr>\n",
       "    <tr>\n",
       "      <th>2</th>\n",
       "      <td>0</td>\n",
       "      <td>2015-07-12 03:00:00</td>\n",
       "      <td>6</td>\n",
       "      <td>1152934 1238769</td>\n",
       "      <td>2015-07-12</td>\n",
       "    </tr>\n",
       "    <tr>\n",
       "      <th>3</th>\n",
       "      <td>0</td>\n",
       "      <td>2015-07-26 03:00:00</td>\n",
       "      <td>6</td>\n",
       "      <td>1152934 1238769</td>\n",
       "      <td>2015-07-26</td>\n",
       "    </tr>\n",
       "    <tr>\n",
       "      <th>4</th>\n",
       "      <td>0</td>\n",
       "      <td>2015-08-02 03:00:00</td>\n",
       "      <td>6</td>\n",
       "      <td>1152934 1238769</td>\n",
       "      <td>2015-08-02</td>\n",
       "    </tr>\n",
       "    <tr>\n",
       "      <th>5</th>\n",
       "      <td>0</td>\n",
       "      <td>2015-08-09 03:00:00</td>\n",
       "      <td>6</td>\n",
       "      <td>1152934 1238769</td>\n",
       "      <td>2015-08-09</td>\n",
       "    </tr>\n",
       "    <tr>\n",
       "      <th>6</th>\n",
       "      <td>0</td>\n",
       "      <td>2015-08-16 03:00:00</td>\n",
       "      <td>6</td>\n",
       "      <td>1152934 1238769</td>\n",
       "      <td>2015-08-16</td>\n",
       "    </tr>\n",
       "    <tr>\n",
       "      <th>7</th>\n",
       "      <td>0</td>\n",
       "      <td>2015-08-23 03:00:00</td>\n",
       "      <td>6</td>\n",
       "      <td>1152934 1238769</td>\n",
       "      <td>2015-08-23</td>\n",
       "    </tr>\n",
       "    <tr>\n",
       "      <th>8</th>\n",
       "      <td>0</td>\n",
       "      <td>2015-08-30 03:00:00</td>\n",
       "      <td>6</td>\n",
       "      <td>1152934 1238769</td>\n",
       "      <td>2015-08-30</td>\n",
       "    </tr>\n",
       "    <tr>\n",
       "      <th>9</th>\n",
       "      <td>0</td>\n",
       "      <td>2015-09-06 03:00:00</td>\n",
       "      <td>6</td>\n",
       "      <td>66094</td>\n",
       "      <td>2015-09-06</td>\n",
       "    </tr>\n",
       "  </tbody>\n",
       "</table>\n",
       "</div>"
      ],
      "text/plain": [
       "   itemid            datetime property                value        date\n",
       "0       0 2015-05-10 03:00:00      159               519769  2015-05-10\n",
       "1       0 2015-05-10 03:00:00      283  66094 372274 478989  2015-05-10\n",
       "2       0 2015-07-12 03:00:00        6      1152934 1238769  2015-07-12\n",
       "3       0 2015-07-26 03:00:00        6      1152934 1238769  2015-07-26\n",
       "4       0 2015-08-02 03:00:00        6      1152934 1238769  2015-08-02\n",
       "5       0 2015-08-09 03:00:00        6      1152934 1238769  2015-08-09\n",
       "6       0 2015-08-16 03:00:00        6      1152934 1238769  2015-08-16\n",
       "7       0 2015-08-23 03:00:00        6      1152934 1238769  2015-08-23\n",
       "8       0 2015-08-30 03:00:00        6      1152934 1238769  2015-08-30\n",
       "9       0 2015-09-06 03:00:00        6                66094  2015-09-06"
      ]
     },
     "metadata": {},
     "output_type": "display_data"
    },
    {
     "name": "stdout",
     "output_type": "stream",
     "text": [
      "Датасет: item_2\n",
      "Из 9275903 записей, кол-во уникальных itemid составляет 417053.\n",
      "Первая и последняя даты item_2: 2015-05-10 - 2015-09-13\n"
     ]
    },
    {
     "data": {
      "text/html": [
       "<div>\n",
       "<style scoped>\n",
       "    .dataframe tbody tr th:only-of-type {\n",
       "        vertical-align: middle;\n",
       "    }\n",
       "\n",
       "    .dataframe tbody tr th {\n",
       "        vertical-align: top;\n",
       "    }\n",
       "\n",
       "    .dataframe thead th {\n",
       "        text-align: right;\n",
       "    }\n",
       "</style>\n",
       "<table border=\"1\" class=\"dataframe\">\n",
       "  <thead>\n",
       "    <tr style=\"text-align: right;\">\n",
       "      <th></th>\n",
       "      <th>itemid</th>\n",
       "      <th>datetime</th>\n",
       "      <th>property</th>\n",
       "      <th>value</th>\n",
       "      <th>date</th>\n",
       "    </tr>\n",
       "  </thead>\n",
       "  <tbody>\n",
       "    <tr>\n",
       "      <th>0</th>\n",
       "      <td>0</td>\n",
       "      <td>2015-05-10 03:00:00</td>\n",
       "      <td>790</td>\n",
       "      <td>n91200.000</td>\n",
       "      <td>2015-05-10</td>\n",
       "    </tr>\n",
       "    <tr>\n",
       "      <th>1</th>\n",
       "      <td>0</td>\n",
       "      <td>2015-05-10 03:00:00</td>\n",
       "      <td>categoryid</td>\n",
       "      <td>209</td>\n",
       "      <td>2015-05-10</td>\n",
       "    </tr>\n",
       "    <tr>\n",
       "      <th>2</th>\n",
       "      <td>0</td>\n",
       "      <td>2015-05-31 03:00:00</td>\n",
       "      <td>764</td>\n",
       "      <td>1285872</td>\n",
       "      <td>2015-05-31</td>\n",
       "    </tr>\n",
       "    <tr>\n",
       "      <th>3</th>\n",
       "      <td>0</td>\n",
       "      <td>2015-05-17 03:00:00</td>\n",
       "      <td>698</td>\n",
       "      <td>1152934 1238769</td>\n",
       "      <td>2015-05-17</td>\n",
       "    </tr>\n",
       "    <tr>\n",
       "      <th>4</th>\n",
       "      <td>0</td>\n",
       "      <td>2015-05-24 03:00:00</td>\n",
       "      <td>139</td>\n",
       "      <td>n4800.000 270060 924073</td>\n",
       "      <td>2015-05-24</td>\n",
       "    </tr>\n",
       "    <tr>\n",
       "      <th>5</th>\n",
       "      <td>0</td>\n",
       "      <td>2015-05-24 03:00:00</td>\n",
       "      <td>202</td>\n",
       "      <td>478989</td>\n",
       "      <td>2015-05-24</td>\n",
       "    </tr>\n",
       "    <tr>\n",
       "      <th>6</th>\n",
       "      <td>0</td>\n",
       "      <td>2015-05-24 03:00:00</td>\n",
       "      <td>839</td>\n",
       "      <td>372274</td>\n",
       "      <td>2015-05-24</td>\n",
       "    </tr>\n",
       "    <tr>\n",
       "      <th>7</th>\n",
       "      <td>0</td>\n",
       "      <td>2015-05-31 03:00:00</td>\n",
       "      <td>127</td>\n",
       "      <td>1168476</td>\n",
       "      <td>2015-05-31</td>\n",
       "    </tr>\n",
       "    <tr>\n",
       "      <th>8</th>\n",
       "      <td>0</td>\n",
       "      <td>2015-05-31 03:00:00</td>\n",
       "      <td>561</td>\n",
       "      <td>1294803 101489</td>\n",
       "      <td>2015-05-31</td>\n",
       "    </tr>\n",
       "    <tr>\n",
       "      <th>9</th>\n",
       "      <td>0</td>\n",
       "      <td>2015-05-31 03:00:00</td>\n",
       "      <td>869</td>\n",
       "      <td>769062</td>\n",
       "      <td>2015-05-31</td>\n",
       "    </tr>\n",
       "  </tbody>\n",
       "</table>\n",
       "</div>"
      ],
      "text/plain": [
       "   itemid            datetime    property                    value        date\n",
       "0       0 2015-05-10 03:00:00         790               n91200.000  2015-05-10\n",
       "1       0 2015-05-10 03:00:00  categoryid                      209  2015-05-10\n",
       "2       0 2015-05-31 03:00:00         764                  1285872  2015-05-31\n",
       "3       0 2015-05-17 03:00:00         698          1152934 1238769  2015-05-17\n",
       "4       0 2015-05-24 03:00:00         139  n4800.000 270060 924073  2015-05-24\n",
       "5       0 2015-05-24 03:00:00         202                   478989  2015-05-24\n",
       "6       0 2015-05-24 03:00:00         839                   372274  2015-05-24\n",
       "7       0 2015-05-31 03:00:00         127                  1168476  2015-05-31\n",
       "8       0 2015-05-31 03:00:00         561           1294803 101489  2015-05-31\n",
       "9       0 2015-05-31 03:00:00         869                   769062  2015-05-31"
      ]
     },
     "metadata": {},
     "output_type": "display_data"
    }
   ],
   "source": [
    "item_df_list = [item_1, item_2]\n",
    "item_df_name = ['item_1', 'item_2']\n",
    "\n",
    "for index, df in enumerate(item_df_list):\n",
    "    print(f'Датасет: {item_df_name[index]}')\n",
    "\n",
    "    print(f'Из {len(df)} записей, кол-во уникальных itemid составляет {len(df.itemid.unique())}.')\n",
    "    \n",
    "\n",
    "    df['datetime'] = pd.to_datetime(df['timestamp'], unit = 'ms')\n",
    "    df['date'] = df['datetime'].dt.date\n",
    "    \n",
    "    print(f'Первая и последняя даты {item_df_name[index]}: {df.date.min()} - {df.date.max()}')\n",
    "    \n",
    "    df = df.groupby(['itemid'])[['datetime', 'property','value']].value_counts()\n",
    "    df = pd.DataFrame(df).reset_index().drop(columns = [0])\n",
    "    df['date'] = df['datetime'].dt.date\n",
    "    \n",
    "    display(df.head(10))"
   ]
  },
  {
   "cell_type": "markdown",
   "id": "29e7842b",
   "metadata": {},
   "source": [
    "Записи периодически обновляются и на один itemid может приходится несколько обновлений, которые связаны со сменой значений столбцов и/или добавлением новых значений в столбцы property и value.\n",
    "</br>\n",
    "</br>\n",
    "Наличие строковых значений в столбце обеспечило бы возможность использовать рекомендации по текстовому описанию. Но в данной задаче мы ограничены только событиями, а значит и модели будут использовать скрытую факторизацию.\n",
    "</br>\n",
    "</br>\n",
    "Как было опсиано выше, некоторые записи - это присвоение property товару, в том числе, повторное присвоение. Возможно, есть взаимосвязь между кол-вом обновлений и продаваемости товаров. Убедимся в наличии дублей."
   ]
  },
  {
   "cell_type": "code",
   "execution_count": 30,
   "id": "8cfb3c71",
   "metadata": {
    "scrolled": false
   },
   "outputs": [
    {
     "data": {
      "text/html": [
       "<div>\n",
       "<style scoped>\n",
       "    .dataframe tbody tr th:only-of-type {\n",
       "        vertical-align: middle;\n",
       "    }\n",
       "\n",
       "    .dataframe tbody tr th {\n",
       "        vertical-align: top;\n",
       "    }\n",
       "\n",
       "    .dataframe thead th {\n",
       "        text-align: right;\n",
       "    }\n",
       "</style>\n",
       "<table border=\"1\" class=\"dataframe\">\n",
       "  <thead>\n",
       "    <tr style=\"text-align: right;\">\n",
       "      <th></th>\n",
       "      <th>timestamp</th>\n",
       "      <th>itemid</th>\n",
       "      <th>property</th>\n",
       "      <th>value</th>\n",
       "      <th>datetime</th>\n",
       "      <th>date</th>\n",
       "    </tr>\n",
       "  </thead>\n",
       "  <tbody>\n",
       "    <tr>\n",
       "      <th>3461176</th>\n",
       "      <td>1433646000000</td>\n",
       "      <td>355908</td>\n",
       "      <td>1036</td>\n",
       "      <td>726612</td>\n",
       "      <td>2015-06-07 03:00:00</td>\n",
       "      <td>2015-06-07</td>\n",
       "    </tr>\n",
       "    <tr>\n",
       "      <th>4012974</th>\n",
       "      <td>1433646000000</td>\n",
       "      <td>355908</td>\n",
       "      <td>364</td>\n",
       "      <td>610075</td>\n",
       "      <td>2015-06-07 03:00:00</td>\n",
       "      <td>2015-06-07</td>\n",
       "    </tr>\n",
       "    <tr>\n",
       "      <th>6431872</th>\n",
       "      <td>1433646000000</td>\n",
       "      <td>355908</td>\n",
       "      <td>400</td>\n",
       "      <td>n600.000 424566</td>\n",
       "      <td>2015-06-07 03:00:00</td>\n",
       "      <td>2015-06-07</td>\n",
       "    </tr>\n",
       "    <tr>\n",
       "      <th>6653206</th>\n",
       "      <td>1433646000000</td>\n",
       "      <td>355908</td>\n",
       "      <td>1066</td>\n",
       "      <td>n1020.000 424566</td>\n",
       "      <td>2015-06-07 03:00:00</td>\n",
       "      <td>2015-06-07</td>\n",
       "    </tr>\n",
       "    <tr>\n",
       "      <th>7147329</th>\n",
       "      <td>1433646000000</td>\n",
       "      <td>355908</td>\n",
       "      <td>566</td>\n",
       "      <td>n726.000 424566</td>\n",
       "      <td>2015-06-07 03:00:00</td>\n",
       "      <td>2015-06-07</td>\n",
       "    </tr>\n",
       "    <tr>\n",
       "      <th>9344903</th>\n",
       "      <td>1433646000000</td>\n",
       "      <td>355908</td>\n",
       "      <td>790</td>\n",
       "      <td>n89280.000</td>\n",
       "      <td>2015-06-07 03:00:00</td>\n",
       "      <td>2015-06-07</td>\n",
       "    </tr>\n",
       "    <tr>\n",
       "      <th>9544379</th>\n",
       "      <td>1433646000000</td>\n",
       "      <td>355908</td>\n",
       "      <td>698</td>\n",
       "      <td>283006 812080</td>\n",
       "      <td>2015-06-07 03:00:00</td>\n",
       "      <td>2015-06-07</td>\n",
       "    </tr>\n",
       "  </tbody>\n",
       "</table>\n",
       "</div>"
      ],
      "text/plain": [
       "             timestamp  itemid property             value            datetime  \\\n",
       "3461176  1433646000000  355908     1036            726612 2015-06-07 03:00:00   \n",
       "4012974  1433646000000  355908      364            610075 2015-06-07 03:00:00   \n",
       "6431872  1433646000000  355908      400   n600.000 424566 2015-06-07 03:00:00   \n",
       "6653206  1433646000000  355908     1066  n1020.000 424566 2015-06-07 03:00:00   \n",
       "7147329  1433646000000  355908      566   n726.000 424566 2015-06-07 03:00:00   \n",
       "9344903  1433646000000  355908      790        n89280.000 2015-06-07 03:00:00   \n",
       "9544379  1433646000000  355908      698     283006 812080 2015-06-07 03:00:00   \n",
       "\n",
       "               date  \n",
       "3461176  2015-06-07  \n",
       "4012974  2015-06-07  \n",
       "6431872  2015-06-07  \n",
       "6653206  2015-06-07  \n",
       "7147329  2015-06-07  \n",
       "9344903  2015-06-07  \n",
       "9544379  2015-06-07  "
      ]
     },
     "execution_count": 30,
     "metadata": {},
     "output_type": "execute_result"
    }
   ],
   "source": [
    "# df_events\n",
    "df_events[(df_events['itemid'] == 355908) & (df_events['visitorid'] == 257597)]\n",
    "\n",
    "# item_1\n",
    "item_1[(item_1['itemid'] == 355908\n",
    "              ) & (item_1['date'] > datetime.datetime.strptime('15-06-01', '%y-%m-%d').date()\n",
    "                  ) & (item_1['date'] < datetime.datetime.strptime('15-06-10', '%y-%m-%d').date()\n",
    "                      )].sort_values('datetime')"
   ]
  },
  {
   "cell_type": "markdown",
   "id": "9ed236d2",
   "metadata": {},
   "source": [
    "Объеденим оба датасета в один."
   ]
  },
  {
   "cell_type": "code",
   "execution_count": 31,
   "id": "183baf60",
   "metadata": {},
   "outputs": [
    {
     "name": "stderr",
     "output_type": "stream",
     "text": [
      "C:\\Users\\leoge\\AppData\\Local\\Temp\\ipykernel_1784\\653339447.py:1: FutureWarning: The frame.append method is deprecated and will be removed from pandas in a future version. Use pandas.concat instead.\n",
      "  df_item = item_1.append(item_2)\n"
     ]
    }
   ],
   "source": [
    "df_item = item_1.append(item_2)"
   ]
  },
  {
   "cell_type": "markdown",
   "id": "2a07e1f9",
   "metadata": {},
   "source": [
    "Чтобы не вознкли проблемы с работоспособностью - сразу удалим item_properties_part1 и item_properties_part2 из временной памяти ноутбука."
   ]
  },
  {
   "cell_type": "code",
   "execution_count": 32,
   "id": "57a29965",
   "metadata": {},
   "outputs": [],
   "source": [
    "del item_1\n",
    "del item_2"
   ]
  },
  {
   "cell_type": "markdown",
   "id": "6848d15f",
   "metadata": {},
   "source": [
    "Сейчас мы можем посчитать количество обновлений, количество уникальных свойств и количество значений на товар."
   ]
  },
  {
   "cell_type": "code",
   "execution_count": 33,
   "id": "49deb452",
   "metadata": {},
   "outputs": [
    {
     "data": {
      "text/html": [
       "<div>\n",
       "<style scoped>\n",
       "    .dataframe tbody tr th:only-of-type {\n",
       "        vertical-align: middle;\n",
       "    }\n",
       "\n",
       "    .dataframe tbody tr th {\n",
       "        vertical-align: top;\n",
       "    }\n",
       "\n",
       "    .dataframe thead th {\n",
       "        text-align: right;\n",
       "    }\n",
       "</style>\n",
       "<table border=\"1\" class=\"dataframe\">\n",
       "  <thead>\n",
       "    <tr style=\"text-align: right;\">\n",
       "      <th></th>\n",
       "      <th>itemid</th>\n",
       "      <th>update_count</th>\n",
       "      <th>property_count</th>\n",
       "      <th>value_count</th>\n",
       "    </tr>\n",
       "  </thead>\n",
       "  <tbody>\n",
       "    <tr>\n",
       "      <th>107623</th>\n",
       "      <td>120386</td>\n",
       "      <td>444</td>\n",
       "      <td>53</td>\n",
       "      <td>50</td>\n",
       "    </tr>\n",
       "    <tr>\n",
       "      <th>134798</th>\n",
       "      <td>150800</td>\n",
       "      <td>459</td>\n",
       "      <td>51</td>\n",
       "      <td>44</td>\n",
       "    </tr>\n",
       "    <tr>\n",
       "      <th>82119</th>\n",
       "      <td>91855</td>\n",
       "      <td>461</td>\n",
       "      <td>53</td>\n",
       "      <td>53</td>\n",
       "    </tr>\n",
       "    <tr>\n",
       "      <th>226996</th>\n",
       "      <td>254069</td>\n",
       "      <td>462</td>\n",
       "      <td>54</td>\n",
       "      <td>55</td>\n",
       "    </tr>\n",
       "    <tr>\n",
       "      <th>142045</th>\n",
       "      <td>158903</td>\n",
       "      <td>468</td>\n",
       "      <td>55</td>\n",
       "      <td>45</td>\n",
       "    </tr>\n",
       "  </tbody>\n",
       "</table>\n",
       "</div>"
      ],
      "text/plain": [
       "        itemid  update_count  property_count  value_count\n",
       "107623  120386           444              53           50\n",
       "134798  150800           459              51           44\n",
       "82119    91855           461              53           53\n",
       "226996  254069           462              54           55\n",
       "142045  158903           468              55           45"
      ]
     },
     "execution_count": 33,
     "metadata": {},
     "output_type": "execute_result"
    }
   ],
   "source": [
    "# Counting number of updates for each itemid\n",
    "item_update = pd.DataFrame(df_item.groupby(['itemid']\n",
    "                                           )['datetime'].count()\n",
    "                            ).reset_index().rename(columns = {'datetime':'update_count'})\n",
    "\n",
    "# Counting number of unique property values for each itemid\n",
    "item_unique_property = df_item.drop_duplicates(['itemid', 'property']).groupby(['itemid'])['property'].value_counts()\n",
    "item_unique_property = pd.DataFrame(item_unique_property\n",
    "                                     ).rename(columns = {'property':'property_count'}\n",
    "                                             ).reset_index().drop('property', axis = 1)\n",
    "item_unique_property = pd.DataFrame(item_unique_property.groupby(['itemid'])['property_count'].sum()).reset_index()\n",
    "\n",
    "# Counting number of unique \"value\" for each itemid\n",
    "item_unique_value = df_item.drop_duplicates(['itemid', 'value']).groupby(['itemid'])['value'].value_counts()\n",
    "item_unique_value = pd.DataFrame(item_unique_value\n",
    "                                     ).rename(columns = {'value':'value_count'}\n",
    "                                             ).reset_index().drop('value', axis = 1)\n",
    "item_unique_value = pd.DataFrame(item_unique_value.groupby(['itemid'])['value_count'].sum()).reset_index()\n",
    "\n",
    "# Merge all three dataframes together\n",
    "item_merged = item_update.merge(item_unique_property, on = 'itemid', how = 'left'\n",
    "                                   ).merge(item_unique_value, on = 'itemid', how = 'left')\n",
    "\n",
    "item_merged.sort_values('update_count').tail(5)"
   ]
  },
  {
   "cell_type": "markdown",
   "id": "7a7c1998",
   "metadata": {},
   "source": [
    "Есть товары, где на множество property приходится меньшее кол-во value, значит одинаковое value может принадлежат нескольким property."
   ]
  },
  {
   "cell_type": "code",
   "execution_count": 34,
   "id": "64e59035",
   "metadata": {
    "scrolled": true
   },
   "outputs": [
    {
     "data": {
      "text/html": [
       "<div>\n",
       "<style scoped>\n",
       "    .dataframe tbody tr th:only-of-type {\n",
       "        vertical-align: middle;\n",
       "    }\n",
       "\n",
       "    .dataframe tbody tr th {\n",
       "        vertical-align: top;\n",
       "    }\n",
       "\n",
       "    .dataframe thead th {\n",
       "        text-align: right;\n",
       "    }\n",
       "</style>\n",
       "<table border=\"1\" class=\"dataframe\">\n",
       "  <thead>\n",
       "    <tr style=\"text-align: right;\">\n",
       "      <th></th>\n",
       "      <th>property</th>\n",
       "      <th>value</th>\n",
       "    </tr>\n",
       "  </thead>\n",
       "  <tbody>\n",
       "    <tr>\n",
       "      <th>0</th>\n",
       "      <td>0</td>\n",
       "      <td>12696</td>\n",
       "    </tr>\n",
       "    <tr>\n",
       "      <th>1</th>\n",
       "      <td>1</td>\n",
       "      <td>5649</td>\n",
       "    </tr>\n",
       "    <tr>\n",
       "      <th>2</th>\n",
       "      <td>10</td>\n",
       "      <td>468</td>\n",
       "    </tr>\n",
       "    <tr>\n",
       "      <th>3</th>\n",
       "      <td>100</td>\n",
       "      <td>209</td>\n",
       "    </tr>\n",
       "    <tr>\n",
       "      <th>4</th>\n",
       "      <td>1000</td>\n",
       "      <td>2838</td>\n",
       "    </tr>\n",
       "  </tbody>\n",
       "</table>\n",
       "</div>"
      ],
      "text/plain": [
       "  property  value\n",
       "0        0  12696\n",
       "1        1   5649\n",
       "2       10    468\n",
       "3      100    209\n",
       "4     1000   2838"
      ]
     },
     "execution_count": 34,
     "metadata": {},
     "output_type": "execute_result"
    }
   ],
   "source": [
    "property_count = pd.DataFrame(df_item.drop_duplicates(['itemid', 'property', 'value']\n",
    "                                                     ).groupby(['property'])['value'].count()\n",
    "                             ).reset_index()\n",
    "property_count.head(5)"
   ]
  },
  {
   "cell_type": "markdown",
   "id": "eaf52d6e",
   "metadata": {},
   "source": [
    "Проверим предположение, которое описал выше - больше свойств/категорий на товар - больше продаж."
   ]
  },
  {
   "cell_type": "code",
   "execution_count": 35,
   "id": "9ee0ad40",
   "metadata": {},
   "outputs": [
    {
     "data": {
      "text/html": [
       "<div>\n",
       "<style scoped>\n",
       "    .dataframe tbody tr th:only-of-type {\n",
       "        vertical-align: middle;\n",
       "    }\n",
       "\n",
       "    .dataframe tbody tr th {\n",
       "        vertical-align: top;\n",
       "    }\n",
       "\n",
       "    .dataframe thead th {\n",
       "        text-align: right;\n",
       "    }\n",
       "</style>\n",
       "<table border=\"1\" class=\"dataframe\">\n",
       "  <thead>\n",
       "    <tr style=\"text-align: right;\">\n",
       "      <th></th>\n",
       "      <th>itemid</th>\n",
       "      <th>event_count</th>\n",
       "      <th>update_count</th>\n",
       "      <th>property_count</th>\n",
       "      <th>value_count</th>\n",
       "    </tr>\n",
       "  </thead>\n",
       "  <tbody>\n",
       "  </tbody>\n",
       "</table>\n",
       "</div>"
      ],
      "text/plain": [
       "Empty DataFrame\n",
       "Columns: [itemid, event_count, update_count, property_count, value_count]\n",
       "Index: []"
      ]
     },
     "execution_count": 35,
     "metadata": {},
     "output_type": "execute_result"
    }
   ],
   "source": [
    "popular_transaction = events[events['event'] == 'transaction']\n",
    "popular_transaction = popular_transaction.groupby('itemid')['event'].value_counts().sort_values().tail(5)\n",
    "popular_transaction = pd.DataFrame(popular_transaction).rename(columns = {'event':'event_count'}\n",
    "                                                              ).reset_index().drop('event', axis = 1)\n",
    "popular_transaction_merged = popular_transaction.merge(item_merged, on = 'itemid', how = 'left')\n",
    "\n",
    "popular_property = item_merged.sort_values('property_count').tail(5)\n",
    "\n",
    "popular_transaction_merged[popular_transaction_merged['itemid'].isin(popular_property['itemid'])]"
   ]
  },
  {
   "cell_type": "markdown",
   "id": "c6ec81de",
   "metadata": {},
   "source": [
    "Топ 5 проданных товаров не входят в Топ 5 по кол-ву свойств. "
   ]
  },
  {
   "cell_type": "markdown",
   "id": "35b6e405",
   "metadata": {},
   "source": [
    "<a id='save_events'></a>\n",
    "## Сохранение: Dataset df_events"
   ]
  },
  {
   "cell_type": "code",
   "execution_count": 36,
   "id": "2a33b6ba",
   "metadata": {},
   "outputs": [],
   "source": [
    "df_events.to_csv('df_events.csv', sep = ';')"
   ]
  },
  {
   "cell_type": "markdown",
   "id": "782c4e5b",
   "metadata": {},
   "source": [
    "### Выводы:\n",
    "\n",
    "- Мало информации о истинной природы свойств товаров. При расширении доступа возможна генерация рекомендаций на основе текстового описания.\n",
    "- Возможное совпадение по категориям, что дает преимущство при разработки стратегии холодного старта - рекомендации по максимальному совпадению категорий.\n",
    "\n",
    "[Вернуться к началу](#begin)"
   ]
  },
  {
   "cell_type": "markdown",
   "id": "b8e46525",
   "metadata": {},
   "source": [
    "<a id='create_factors'></a>\n",
    "# Создание факторов для модели"
   ]
  },
  {
   "cell_type": "markdown",
   "id": "e61bcc70",
   "metadata": {},
   "source": [
    "<a id='preprocessing_rating'></a>\n",
    "## Dataset: df_temp"
   ]
  },
  {
   "cell_type": "markdown",
   "id": "0cd70305",
   "metadata": {},
   "source": [
    "С некоторыми моделями могут возникнуть проблемы масштабируемости. Сократим данные оставив только конечную цель взаимодействия между пользователем и товаром: Если товар бы приобретен и добавлен в корзину после приобретения (возможная ф-ия \"Купить в один клик\" или срез по добавлении ранее и т.д.), то считаем конечную цель - приобретение."
   ]
  },
  {
   "cell_type": "markdown",
   "id": "77bc19ef",
   "metadata": {},
   "source": [
    "### Предобработка: Получение конечного события с группировкой по пользователю и товару"
   ]
  },
  {
   "cell_type": "code",
   "execution_count": 37,
   "id": "b9ea44d2",
   "metadata": {},
   "outputs": [
    {
     "data": {
      "text/html": [
       "<div>\n",
       "<style scoped>\n",
       "    .dataframe tbody tr th:only-of-type {\n",
       "        vertical-align: middle;\n",
       "    }\n",
       "\n",
       "    .dataframe tbody tr th {\n",
       "        vertical-align: top;\n",
       "    }\n",
       "\n",
       "    .dataframe thead th {\n",
       "        text-align: right;\n",
       "    }\n",
       "</style>\n",
       "<table border=\"1\" class=\"dataframe\">\n",
       "  <thead>\n",
       "    <tr style=\"text-align: right;\">\n",
       "      <th></th>\n",
       "      <th>visitorid</th>\n",
       "      <th>itemid</th>\n",
       "      <th>event</th>\n",
       "      <th>timestamp</th>\n",
       "      <th>event_count</th>\n",
       "    </tr>\n",
       "  </thead>\n",
       "  <tbody>\n",
       "    <tr>\n",
       "      <th>2215275</th>\n",
       "      <td>152963</td>\n",
       "      <td>21970</td>\n",
       "      <td>addtocart</td>\n",
       "      <td>1442544102108</td>\n",
       "      <td>2.0</td>\n",
       "    </tr>\n",
       "    <tr>\n",
       "      <th>2215282</th>\n",
       "      <td>152963</td>\n",
       "      <td>21970</td>\n",
       "      <td>transaction</td>\n",
       "      <td>1442544192017</td>\n",
       "      <td>3.0</td>\n",
       "    </tr>\n",
       "    <tr>\n",
       "      <th>2215289</th>\n",
       "      <td>152963</td>\n",
       "      <td>21970</td>\n",
       "      <td>view</td>\n",
       "      <td>1442544216329</td>\n",
       "      <td>1.0</td>\n",
       "    </tr>\n",
       "  </tbody>\n",
       "</table>\n",
       "</div>"
      ],
      "text/plain": [
       "         visitorid  itemid        event      timestamp  event_count\n",
       "2215275     152963   21970    addtocart  1442544102108          2.0\n",
       "2215282     152963   21970  transaction  1442544192017          3.0\n",
       "2215289     152963   21970         view  1442544216329          1.0"
      ]
     },
     "metadata": {},
     "output_type": "display_data"
    },
    {
     "data": {
      "text/html": [
       "<div>\n",
       "<style scoped>\n",
       "    .dataframe tbody tr th:only-of-type {\n",
       "        vertical-align: middle;\n",
       "    }\n",
       "\n",
       "    .dataframe tbody tr th {\n",
       "        vertical-align: top;\n",
       "    }\n",
       "\n",
       "    .dataframe thead th {\n",
       "        text-align: right;\n",
       "    }\n",
       "</style>\n",
       "<table border=\"1\" class=\"dataframe\">\n",
       "  <thead>\n",
       "    <tr style=\"text-align: right;\">\n",
       "      <th></th>\n",
       "      <th>visitorid</th>\n",
       "      <th>itemid</th>\n",
       "      <th>event</th>\n",
       "      <th>timestamp</th>\n",
       "      <th>event_count</th>\n",
       "    </tr>\n",
       "  </thead>\n",
       "  <tbody>\n",
       "    <tr>\n",
       "      <th>772</th>\n",
       "      <td>435495</td>\n",
       "      <td>175893</td>\n",
       "      <td>view</td>\n",
       "      <td>1430625420342</td>\n",
       "      <td>1.0</td>\n",
       "    </tr>\n",
       "    <tr>\n",
       "      <th>846</th>\n",
       "      <td>435495</td>\n",
       "      <td>175893</td>\n",
       "      <td>addtocart</td>\n",
       "      <td>1430625831436</td>\n",
       "      <td>2.0</td>\n",
       "    </tr>\n",
       "    <tr>\n",
       "      <th>897</th>\n",
       "      <td>435495</td>\n",
       "      <td>175893</td>\n",
       "      <td>transaction</td>\n",
       "      <td>1430626058961</td>\n",
       "      <td>3.0</td>\n",
       "    </tr>\n",
       "  </tbody>\n",
       "</table>\n",
       "</div>"
      ],
      "text/plain": [
       "     visitorid  itemid        event      timestamp  event_count\n",
       "772     435495  175893         view  1430625420342          1.0\n",
       "846     435495  175893    addtocart  1430625831436          2.0\n",
       "897     435495  175893  transaction  1430626058961          3.0"
      ]
     },
     "metadata": {},
     "output_type": "display_data"
    }
   ],
   "source": [
    "df_temp = pd.DataFrame(df_events.groupby(['visitorid', 'itemid', 'event'])['timestamp'].max().sort_values()).reset_index()\n",
    "df_temp['event_count'] = df_temp['event'].apply(lambda x: 1.0 if str(x) == 'view' else (2.0 if str(x) == 'addtocart' else 3.0))\n",
    "\n",
    "display(df_temp[(df_temp['visitorid'] == 152963) & (df_temp['itemid'] == 21970)])\n",
    "display(df_temp[(df_temp['visitorid'] == 435495) & (df_temp['itemid'] == 175893)])"
   ]
  },
  {
   "cell_type": "markdown",
   "id": "cc2d719b",
   "metadata": {},
   "source": [
    "Как мы видим на примере двух пользователей, не только это цепь событий, но и с возможными аномлиями - посмотрел товар до добавления и приобретения.\n",
    "\n",
    "Чтобы избежать этого и получить конечную цель товара по пользователю - сделаем группировку с результатом последнего события."
   ]
  },
  {
   "cell_type": "code",
   "execution_count": 38,
   "id": "da673274",
   "metadata": {},
   "outputs": [
    {
     "data": {
      "text/html": [
       "<div>\n",
       "<style scoped>\n",
       "    .dataframe tbody tr th:only-of-type {\n",
       "        vertical-align: middle;\n",
       "    }\n",
       "\n",
       "    .dataframe tbody tr th {\n",
       "        vertical-align: top;\n",
       "    }\n",
       "\n",
       "    .dataframe thead th {\n",
       "        text-align: right;\n",
       "    }\n",
       "</style>\n",
       "<table border=\"1\" class=\"dataframe\">\n",
       "  <thead>\n",
       "    <tr style=\"text-align: right;\">\n",
       "      <th></th>\n",
       "      <th>visitorid</th>\n",
       "      <th>itemid</th>\n",
       "      <th>event</th>\n",
       "      <th>timestamp</th>\n",
       "      <th>event_count</th>\n",
       "    </tr>\n",
       "  </thead>\n",
       "  <tbody>\n",
       "    <tr>\n",
       "      <th>2124309</th>\n",
       "      <td>152963</td>\n",
       "      <td>21970</td>\n",
       "      <td>transaction</td>\n",
       "      <td>1442544192017</td>\n",
       "      <td>3.0</td>\n",
       "    </tr>\n",
       "  </tbody>\n",
       "</table>\n",
       "</div>"
      ],
      "text/plain": [
       "         visitorid  itemid        event      timestamp  event_count\n",
       "2124309     152963   21970  transaction  1442544192017          3.0"
      ]
     },
     "metadata": {},
     "output_type": "display_data"
    },
    {
     "data": {
      "text/html": [
       "<div>\n",
       "<style scoped>\n",
       "    .dataframe tbody tr th:only-of-type {\n",
       "        vertical-align: middle;\n",
       "    }\n",
       "\n",
       "    .dataframe tbody tr th {\n",
       "        vertical-align: top;\n",
       "    }\n",
       "\n",
       "    .dataframe thead th {\n",
       "        text-align: right;\n",
       "    }\n",
       "</style>\n",
       "<table border=\"1\" class=\"dataframe\">\n",
       "  <thead>\n",
       "    <tr style=\"text-align: right;\">\n",
       "      <th></th>\n",
       "      <th>visitorid</th>\n",
       "      <th>itemid</th>\n",
       "      <th>event</th>\n",
       "      <th>timestamp</th>\n",
       "      <th>event_count</th>\n",
       "    </tr>\n",
       "  </thead>\n",
       "  <tbody>\n",
       "    <tr>\n",
       "      <th>2125780</th>\n",
       "      <td>435495</td>\n",
       "      <td>175893</td>\n",
       "      <td>transaction</td>\n",
       "      <td>1430626058961</td>\n",
       "      <td>3.0</td>\n",
       "    </tr>\n",
       "  </tbody>\n",
       "</table>\n",
       "</div>"
      ],
      "text/plain": [
       "         visitorid  itemid        event      timestamp  event_count\n",
       "2125780     435495  175893  transaction  1430626058961          3.0"
      ]
     },
     "metadata": {},
     "output_type": "display_data"
    }
   ],
   "source": [
    "df_temp = df_temp.sort_values('event_count').groupby(['visitorid', 'itemid']).tail(1).reset_index().drop(columns = ['index'])\n",
    "\n",
    "display(df_temp[(df_temp['visitorid'] == 152963) & (df_temp['itemid'] == 21970)])\n",
    "display(df_temp[(df_temp['visitorid'] == 435495) & (df_temp['itemid'] == 175893)])"
   ]
  },
  {
   "cell_type": "markdown",
   "id": "81b37ece",
   "metadata": {},
   "source": [
    "<a id='save_temp'></a>\n",
    "## Сохранение: Dataset df_temp"
   ]
  },
  {
   "cell_type": "code",
   "execution_count": 39,
   "id": "2016bdde",
   "metadata": {},
   "outputs": [],
   "source": [
    "df_temp.to_csv('df_temp.csv', sep = ';')"
   ]
  },
  {
   "cell_type": "markdown",
   "id": "6e92f37b",
   "metadata": {},
   "source": [
    "<a id='xgboost_preprocessing'></a>\n",
    "# Дополнительные признаки: df_temp_features"
   ]
  },
  {
   "cell_type": "markdown",
   "id": "99f238ea",
   "metadata": {},
   "source": [
    "Поскольку работа с градиентным бустингом и XGBoost подразуемвают использование факторов, то нам необходимо создать необходимые нам признаки. Наилучшим решением будет продолжить использовать df_temp, т.к. конечный объем данных будет слишком большим."
   ]
  },
  {
   "cell_type": "markdown",
   "id": "0e773668",
   "metadata": {},
   "source": [
    "### Features: Временные признаки"
   ]
  },
  {
   "cell_type": "code",
   "execution_count": 41,
   "id": "32e10766",
   "metadata": {},
   "outputs": [
    {
     "data": {
      "text/plain": [
       "Evening      833238\n",
       "Night        596404\n",
       "Dawn         388269\n",
       "Afternoon    227875\n",
       "Morning       99393\n",
       "Name: day_period, dtype: int64"
      ]
     },
     "execution_count": 41,
     "metadata": {},
     "output_type": "execute_result"
    }
   ],
   "source": [
    "# Copy original dataset\n",
    "df_temp_features = df_temp.copy()\n",
    "\n",
    "# Transform timestamp to datetime\n",
    "df_temp_features['datetime'] = pd.to_datetime(df_temp_features['timestamp'], unit='ms')\n",
    "df_temp_features['date'] = df_temp_features['datetime'].dt.date\n",
    "df_temp_features['day_of_week'] = df_temp_features['datetime'].map(lambda x: x.weekday() + 1)\n",
    "\n",
    "df_temp_features['year'] = df_temp_features['datetime'].map(lambda x: x.year)\n",
    "df_temp_features['month'] = df_temp_features['datetime'].map(lambda x: x.month)\n",
    "df_temp_features['day'] = df_temp_features['datetime'].map(lambda x: x.day)\n",
    "df_temp_features['hour'] = df_temp_features['datetime'].map(lambda x: x.hour)\n",
    "df_temp_features['minute'] = df_temp_features['datetime'].map(lambda x: x.minute)\n",
    "\n",
    "def get_time_periods(hour):\n",
    "    if hour >= 3 and hour < 7:\n",
    "        return 'Dawn'\n",
    "    elif hour >= 7 and hour < 12:\n",
    "        return 'Morning'\n",
    "    elif hour >= 12 and hour < 16:\n",
    "        return 'Afternoon'\n",
    "    elif hour >= 16 and hour < 22:\n",
    "        return 'Evening'\n",
    "    else:\n",
    "        return 'Night'\n",
    "    \n",
    "df_temp_features['day_period'] = df_temp_features['hour'].map(get_time_periods)\n",
    "df_temp_features['day_period'].value_counts()"
   ]
  },
  {
   "cell_type": "code",
   "execution_count": 42,
   "id": "d5c06ecc",
   "metadata": {},
   "outputs": [],
   "source": [
    "# OneHotEncoder\n",
    "encoder = OneHotEncoder(handle_unknown='ignore')\n",
    "encoder_array = encoder.fit_transform(df_temp_features[['day_of_week']]).toarray()\n",
    "feature_labels = np.array(encoder.categories_).ravel()\n",
    "feature_labels = list(feature_labels)\n",
    "\n",
    "count = 0\n",
    "for i in feature_labels:\n",
    "    feature_labels[count] = 'day_of_week_' + str(i)\n",
    "    count+=1\n",
    "\n",
    "encoder_df = pd.DataFrame(encoder_array, columns = feature_labels).reset_index(drop = True)\n",
    "df_temp_features = df_temp_features.reset_index(drop = True)\n",
    "df_temp_features = df_temp_features.join(encoder_df)\n",
    "\n",
    "#df_temp_features.drop(columns = ['day_of_week'], axis = 0, inplace = True)"
   ]
  },
  {
   "cell_type": "code",
   "execution_count": 44,
   "id": "114fe769",
   "metadata": {},
   "outputs": [],
   "source": [
    "item_merged = df_item.copy()\n",
    "\n",
    "del df_item"
   ]
  },
  {
   "cell_type": "markdown",
   "id": "f4f634b1",
   "metadata": {},
   "source": [
    "### Features: ParentID"
   ]
  },
  {
   "cell_type": "code",
   "execution_count": 45,
   "id": "07e90c34",
   "metadata": {
    "scrolled": true
   },
   "outputs": [],
   "source": [
    "import re\n",
    "\n",
    "# Timestamp -> Datetime\n",
    "item_merged['datetime'] = pd.to_datetime(item_merged['timestamp'], unit = 'ms')"
   ]
  },
  {
   "cell_type": "code",
   "execution_count": 46,
   "id": "e2364e83",
   "metadata": {},
   "outputs": [],
   "source": [
    "#find_string = re.compile('[a-zA-Z]+') # String pattern\n",
    "find_number = re.compile('[0-9]') # Number pattern\n",
    "\n",
    "unique_property = list(set(item_merged['property']))\n",
    "\n",
    "unique_char = set()\n",
    "for i in unique_property:\n",
    "    temp = re.sub(find_number, ' ', str(i))\n",
    "    unique_char.add(temp)\n",
    "    \n",
    "# Delete rows containing string properties\n",
    "item_merged = item_merged[~item_merged['property'].isin(unique_char)]\n",
    "\n",
    "# Groupby itemid & property\n",
    "item_merged = pd.DataFrame(item_merged.groupby(['itemid', 'property'])['datetime'].max().sort_values()).reset_index()\n",
    "\n",
    "# Leave only last 3 updates\n",
    "item_merged = item_merged.sort_values('datetime').groupby('itemid').tail(3)\n",
    "\n",
    "# Change column type\n",
    "item_merged['property'] = item_merged['property'].astype(int)\n",
    "\n",
    "# Rename column\n",
    "category_tree = category_tree.rename(columns = {'categoryid':'property'})\n",
    "\n",
    "# Merge together\n",
    "df_item_merged = pd.merge(item_merged, category_tree, on = 'property', how = 'left')\n",
    "\n",
    "# Dropna in parentid column\n",
    "df_item_merged = df_item_merged.dropna(subset = ['parentid'])\n",
    "\n",
    "# Change column type\n",
    "df_item_merged['parentid'] = df_item_merged['parentid'].astype(int)\n",
    "\n",
    "# Create unique list of parentid's\n",
    "parentid_list = sorted(list(df_item_merged['parentid'].unique()))\n",
    "\n",
    "\n",
    "\n",
    "# OneHotEncoder\n",
    "encoder = OneHotEncoder(handle_unknown='ignore')\n",
    "encoder_array = encoder.fit_transform(df_item_merged[['parentid']]).toarray()\n",
    "feature_labels = np.array(encoder.categories_).ravel()\n",
    "feature_labels = list(feature_labels)\n",
    "\n",
    "encoder_df = pd.DataFrame(encoder_array, columns = feature_labels).reset_index(drop = True)\n",
    "df_item_merged = df_item_merged.reset_index(drop = True)\n",
    "df_item_merged = df_item_merged.join(encoder_df)\n",
    "\n",
    "# Sum all features together\n",
    "df_item_merged = pd.DataFrame(df_item_merged.groupby('itemid')[parentid_list].sum()).reset_index()\n",
    "\n",
    "# Append all columns\n",
    "df_columns = []\n",
    "\n",
    "for col in df_item_merged.columns:\n",
    "    temp = str(col).replace(' ', '')\n",
    "    df_columns.append(temp)\n",
    "    \n",
    "# Change columns\n",
    "df_item_merged.columns = df_columns"
   ]
  },
  {
   "cell_type": "markdown",
   "id": "615740dd",
   "metadata": {},
   "source": [
    "### Features: Время суток"
   ]
  },
  {
   "cell_type": "code",
   "execution_count": 47,
   "id": "dc750863",
   "metadata": {},
   "outputs": [],
   "source": [
    "# OneHotEncoder\n",
    "encoder = OneHotEncoder(handle_unknown='ignore')\n",
    "encoder_array = encoder.fit_transform(df_temp_features[['day_period']]).toarray()\n",
    "feature_labels = np.array(encoder.categories_).ravel()\n",
    "\n",
    "encoder_df = pd.DataFrame(encoder_array, columns = feature_labels).reset_index(drop = True)\n",
    "df_temp_features = df_temp_features.reset_index(drop = True)\n",
    "df_temp_features = df_temp_features.join(encoder_df)\n",
    "\n",
    "# Delete unnecessary column\n",
    "df_temp_features.drop(columns = ['day_period'], inplace = True)"
   ]
  },
  {
   "cell_type": "markdown",
   "id": "e761f1d2",
   "metadata": {},
   "source": [
    "### Features: События до"
   ]
  },
  {
   "cell_type": "code",
   "execution_count": 48,
   "id": "afcbb1cc",
   "metadata": {},
   "outputs": [],
   "source": [
    "# IMPORT\n",
    "df_events = pd.read_csv('df_events.csv', sep = ';').drop(columns = ['Unnamed: 0'])\n",
    "\n",
    "# Create DF of events sum\n",
    "df_features = pd.DataFrame(df_events.groupby(['visitorid', 'itemid'])[['view',  'addtocart', 'transaction'\n",
    "                                                                      ]].sum()).reset_index()\n",
    "df_features = df_features.sort_values(['visitorid', 'itemid'])\n",
    "\n",
    "df_features = df_features.rename(columns = {'view':'view_before', 'addtocart':'addtocart_before'})\n",
    "\n",
    "columns_list = ['view', 'addtocart']\n",
    "\n",
    "for col in columns_list:\n",
    "    df_features[''+col+'_before_1'] = df_features[''+col+'_before'].apply(lambda x: 1 if x > 0 else 0)\n",
    "    df_features[''+col+'_before_5'] = df_features[''+col+'_before'].apply(lambda x: 1 if x >= 5 else 0)\n",
    "    df_features[''+col+'_before_10'] = df_features[''+col+'_before'].apply(lambda x: 1 if x >= 10 else 0)\n",
    "    df_features[''+col+'_before_50'] = df_features[''+col+'_before'].apply(lambda x: 1 if x >= 50 else 0)\n",
    "\n",
    "    df_features[''+col+'_before_count'] = df_features[''+col+'_before_50'] \\\n",
    "    + df_features[''+col+'_before_10'] \\\n",
    "    + df_features[''+col+'_before_5'] \\\n",
    "    + df_features[''+col+'_before_1']\n",
    "\n",
    "    df_features[''+col+'_before'] = df_features[''+col+'_before_count'].apply(lambda x: ''+col+'_before_1' if x == 1 else \n",
    "                                                              (''+col+'_before_5' if x == 2 else \n",
    "                                                               (''+col+'_before_10' if x == 3 else \n",
    "                                                                (''+col+'_before_50' if x == 4 else ''+col+'_before_0'))))\n",
    "\n",
    "    df_features.drop(columns = [''+col+'_before_50', ''+col+'_before_5', ''+col+'_before_1', \n",
    "                        ''+col+'_before_10', ''+col+'_before_count'], inplace = True)\n",
    "    \n",
    "# Transaction - if value equals 0 or 1 - NO transaction BEFORE\n",
    "df_features['transaction_before'] = df_features['transaction'].apply(\n",
    "    lambda x: 'transaction_before_1' if x > 1 else 'transaction_before_0')\n",
    "df_features = df_features.drop(columns = ['transaction'])"
   ]
  },
  {
   "cell_type": "code",
   "execution_count": 49,
   "id": "759ad8e0",
   "metadata": {},
   "outputs": [],
   "source": [
    "# OneHotEncoder\n",
    "ohe_columns = ['view_before', 'addtocart_before', 'transaction_before']\n",
    "\n",
    "for col in ohe_columns:\n",
    "    # OneHotEncoder\n",
    "    encoder = OneHotEncoder(handle_unknown='ignore')\n",
    "    encoder_array = encoder.fit_transform(df_features[[col]]).toarray()\n",
    "    feature_labels = np.array(encoder.categories_).ravel()\n",
    "\n",
    "    encoder_df = pd.DataFrame(encoder_array, columns = feature_labels).reset_index(drop = True)\n",
    "    df_features = df_features.reset_index(drop = True)\n",
    "    df_features = df_features.join(encoder_df)\n",
    "\n",
    "    # Delete unnecessary column\n",
    "    df_features.drop(columns = [col], inplace = True)"
   ]
  },
  {
   "cell_type": "code",
   "execution_count": 50,
   "id": "4f8437d7",
   "metadata": {},
   "outputs": [],
   "source": [
    "# Create transaction for temp\n",
    "df_temp['transaction'] = df_temp['event'].apply(lambda x: 1 if x == 'transaction' else 0)\n",
    "\n",
    "# Apply transaction to df_features from df_temp\n",
    "df_features = pd.merge(df_features, df_temp[['visitorid', 'itemid', 'transaction']], on = ['visitorid', 'itemid'], how = 'left')"
   ]
  },
  {
   "cell_type": "markdown",
   "id": "3e16cc69",
   "metadata": {},
   "source": [
    "<a id='save_all_features_light'></a>\n",
    "## Сохранение: Dataset df_all_features_light"
   ]
  },
  {
   "cell_type": "code",
   "execution_count": 51,
   "id": "b2831066",
   "metadata": {},
   "outputs": [],
   "source": [
    "# Merge BEFORE features DF & Item Merged DF\n",
    "df_all_features_light = pd.merge(df_temp_features, df_features, on = ['visitorid', 'itemid'], how = 'left')"
   ]
  },
  {
   "cell_type": "code",
   "execution_count": null,
   "id": "71a21e3c",
   "metadata": {},
   "outputs": [],
   "source": [
    "df_all_features_light.to_csv('df_all_features_light.csv', sep = ';')"
   ]
  },
  {
   "cell_type": "markdown",
   "id": "88f08f36",
   "metadata": {},
   "source": [
    "<a id='save_all_features'></a>\n",
    "## Сохранение: Dataset df_all_features"
   ]
  },
  {
   "cell_type": "markdown",
   "id": "0c097b4e",
   "metadata": {},
   "source": [
    "Внимание! Большой объем выходного файла."
   ]
  },
  {
   "cell_type": "code",
   "execution_count": 1,
   "id": "e1bcf47c",
   "metadata": {},
   "outputs": [],
   "source": [
    "# # Merge BEFORE features DF & Item Merged DF\n",
    "# df_item_features = pd.merge(df_features, df_item_merged, on = 'itemid', how = 'left')\n",
    "\n",
    "# # Merge All features DF & Item Merged DF\n",
    "# df_all_features = pd.merge(df_temp_features, df_item_features, on = ['visitorid', 'itemid'], how = 'left')\n",
    "\n",
    "# df_all_features.to_csv('df_all_features.csv', sep = ';')"
   ]
  },
  {
   "cell_type": "markdown",
   "id": "958d019b",
   "metadata": {},
   "source": [
    "<a id='end'></a>\n",
    "# Заключение на стадии анализа и предобработки:\n",
    "\n",
    "- Обработан основной датасет событий, который сформирован под рекомендательные модели.\n",
    "- Выявлены значимые признаки для предсказаний со стороны модели (отдельное семейство среди моделей GradientBoost и XGBoost), добавлены новые признаки.\n",
    "- Итоговое кол-во выгрузок составляет 4 датасета, для проведения экспериментов.\n",
    "\n",
    "[Вернуться к началу](#begin)"
   ]
  }
 ],
 "metadata": {
  "kernelspec": {
   "display_name": "Python 3 (ipykernel)",
   "language": "python",
   "name": "python3"
  },
  "language_info": {
   "codemirror_mode": {
    "name": "ipython",
    "version": 3
   },
   "file_extension": ".py",
   "mimetype": "text/x-python",
   "name": "python",
   "nbconvert_exporter": "python",
   "pygments_lexer": "ipython3",
   "version": "3.8.16"
  }
 },
 "nbformat": 4,
 "nbformat_minor": 5
}
